{
  "nbformat": 4,
  "nbformat_minor": 0,
  "metadata": {
    "accelerator": "GPU",
    "colab": {
      "provenance": [],
      "collapsed_sections": [
        "5C6p10cctvah",
        "Y8Ny4wZnNLQP",
        "spiP-T0gx7qZ",
        "4zFU8OcvJnam",
        "6pmt8oDZ2Lxa",
        "dPJIiThwVYSo",
        "GZ9ZdVpZVYsj",
        "aSyqI4ihsc71",
        "PROpLXbDVQ8L"
      ],
      "machine_shape": "hm"
    },
    "kernelspec": {
      "display_name": "Python 3",
      "name": "python3"
    },
    "language_info": {
      "name": "python"
    }
  },
  "cells": [
    {
      "cell_type": "markdown",
      "metadata": {
        "id": "B4pA1GqRUoDs"
      },
      "source": [
        "# 캔들차트 데이터 생성\n"
      ]
    },
    {
      "cell_type": "markdown",
      "metadata": {
        "id": "53vk9JlnVHse"
      },
      "source": [
        "참고 : https://dataplay.tistory.com/37?category=845492"
      ]
    },
    {
      "cell_type": "markdown",
      "metadata": {
        "id": "YwWkUvpy8GO_"
      },
      "source": [
        "참고코드 : https://colab.research.google.com/drive/1WXG3cohwO6_0mbmB9CdT37cc1jfE2Zon"
      ]
    },
    {
      "cell_type": "code",
      "metadata": {
        "colab": {
          "base_uri": "https://localhost:8080/"
        },
        "id": "ecKTs5RpGkmA",
        "outputId": "3a5a18c8-5e97-467e-8223-b7bd05498045"
      },
      "source": [
        "!pip install mpl_finance\n",
        "!pip install -U finance_datareader"
      ],
      "execution_count": null,
      "outputs": [
        {
          "output_type": "stream",
          "text": [
            "Collecting mpl_finance\n",
            "  Downloading https://files.pythonhosted.org/packages/9d/de/8169ea4403d6cb8322e74cc48b6834d1dfbed81931d17f1f26b2140160d8/mpl_finance-0.10.1-py3-none-any.whl\n",
            "Requirement already satisfied: matplotlib in /usr/local/lib/python3.7/dist-packages (from mpl_finance) (3.2.2)\n",
            "Requirement already satisfied: cycler>=0.10 in /usr/local/lib/python3.7/dist-packages (from matplotlib->mpl_finance) (0.10.0)\n",
            "Requirement already satisfied: pyparsing!=2.0.4,!=2.1.2,!=2.1.6,>=2.0.1 in /usr/local/lib/python3.7/dist-packages (from matplotlib->mpl_finance) (2.4.7)\n",
            "Requirement already satisfied: numpy>=1.11 in /usr/local/lib/python3.7/dist-packages (from matplotlib->mpl_finance) (1.19.5)\n",
            "Requirement already satisfied: python-dateutil>=2.1 in /usr/local/lib/python3.7/dist-packages (from matplotlib->mpl_finance) (2.8.1)\n",
            "Requirement already satisfied: kiwisolver>=1.0.1 in /usr/local/lib/python3.7/dist-packages (from matplotlib->mpl_finance) (1.3.1)\n",
            "Requirement already satisfied: six in /usr/local/lib/python3.7/dist-packages (from cycler>=0.10->matplotlib->mpl_finance) (1.15.0)\n",
            "Installing collected packages: mpl-finance\n",
            "Successfully installed mpl-finance-0.10.1\n",
            "Collecting finance_datareader\n",
            "  Downloading https://files.pythonhosted.org/packages/83/5e/54306e72b5ff5d5ec6cc9f32cdf19602237f9bb70d64efcd527338388be3/finance_datareader-0.9.31-py3-none-any.whl\n",
            "Requirement already satisfied, skipping upgrade: tqdm in /usr/local/lib/python3.7/dist-packages (from finance_datareader) (4.41.1)\n",
            "Requirement already satisfied, skipping upgrade: requests>=2.3.0 in /usr/local/lib/python3.7/dist-packages (from finance_datareader) (2.23.0)\n",
            "Collecting requests-file\n",
            "  Downloading https://files.pythonhosted.org/packages/77/86/cdb5e8eaed90796aa83a6d9f75cfbd37af553c47a291cd47bc410ef9bdb2/requests_file-1.5.1-py2.py3-none-any.whl\n",
            "Requirement already satisfied, skipping upgrade: lxml in /usr/local/lib/python3.7/dist-packages (from finance_datareader) (4.2.6)\n",
            "Requirement already satisfied, skipping upgrade: pandas>=0.19.2 in /usr/local/lib/python3.7/dist-packages (from finance_datareader) (1.1.5)\n",
            "Requirement already satisfied, skipping upgrade: idna<3,>=2.5 in /usr/local/lib/python3.7/dist-packages (from requests>=2.3.0->finance_datareader) (2.10)\n",
            "Requirement already satisfied, skipping upgrade: urllib3!=1.25.0,!=1.25.1,<1.26,>=1.21.1 in /usr/local/lib/python3.7/dist-packages (from requests>=2.3.0->finance_datareader) (1.24.3)\n",
            "Requirement already satisfied, skipping upgrade: certifi>=2017.4.17 in /usr/local/lib/python3.7/dist-packages (from requests>=2.3.0->finance_datareader) (2021.5.30)\n",
            "Requirement already satisfied, skipping upgrade: chardet<4,>=3.0.2 in /usr/local/lib/python3.7/dist-packages (from requests>=2.3.0->finance_datareader) (3.0.4)\n",
            "Requirement already satisfied, skipping upgrade: six in /usr/local/lib/python3.7/dist-packages (from requests-file->finance_datareader) (1.15.0)\n",
            "Requirement already satisfied, skipping upgrade: python-dateutil>=2.7.3 in /usr/local/lib/python3.7/dist-packages (from pandas>=0.19.2->finance_datareader) (2.8.1)\n",
            "Requirement already satisfied, skipping upgrade: pytz>=2017.2 in /usr/local/lib/python3.7/dist-packages (from pandas>=0.19.2->finance_datareader) (2018.9)\n",
            "Requirement already satisfied, skipping upgrade: numpy>=1.15.4 in /usr/local/lib/python3.7/dist-packages (from pandas>=0.19.2->finance_datareader) (1.19.5)\n",
            "Installing collected packages: requests-file, finance-datareader\n",
            "Successfully installed finance-datareader-0.9.31 requests-file-1.5.1\n"
          ],
          "name": "stdout"
        }
      ]
    },
    {
      "cell_type": "code",
      "metadata": {
        "id": "5tk5GAWQU5gV"
      },
      "source": [
        "import os\n",
        "import pandas as pd\n",
        "import numpy as np\n",
        "import matplotlib.pyplot as plt\n",
        "from pathlib import Path\n",
        "import FinanceDataReader as fdr\n",
        "\n",
        "from shutil import copyfile, move\n",
        "from mpl_finance import candlestick2_ochl"
      ],
      "execution_count": null,
      "outputs": []
    },
    {
      "cell_type": "markdown",
      "metadata": {
        "id": "uHRMT0S7YyQo"
      },
      "source": [
        "도지 코인 파일 불러오기\n"
      ]
    },
    {
      "cell_type": "code",
      "metadata": {
        "id": "nXv0Bbmd76x9"
      },
      "source": [
        "data =  fdr.DataReader(\"KS11\", '1999-01-01', '2019-12-30')"
      ],
      "execution_count": null,
      "outputs": []
    },
    {
      "cell_type": "code",
      "metadata": {
        "id": "6cWobfBz8FCc"
      },
      "source": [
        "data = data.reset_index(drop=True)"
      ],
      "execution_count": null,
      "outputs": []
    },
    {
      "cell_type": "code",
      "metadata": {
        "colab": {
          "base_uri": "https://localhost:8080/",
          "height": 422
        },
        "id": "wFYjoox_n0ok",
        "outputId": "aa122219-508a-43a4-d42b-286b2cb6ef16"
      },
      "source": [
        "data"
      ],
      "execution_count": null,
      "outputs": [
        {
          "output_type": "execute_result",
          "data": {
            "text/html": [
              "<div>\n",
              "<style scoped>\n",
              "    .dataframe tbody tr th:only-of-type {\n",
              "        vertical-align: middle;\n",
              "    }\n",
              "\n",
              "    .dataframe tbody tr th {\n",
              "        vertical-align: top;\n",
              "    }\n",
              "\n",
              "    .dataframe thead th {\n",
              "        text-align: right;\n",
              "    }\n",
              "</style>\n",
              "<table border=\"1\" class=\"dataframe\">\n",
              "  <thead>\n",
              "    <tr style=\"text-align: right;\">\n",
              "      <th></th>\n",
              "      <th>Close</th>\n",
              "      <th>Open</th>\n",
              "      <th>High</th>\n",
              "      <th>Low</th>\n",
              "      <th>Volume</th>\n",
              "      <th>Change</th>\n",
              "    </tr>\n",
              "  </thead>\n",
              "  <tbody>\n",
              "    <tr>\n",
              "      <th>0</th>\n",
              "      <td>587.57</td>\n",
              "      <td>565.10</td>\n",
              "      <td>600.45</td>\n",
              "      <td>565.10</td>\n",
              "      <td>198370000.0</td>\n",
              "      <td>0.0446</td>\n",
              "    </tr>\n",
              "    <tr>\n",
              "      <th>1</th>\n",
              "      <td>598.55</td>\n",
              "      <td>588.32</td>\n",
              "      <td>599.90</td>\n",
              "      <td>585.71</td>\n",
              "      <td>252580000.0</td>\n",
              "      <td>0.0187</td>\n",
              "    </tr>\n",
              "    <tr>\n",
              "      <th>2</th>\n",
              "      <td>612.36</td>\n",
              "      <td>600.14</td>\n",
              "      <td>612.38</td>\n",
              "      <td>596.55</td>\n",
              "      <td>260320000.0</td>\n",
              "      <td>0.0231</td>\n",
              "    </tr>\n",
              "    <tr>\n",
              "      <th>3</th>\n",
              "      <td>637.59</td>\n",
              "      <td>615.24</td>\n",
              "      <td>638.41</td>\n",
              "      <td>615.24</td>\n",
              "      <td>299020000.0</td>\n",
              "      <td>0.0412</td>\n",
              "    </tr>\n",
              "    <tr>\n",
              "      <th>4</th>\n",
              "      <td>626.33</td>\n",
              "      <td>637.24</td>\n",
              "      <td>642.54</td>\n",
              "      <td>625.56</td>\n",
              "      <td>292230000.0</td>\n",
              "      <td>-0.0177</td>\n",
              "    </tr>\n",
              "    <tr>\n",
              "      <th>...</th>\n",
              "      <td>...</td>\n",
              "      <td>...</td>\n",
              "      <td>...</td>\n",
              "      <td>...</td>\n",
              "      <td>...</td>\n",
              "      <td>...</td>\n",
              "    </tr>\n",
              "    <tr>\n",
              "      <th>5181</th>\n",
              "      <td>2203.71</td>\n",
              "      <td>2208.22</td>\n",
              "      <td>2209.20</td>\n",
              "      <td>2196.43</td>\n",
              "      <td>502030000.0</td>\n",
              "      <td>-0.0002</td>\n",
              "    </tr>\n",
              "    <tr>\n",
              "      <th>5182</th>\n",
              "      <td>2190.08</td>\n",
              "      <td>2206.23</td>\n",
              "      <td>2206.23</td>\n",
              "      <td>2187.58</td>\n",
              "      <td>569970000.0</td>\n",
              "      <td>-0.0062</td>\n",
              "    </tr>\n",
              "    <tr>\n",
              "      <th>5183</th>\n",
              "      <td>2197.93</td>\n",
              "      <td>2192.22</td>\n",
              "      <td>2198.01</td>\n",
              "      <td>2183.90</td>\n",
              "      <td>571310000.0</td>\n",
              "      <td>0.0036</td>\n",
              "    </tr>\n",
              "    <tr>\n",
              "      <th>5184</th>\n",
              "      <td>2204.21</td>\n",
              "      <td>2183.70</td>\n",
              "      <td>2215.55</td>\n",
              "      <td>2177.40</td>\n",
              "      <td>490170000.0</td>\n",
              "      <td>0.0029</td>\n",
              "    </tr>\n",
              "    <tr>\n",
              "      <th>5185</th>\n",
              "      <td>2197.67</td>\n",
              "      <td>2202.62</td>\n",
              "      <td>2208.04</td>\n",
              "      <td>2195.65</td>\n",
              "      <td>416400000.0</td>\n",
              "      <td>-0.0030</td>\n",
              "    </tr>\n",
              "  </tbody>\n",
              "</table>\n",
              "<p>5186 rows × 6 columns</p>\n",
              "</div>"
            ],
            "text/plain": [
              "        Close     Open     High      Low       Volume  Change\n",
              "0      587.57   565.10   600.45   565.10  198370000.0  0.0446\n",
              "1      598.55   588.32   599.90   585.71  252580000.0  0.0187\n",
              "2      612.36   600.14   612.38   596.55  260320000.0  0.0231\n",
              "3      637.59   615.24   638.41   615.24  299020000.0  0.0412\n",
              "4      626.33   637.24   642.54   625.56  292230000.0 -0.0177\n",
              "...       ...      ...      ...      ...          ...     ...\n",
              "5181  2203.71  2208.22  2209.20  2196.43  502030000.0 -0.0002\n",
              "5182  2190.08  2206.23  2206.23  2187.58  569970000.0 -0.0062\n",
              "5183  2197.93  2192.22  2198.01  2183.90  571310000.0  0.0036\n",
              "5184  2204.21  2183.70  2215.55  2177.40  490170000.0  0.0029\n",
              "5185  2197.67  2202.62  2208.04  2195.65  416400000.0 -0.0030\n",
              "\n",
              "[5186 rows x 6 columns]"
            ]
          },
          "metadata": {
            "tags": []
          },
          "execution_count": 5
        }
      ]
    },
    {
      "cell_type": "code",
      "metadata": {
        "colab": {
          "base_uri": "https://localhost:8080/",
          "height": 283
        },
        "id": "OX4MDmlcLRzV",
        "outputId": "9fc501c5-3714-4e10-c9a9-fc0b7fac6441"
      },
      "source": [
        "plt.plot(data['Close'])"
      ],
      "execution_count": null,
      "outputs": [
        {
          "output_type": "execute_result",
          "data": {
            "text/plain": [
              "[<matplotlib.lines.Line2D at 0x7f41d6eb6a90>]"
            ]
          },
          "metadata": {
            "tags": []
          },
          "execution_count": 6
        },
        {
          "output_type": "display_data",
          "data": {
            "image/png": "[encoded data removed]",
            "text/plain": [
              "<Figure size 432x288 with 1 Axes>"
            ]
          },
          "metadata": {
            "tags": [],
            "needs_background": "light"
          }
        }
      ]
    },
    {
      "cell_type": "code",
      "metadata": {
        "id": "zQ9bQXV7EziD"
      },
      "source": [
        "def ohlc2cs2(data, seq_len, dimension):\n",
        "    # python preprocess.py -m ohlc2cs -l 20 -i stockdatas/EWT_testing.csv -t testing\n",
        "    print(\"Converting olhc to candlestick\")\n",
        "    df = data\n",
        "    plt.style.use('dark_background')\n",
        "    figs = np.zeros((len(df)-1, dimension, dimension, 3))\n",
        "    labels = []\n",
        "    for i in range(0, len(df)-1):\n",
        "        # ohlc+volume\n",
        "        c = df.loc[i:i + int(seq_len) - 1, :]\n",
        "        c_ = df.loc[i:i + int(seq_len), :]\n",
        "        if len(c) == int(seq_len):\n",
        "            my_dpi = 96\n",
        "            fig = plt.figure(figsize=(dimension / my_dpi,\n",
        "                                      dimension / my_dpi), dpi=my_dpi)\n",
        "            ax1 = fig.add_subplot(1, 1, 1)\n",
        "            candlestick2_ochl(ax1, c['Open'], c['Close'], c['High'],\n",
        "                              c['Low'], width=1,\n",
        "                              colorup='#77d879', colordown='#db3f3f')\n",
        "            ax1.grid(False)\n",
        "            ax1.set_xticklabels([])\n",
        "            ax1.set_yticklabels([])\n",
        "            ax1.xaxis.set_visible(False)\n",
        "            ax1.yaxis.set_visible(False)\n",
        "            ax1.axis('off')\n",
        "\n",
        "            # create the second axis for the volume bar-plot\n",
        "            # Add a seconds axis for the volume overlay\n",
        "\n",
        "        starting = c_[\"Close\"].iloc[-2]\n",
        "        endvalue = c_[\"Close\"].iloc[-1]\n",
        "        if endvalue > starting :\n",
        "            label = 1\n",
        "        else :\n",
        "            label = 0\n",
        "        labels.append(label)\n",
        "\n",
        "        fig.canvas.draw()\n",
        "        fig_np = np.array(fig.canvas.renderer._renderer)\n",
        "        figs[i] = fig_np[:,:,:3]\n",
        "\n",
        "        plt.close(fig)\n",
        "        # normal length - end\n",
        "\n",
        "    print(\"Converting olhc to candlestik finished.\")\n",
        "    return figs, labels"
      ],
      "execution_count": null,
      "outputs": []
    },
    {
      "cell_type": "code",
      "metadata": {
        "colab": {
          "base_uri": "https://localhost:8080/"
        },
        "id": "V-WDQKFCE2Q-",
        "outputId": "df99abbd-33cf-4b08-a099-b730cb18752f"
      },
      "source": [
        "inputs = data\n",
        "seq_len = 30\n",
        "dimension = 48\n",
        "\n",
        "figures, labels = ohlc2cs2(inputs, seq_len, dimension)"
      ],
      "execution_count": null,
      "outputs": [
        {
          "output_type": "stream",
          "text": [
            "Converting olhc to candlestick\n",
            "Converting olhc to candlestik finished.\n"
          ],
          "name": "stdout"
        }
      ]
    },
    {
      "cell_type": "code",
      "metadata": {
        "id": "YwryKR7IJE81",
        "colab": {
          "base_uri": "https://localhost:8080/"
        },
        "outputId": "27cdfb86-d439-474b-df63-5d2bb23399cd"
      },
      "source": [
        "#위 함수로 생성된 figures는 값의 범위가 0~255 이기 때문에 0~1로 맞춰주기 위해 255로 나눕니다.\n",
        "figures = figures/255.0\n",
        "print(np.shape(labels), np.shape(figures))"
      ],
      "execution_count": null,
      "outputs": [
        {
          "output_type": "stream",
          "text": [
            "(5185,) (5185, 48, 48, 3)\n"
          ],
          "name": "stdout"
        }
      ]
    },
    {
      "cell_type": "markdown",
      "metadata": {
        "id": "1-U75_0hp65I"
      },
      "source": [
        "데이터 제너레이팅"
      ]
    },
    {
      "cell_type": "code",
      "metadata": {
        "id": "dDE80zOAJKtw"
      },
      "source": [
        "def single_stock_generator(chart, labels, batch_size) :\n",
        "    #output [chart, labels]\n",
        "    while True :\n",
        "        stock_batch = np.zeros(shape=(batch_size, dimension, dimension, 3))\n",
        "        label_batch = np.zeros(shape=(batch_size, ))\n",
        "        for i in range(batch_size) :\n",
        "            idx = np.random.randint(len(labels))\n",
        "            stock_batch[i] = chart[idx]\n",
        "            label_batch[i] = labels[idx]\n",
        "\n",
        "        yield stock_batch, label_batch"
      ],
      "execution_count": null,
      "outputs": []
    },
    {
      "cell_type": "code",
      "metadata": {
        "id": "alQfZUPKJKrM"
      },
      "source": [
        "train_len = 3474\n",
        "batch_size = 16\n",
        "train_gen = single_stock_generator(figures[:train_len], labels[:train_len], batch_size)\n",
        "test_gen = single_stock_generator(figures[train_len:], labels[train_len:], batch_size)\n"
      ],
      "execution_count": null,
      "outputs": []
    },
    {
      "cell_type": "code",
      "metadata": {
        "id": "Kc9n4_pAJKoz",
        "colab": {
          "base_uri": "https://localhost:8080/"
        },
        "outputId": "6cde6a79-f7ab-48a0-a8e8-c26467d178b8"
      },
      "source": [
        "tmp_data = next(train_gen)\n",
        "print(\"Chart image shape : \",np.shape(tmp_data[0]))\n",
        "print(\"Label shape :\",np.shape(tmp_data[1]))"
      ],
      "execution_count": null,
      "outputs": [
        {
          "output_type": "stream",
          "text": [
            "Chart image shape :  (16, 48, 48, 3)\n",
            "Label shape : (16,)\n"
          ],
          "name": "stdout"
        }
      ]
    },
    {
      "cell_type": "code",
      "metadata": {
        "id": "DyziFTLVJKmi"
      },
      "source": [
        "# 만들어진 차트 이미지 중 하나를 예시로 그려보겠습니다.\n",
        "import matplotlib as mpl\n",
        "import matplotlib.pylab as plt\n",
        "%matplotlib inline"
      ],
      "execution_count": null,
      "outputs": []
    },
    {
      "cell_type": "code",
      "metadata": {
        "id": "v0wb73ra3Act",
        "colab": {
          "base_uri": "https://localhost:8080/"
        },
        "outputId": "6d8bad94-451a-43c5-fec8-9d4ff0c42a87"
      },
      "source": [
        "len(tmp_data[0][0][:,:,:])"
      ],
      "execution_count": null,
      "outputs": [
        {
          "output_type": "execute_result",
          "data": {
            "text/plain": [
              "48"
            ]
          },
          "metadata": {
            "tags": []
          },
          "execution_count": 14
        }
      ]
    },
    {
      "cell_type": "code",
      "metadata": {
        "id": "WnHyOng6JKkS",
        "colab": {
          "base_uri": "https://localhost:8080/",
          "height": 267
        },
        "outputId": "161c2867-cd2d-423a-b22b-8b2bbffa5f0d"
      },
      "source": [
        "plt.figure()\n",
        "plt.imshow(tmp_data[0][15][:,:,:])\n",
        "plt.show()"
      ],
      "execution_count": null,
      "outputs": [
        {
          "output_type": "display_data",
          "data": {
            "image/png": "[encoded data removed]",
            "text/plain": [
              "<Figure size 432x288 with 1 Axes>"
            ]
          },
          "metadata": {
            "tags": [],
            "needs_background": "dark"
          }
        }
      ]
    },
    {
      "cell_type": "markdown",
      "metadata": {
        "id": "5C6p10cctvah"
      },
      "source": [
        "# 모듈, 라이브러리 설치"
      ]
    },
    {
      "cell_type": "code",
      "metadata": {
        "id": "UaF55R5XLAyf"
      },
      "source": [
        "# Keras의 Functional APi를 이용할 거라서 불러와줍니다.\n",
        "import tensorflow as tf\n",
        "\n",
        "from tensorflow import keras\n",
        "from tensorflow.keras import layers"
      ],
      "execution_count": null,
      "outputs": []
    },
    {
      "cell_type": "code",
      "metadata": {
        "id": "RhMOxzKWxFf-"
      },
      "source": [
        "from tensorflow import keras\n",
        "from keras.models import Sequential\n",
        "from keras import layers\n",
        "from keras.optimizers import RMSprop"
      ],
      "execution_count": null,
      "outputs": []
    },
    {
      "cell_type": "code",
      "metadata": {
        "id": "xyvxwSH9tyrS"
      },
      "source": [
        "from keras.models import Sequential\n",
        "from keras.layers import Bidirectional\n",
        "from keras.layers import LSTM\n",
        "from keras.layers import Dense\n",
        "from keras.layers import TimeDistributed\n",
        "\n",
        "import numpy as np\n",
        "import pandas as pd\n",
        "\n",
        "from sklearn import preprocessing\n",
        "from sklearn.model_selection import KFold, cross_val_score, cross_val_predict, GridSearchCV\n",
        "from sklearn.tree import DecisionTreeClassifier\n",
        "from sklearn.linear_model import LogisticRegression, Perceptron, SGDClassifier\n",
        "from sklearn.neighbors import KNeighborsClassifier\n",
        "from sklearn.naive_bayes import GaussianNB\n",
        "from sklearn.svm import SVC, LinearSVC\n",
        "from sklearn.ensemble import RandomForestClassifier , GradientBoostingClassifier\n",
        "from sklearn.model_selection import StratifiedKFold\n",
        "from sklearn.model_selection import train_test_split\n",
        "from sklearn.feature_selection import RFECV\n",
        "from sklearn.metrics import make_scorer, accuracy_score, classification_report, confusion_matrix, mean_squared_error\n",
        "\n",
        "import matplotlib as mpl\n",
        "import matplotlib.pyplot as plt\n",
        "import matplotlib.pylab as pylab\n",
        "import seaborn as sns\n",
        "from pandas import get_dummies\n",
        "import xgboost as xgb\n",
        "import scipy\n",
        "import math\n",
        "import json\n",
        "import sys\n",
        "import csv\n",
        "import os\n",
        "import tqdm\n",
        "import keras\n",
        "from keras.models import Sequential\n",
        "from keras.layers import Dense, LSTM, Dropout, GRU, Bidirectional\n",
        "from keras.optimizers import SGD\n",
        "from tqdm import tqdm_notebook\n",
        "\n"
      ],
      "execution_count": null,
      "outputs": []
    },
    {
      "cell_type": "markdown",
      "metadata": {
        "id": "Y8Ny4wZnNLQP"
      },
      "source": [
        "# ANN\n"
      ]
    },
    {
      "cell_type": "code",
      "metadata": {
        "id": "NfADlqcEy3q5"
      },
      "source": [
        "x_batch = next(train_gen)"
      ],
      "execution_count": null,
      "outputs": []
    },
    {
      "cell_type": "code",
      "metadata": {
        "colab": {
          "base_uri": "https://localhost:8080/"
        },
        "id": "8eDruWsKy9Eh",
        "outputId": "56b47f4c-d588-4771-cf63-093ac5c2c54a"
      },
      "source": [
        "np.shape(x_batch[0])"
      ],
      "execution_count": null,
      "outputs": [
        {
          "output_type": "execute_result",
          "data": {
            "text/plain": [
              "(16, 48, 48, 3)"
            ]
          },
          "metadata": {
            "tags": []
          },
          "execution_count": 23
        }
      ]
    },
    {
      "cell_type": "markdown",
      "metadata": {
        "id": "PWdW6vAD2ViV"
      },
      "source": [
        "참고 코드 : https://colab.research.google.com/drive/1rIylR9RWEckndbyFNx1Wl_yUQZUF-wyI#scrollTo=70zNPAmbZcGh"
      ]
    },
    {
      "cell_type": "code",
      "metadata": {
        "id": "gcfK7Bqje2n-",
        "colab": {
          "base_uri": "https://localhost:8080/"
        },
        "outputId": "c4ae0f56-1bb5-4e68-a15e-209050bb3cee"
      },
      "source": [
        "inputs = keras.Input(shape=(48, 48, 3))\n",
        "x = inputs\n",
        "x = layers.Flatten()(x)\n",
        "x = layers.Dense(32, activation='relu')(x)\n",
        "x = layers.Dense(1, activation='sigmoid')(x)\n",
        "outputs = x\n",
        "\n",
        "ANN = keras.Model(inputs, outputs)\n",
        "ANN.summary()"
      ],
      "execution_count": null,
      "outputs": [
        {
          "output_type": "stream",
          "text": [
            "Model: \"model\"\n",
            "_________________________________________________________________\n",
            "Layer (type)                 Output Shape              Param #   \n",
            "=================================================================\n",
            "input_1 (InputLayer)         [(None, 48, 48, 3)]       0         \n",
            "_________________________________________________________________\n",
            "flatten (Flatten)            (None, 6912)              0         \n",
            "_________________________________________________________________\n",
            "dense (Dense)                (None, 32)                221216    \n",
            "_________________________________________________________________\n",
            "dense_1 (Dense)              (None, 1)                 33        \n",
            "=================================================================\n",
            "Total params: 221,249\n",
            "Trainable params: 221,249\n",
            "Non-trainable params: 0\n",
            "_________________________________________________________________\n"
          ],
          "name": "stdout"
        }
      ]
    },
    {
      "cell_type": "code",
      "metadata": {
        "id": "RwUI2JDURsTY",
        "colab": {
          "base_uri": "https://localhost:8080/"
        },
        "outputId": "281b56f3-b05f-4b8a-c219-5da7d2cc9863"
      },
      "source": [
        "#정확도\n",
        "num_iters = train_len // batch_size\n",
        "num_epochs = 11\n",
        "optimizer = tf.keras.optimizers.Adam(0.0001)\n",
        "loss_fn = tf.keras.losses.BinaryCrossentropy()\n",
        "acc_fn = tf.keras.metrics.BinaryAccuracy()\n",
        "num_test_iters = num_iters // 4\n",
        "\n",
        "for epoch in range(num_epochs) :\n",
        "    epoch_loss_avg = tf.keras.metrics.Mean()\n",
        "    val_loss_avg = tf.keras.metrics.Mean()\n",
        "    epoch_acc_avg = tf.keras.metrics.Mean()\n",
        "    val_acc_avg = tf.keras.metrics.Mean()\n",
        "\n",
        "    for iter in range(num_iters) :\n",
        "        x_batch, y_batch = next(train_gen)\n",
        "        y_batch = y_batch.reshape(-1,1)\n",
        "        y_ = ANN(x_batch)\n",
        "        loss_value = loss_fn(y_batch, y_)\n",
        "        acc_value = acc_fn(y_batch, y_)\n",
        "        epoch_loss_avg(loss_value)\n",
        "        epoch_acc_avg(acc_value)\n",
        "\n",
        "    for iter in range(num_test_iters) :\n",
        "        x_batch, y_batch = next(test_gen)\n",
        "        y_batch = y_batch.reshape(-1,1)\n",
        "        y_= ANN(x_batch)\n",
        "        loss_value2 = loss_fn(y_batch, y_)\n",
        "        acc_value2 = acc_fn(y_batch, y_)\n",
        "        val_loss_avg(loss_value2)\n",
        "        val_acc_avg(acc_value2)\n",
        "\n",
        "\n",
        "\n",
        "    print(\"Epoch {:03d}: , Train Loss: {:.5f} , Train acc: {:.5f}\".format(epoch, epoch_loss_avg.result(), epoch_acc_avg.result()))\n",
        "    print(\"Val_Loss: {:.3f}, Val_acc: {:.3f}\".format(val_loss_avg.result(), val_acc_avg.result()))\n",
        "\n",
        "ANN_loss = float(format(val_loss_avg.result()))\n",
        "ANN_ACC = float(format(val_acc_avg.result()))"
      ],
      "execution_count": null,
      "outputs": [
        {
          "output_type": "stream",
          "text": [
            "Epoch 000: , Train Loss: 0.70286 , Train acc: 0.48526\n",
            "Val_Loss: 0.700, Val_acc: 0.482\n",
            "Epoch 001: , Train Loss: 0.70347 , Train acc: 0.48046\n",
            "Val_Loss: 0.703, Val_acc: 0.478\n",
            "Epoch 002: , Train Loss: 0.70703 , Train acc: 0.47468\n",
            "Val_Loss: 0.701, Val_acc: 0.473\n",
            "Epoch 003: , Train Loss: 0.70056 , Train acc: 0.47591\n",
            "Val_Loss: 0.703, Val_acc: 0.477\n",
            "Epoch 004: , Train Loss: 0.70757 , Train acc: 0.47558\n",
            "Val_Loss: 0.706, Val_acc: 0.475\n",
            "Epoch 005: , Train Loss: 0.70687 , Train acc: 0.47293\n",
            "Val_Loss: 0.698, Val_acc: 0.473\n",
            "Epoch 006: , Train Loss: 0.70442 , Train acc: 0.47296\n",
            "Val_Loss: 0.689, Val_acc: 0.474\n",
            "Epoch 007: , Train Loss: 0.70209 , Train acc: 0.47476\n",
            "Val_Loss: 0.701, Val_acc: 0.475\n",
            "Epoch 008: , Train Loss: 0.70532 , Train acc: 0.47593\n",
            "Val_Loss: 0.698, Val_acc: 0.476\n",
            "Epoch 009: , Train Loss: 0.70565 , Train acc: 0.47552\n",
            "Val_Loss: 0.700, Val_acc: 0.476\n",
            "Epoch 010: , Train Loss: 0.70377 , Train acc: 0.47601\n",
            "Val_Loss: 0.698, Val_acc: 0.476\n"
          ],
          "name": "stdout"
        }
      ]
    },
    {
      "cell_type": "code",
      "metadata": {
        "id": "BRj-rj3Dncc8",
        "colab": {
          "base_uri": "https://localhost:8080/"
        },
        "outputId": "678fc1a7-1807-4244-c5a6-d1d9f4dabe80"
      },
      "source": [
        "ANN_ACC"
      ],
      "execution_count": null,
      "outputs": [
        {
          "output_type": "execute_result",
          "data": {
            "text/plain": [
              "0.4762704074382782"
            ]
          },
          "metadata": {
            "tags": []
          },
          "execution_count": 21
        }
      ]
    },
    {
      "cell_type": "markdown",
      "metadata": {
        "id": "spiP-T0gx7qZ"
      },
      "source": [
        "# 1D CNN"
      ]
    },
    {
      "cell_type": "code",
      "metadata": {
        "id": "sbg6L2dn9fJj",
        "colab": {
          "base_uri": "https://localhost:8080/"
        },
        "outputId": "db8efd86-1d70-449f-bc51-c62049ef3571"
      },
      "source": [
        "inputs = keras.Input(shape=(48, 48, 3))\n",
        "x = inputs\n",
        "x = layers.Conv1D(filters=32, kernel_size=5, padding=\"causal\",activation=\"relu\")(x)\n",
        "x = layers.Flatten()(x)\n",
        "x = layers.Dense(16, activation=\"relu\")(x)\n",
        "x = layers.Dense(1, activation='sigmoid')(x)\n",
        "outputs = x\n",
        "\n",
        "CNN1D = keras.Model(inputs, outputs)\n",
        "CNN1D.summary()"
      ],
      "execution_count": null,
      "outputs": [
        {
          "output_type": "stream",
          "text": [
            "Model: \"model_1\"\n",
            "_________________________________________________________________\n",
            "Layer (type)                 Output Shape              Param #   \n",
            "=================================================================\n",
            "input_2 (InputLayer)         [(None, 48, 48, 3)]       0         \n",
            "_________________________________________________________________\n",
            "conv1d (Conv1D)              (None, 48, 48, 32)        512       \n",
            "_________________________________________________________________\n",
            "flatten_1 (Flatten)          (None, 73728)             0         \n",
            "_________________________________________________________________\n",
            "dense_2 (Dense)              (None, 16)                1179664   \n",
            "_________________________________________________________________\n",
            "dense_3 (Dense)              (None, 1)                 17        \n",
            "=================================================================\n",
            "Total params: 1,180,193\n",
            "Trainable params: 1,180,193\n",
            "Non-trainable params: 0\n",
            "_________________________________________________________________\n"
          ],
          "name": "stdout"
        }
      ]
    },
    {
      "cell_type": "code",
      "metadata": {
        "id": "olS1wlkpyz3A",
        "colab": {
          "base_uri": "https://localhost:8080/"
        },
        "outputId": "aa9c366f-2bc5-4672-c927-46e1de47d98b"
      },
      "source": [
        "#정확도\n",
        "num_iters = train_len // batch_size\n",
        "num_epochs = 11\n",
        "optimizer = tf.keras.optimizers.Adam(0.0001)\n",
        "loss_fn = tf.keras.losses.BinaryCrossentropy()\n",
        "acc_fn = tf.keras.metrics.BinaryAccuracy()\n",
        "num_test_iters = num_iters // 4\n",
        "for epoch in range(num_epochs) :\n",
        "    epoch_loss_avg = tf.keras.metrics.Mean()\n",
        "    val_loss_avg = tf.keras.metrics.Mean()\n",
        "    epoch_acc_avg = tf.keras.metrics.Mean()\n",
        "    val_acc_avg = tf.keras.metrics.Mean()\n",
        "\n",
        "    for iter in range(num_iters) :\n",
        "        x_batch, y_batch = next(train_gen)\n",
        "        y_batch = y_batch.reshape(-1,1)\n",
        "        y_ = CNN1D(x_batch)\n",
        "        loss_value = loss_fn(y_batch, y_)\n",
        "        acc_value = acc_fn(y_batch, y_)\n",
        "        epoch_loss_avg(loss_value)\n",
        "        epoch_acc_avg(acc_value)\n",
        "\n",
        "    for iter in range(num_test_iters) :\n",
        "        x_batch, y_batch = next(test_gen)\n",
        "        y_batch = y_batch.reshape(-1,1)\n",
        "        y_= CNN1D(x_batch)\n",
        "        loss_value2 = loss_fn(y_batch, y_)\n",
        "        acc_value2 = acc_fn(y_batch, y_)\n",
        "        val_loss_avg(loss_value2)\n",
        "        val_acc_avg(acc_value2)\n",
        "\n",
        "\n",
        "\n",
        "    print(\"Epoch {:03d}: , Train Loss: {:.5f} , Train acc: {:.5f}\".format(epoch, epoch_loss_avg.result(), epoch_acc_avg.result()))\n",
        "    print(\"Val_Loss: {:.3f}, Val_acc: {:.3f}\".format(val_loss_avg.result(), val_acc_avg.result()))\n",
        "\n",
        "CNN1D_loss = float(format(val_loss_avg.result()))\n",
        "CNN1D_ACC = float(format(val_acc_avg.result()))"
      ],
      "execution_count": null,
      "outputs": [
        {
          "output_type": "stream",
          "text": [
            "Epoch 000: , Train Loss: 0.69208 , Train acc: 0.52743\n",
            "Val_Loss: 0.692, Val_acc: 0.528\n",
            "Epoch 001: , Train Loss: 0.68790 , Train acc: 0.53468\n",
            "Val_Loss: 0.696, Val_acc: 0.538\n",
            "Epoch 002: , Train Loss: 0.69110 , Train acc: 0.53752\n",
            "Val_Loss: 0.691, Val_acc: 0.537\n",
            "Epoch 003: , Train Loss: 0.69237 , Train acc: 0.53463\n",
            "Val_Loss: 0.696, Val_acc: 0.533\n",
            "Epoch 004: , Train Loss: 0.68949 , Train acc: 0.53331\n",
            "Val_Loss: 0.692, Val_acc: 0.535\n",
            "Epoch 005: , Train Loss: 0.69189 , Train acc: 0.53491\n",
            "Val_Loss: 0.696, Val_acc: 0.534\n",
            "Epoch 006: , Train Loss: 0.69129 , Train acc: 0.53317\n",
            "Val_Loss: 0.691, Val_acc: 0.533\n",
            "Epoch 007: , Train Loss: 0.69117 , Train acc: 0.53418\n",
            "Val_Loss: 0.695, Val_acc: 0.534\n",
            "Epoch 008: , Train Loss: 0.68972 , Train acc: 0.53417\n",
            "Val_Loss: 0.691, Val_acc: 0.535\n",
            "Epoch 009: , Train Loss: 0.68858 , Train acc: 0.53597\n",
            "Val_Loss: 0.697, Val_acc: 0.536\n",
            "Epoch 010: , Train Loss: 0.69204 , Train acc: 0.53551\n",
            "Val_Loss: 0.689, Val_acc: 0.535\n"
          ],
          "name": "stdout"
        }
      ]
    },
    {
      "cell_type": "code",
      "metadata": {
        "id": "TQ2fGoU9zlph",
        "colab": {
          "base_uri": "https://localhost:8080/"
        },
        "outputId": "98be9141-6c64-425f-a6b3-89bd2e4d63f4"
      },
      "source": [
        "CNN1D_ACC"
      ],
      "execution_count": null,
      "outputs": [
        {
          "output_type": "execute_result",
          "data": {
            "text/plain": [
              "0.535446286201477"
            ]
          },
          "metadata": {
            "tags": []
          },
          "execution_count": 24
        }
      ]
    },
    {
      "cell_type": "markdown",
      "metadata": {
        "id": "4zFU8OcvJnam"
      },
      "source": [
        "# CNN"
      ]
    },
    {
      "cell_type": "markdown",
      "metadata": {
        "id": "v0Ln0Vf4J5xm"
      },
      "source": [
        "참고 논문 : Using Deep Learning Neural Networks and Candlestick chart Representation to Predict Stock Market\n",
        "https://arxiv.org/pdf/1903.12258.pdf"
      ]
    },
    {
      "cell_type": "markdown",
      "metadata": {
        "id": "3fZ1KZKbMk6x"
      },
      "source": [
        "다음날 종가가 상승이냐 아니냐를 맞추는 binary classification 문제"
      ]
    },
    {
      "cell_type": "code",
      "metadata": {
        "id": "5r9oU4VTtc07",
        "colab": {
          "base_uri": "https://localhost:8080/"
        },
        "outputId": "aff9b7db-0181-4f0f-9de2-f0e68cadc4d7"
      },
      "source": [
        "inputs = keras.Input(shape=(48, 48, 3))\n",
        "x = inputs\n",
        "x = layers.Conv2D(48, 3, activation='relu', padding=\"same\")(x)\n",
        "x = layers.MaxPooling2D(2)(x)\n",
        "x = layers.Dropout(rate=0.5)(x)\n",
        "x = layers.Conv2D(96, 3, activation='relu', padding=\"same\")(x)\n",
        "x = layers.MaxPooling2D(2)(x)\n",
        "x = layers.Dropout(rate=0.5)(x)\n",
        "x = layers.Flatten()(x)\n",
        "x = layers.Dense(1, activation='sigmoid')(x)\n",
        "outputs = x\n",
        "\n",
        "CNN = keras.Model(inputs, outputs)\n",
        "CNN.summary()"
      ],
      "execution_count": null,
      "outputs": [
        {
          "output_type": "stream",
          "text": [
            "Model: \"model_2\"\n",
            "_________________________________________________________________\n",
            "Layer (type)                 Output Shape              Param #   \n",
            "=================================================================\n",
            "input_3 (InputLayer)         [(None, 48, 48, 3)]       0         \n",
            "_________________________________________________________________\n",
            "conv2d (Conv2D)              (None, 48, 48, 48)        1344      \n",
            "_________________________________________________________________\n",
            "max_pooling2d (MaxPooling2D) (None, 24, 24, 48)        0         \n",
            "_________________________________________________________________\n",
            "dropout (Dropout)            (None, 24, 24, 48)        0         \n",
            "_________________________________________________________________\n",
            "conv2d_1 (Conv2D)            (None, 24, 24, 96)        41568     \n",
            "_________________________________________________________________\n",
            "max_pooling2d_1 (MaxPooling2 (None, 12, 12, 96)        0         \n",
            "_________________________________________________________________\n",
            "dropout_1 (Dropout)          (None, 12, 12, 96)        0         \n",
            "_________________________________________________________________\n",
            "flatten_2 (Flatten)          (None, 13824)             0         \n",
            "_________________________________________________________________\n",
            "dense_4 (Dense)              (None, 1)                 13825     \n",
            "=================================================================\n",
            "Total params: 56,737\n",
            "Trainable params: 56,737\n",
            "Non-trainable params: 0\n",
            "_________________________________________________________________\n"
          ],
          "name": "stdout"
        }
      ]
    },
    {
      "cell_type": "code",
      "metadata": {
        "id": "Ux-IH5iAXR-1",
        "colab": {
          "base_uri": "https://localhost:8080/"
        },
        "outputId": "1632f8aa-11bb-4f4d-be20-5d5a0194acf9"
      },
      "source": [
        "#정확도\n",
        "num_iters = train_len // batch_size\n",
        "num_epochs = 11\n",
        "optimizer = tf.keras.optimizers.Adam(0.0001)\n",
        "loss_fn = tf.keras.losses.BinaryCrossentropy()\n",
        "acc_fn = tf.keras.metrics.BinaryAccuracy()\n",
        "num_test_iters = num_iters // 4\n",
        "for epoch in range(num_epochs) :\n",
        "    epoch_loss_avg = tf.keras.metrics.Mean()\n",
        "    val_loss_avg = tf.keras.metrics.Mean()\n",
        "    epoch_acc_avg = tf.keras.metrics.Mean()\n",
        "    val_acc_avg = tf.keras.metrics.Mean()\n",
        "\n",
        "    for iter in range(num_iters) :\n",
        "        x_batch, y_batch = next(train_gen)\n",
        "        y_batch = y_batch.reshape(-1,1)\n",
        "        y_ = CNN(x_batch)\n",
        "        loss_value = loss_fn(y_batch, y_)\n",
        "        acc_value = acc_fn(y_batch, y_)\n",
        "        epoch_loss_avg(loss_value)\n",
        "        epoch_acc_avg(acc_value)\n",
        "\n",
        "    for iter in range(num_test_iters) :\n",
        "        x_batch, y_batch = next(test_gen)\n",
        "        y_batch = y_batch.reshape(-1,1)\n",
        "        y_= CNN(x_batch)\n",
        "        loss_value2 = loss_fn(y_batch, y_)\n",
        "        acc_value2 = acc_fn(y_batch, y_)\n",
        "        val_loss_avg(loss_value2)\n",
        "        val_acc_avg(acc_value2)\n",
        "\n",
        "\n",
        "\n",
        "    print(\"Epoch {:03d}: , Train Loss: {:.5f} , Train acc: {:.5f}\".format(epoch, epoch_loss_avg.result(), epoch_acc_avg.result()))\n",
        "    print(\"Val_Loss: {:.3f}, Val_acc: {:.3f}\".format(val_loss_avg.result(), val_acc_avg.result()))\n",
        "\n",
        "CNN_loss = float(format(val_loss_avg.result()))\n",
        "CNN_ACC = float(format(val_acc_avg.result()))"
      ],
      "execution_count": null,
      "outputs": [
        {
          "output_type": "stream",
          "text": [
            "Epoch 000: , Train Loss: 0.69803 , Train acc: 0.45094\n",
            "Val_Loss: 0.696, Val_acc: 0.454\n",
            "Epoch 001: , Train Loss: 0.69831 , Train acc: 0.45888\n",
            "Val_Loss: 0.697, Val_acc: 0.457\n",
            "Epoch 002: , Train Loss: 0.69791 , Train acc: 0.45720\n",
            "Val_Loss: 0.696, Val_acc: 0.457\n",
            "Epoch 003: , Train Loss: 0.69803 , Train acc: 0.45883\n",
            "Val_Loss: 0.695, Val_acc: 0.458\n",
            "Epoch 004: , Train Loss: 0.69550 , Train acc: 0.46148\n",
            "Val_Loss: 0.697, Val_acc: 0.463\n",
            "Epoch 005: , Train Loss: 0.69663 , Train acc: 0.46415\n",
            "Val_Loss: 0.696, Val_acc: 0.465\n",
            "Epoch 006: , Train Loss: 0.69731 , Train acc: 0.46516\n",
            "Val_Loss: 0.695, Val_acc: 0.465\n",
            "Epoch 007: , Train Loss: 0.69693 , Train acc: 0.46630\n",
            "Val_Loss: 0.697, Val_acc: 0.467\n",
            "Epoch 008: , Train Loss: 0.69687 , Train acc: 0.46667\n",
            "Val_Loss: 0.695, Val_acc: 0.468\n",
            "Epoch 009: , Train Loss: 0.69750 , Train acc: 0.46739\n",
            "Val_Loss: 0.696, Val_acc: 0.467\n",
            "Epoch 010: , Train Loss: 0.69772 , Train acc: 0.46755\n",
            "Val_Loss: 0.697, Val_acc: 0.467\n"
          ],
          "name": "stdout"
        }
      ]
    },
    {
      "cell_type": "markdown",
      "metadata": {
        "id": "6pmt8oDZ2Lxa"
      },
      "source": [
        "# GRU\n"
      ]
    },
    {
      "cell_type": "markdown",
      "metadata": {
        "id": "V_IHXhdWI0WG"
      },
      "source": [
        "소스코드 : https://github.com/zutshianand/Stock-Price-Prediction/blob/master/main.ipynb"
      ]
    },
    {
      "cell_type": "code",
      "metadata": {
        "id": "m8c-rP8sQYRl",
        "colab": {
          "base_uri": "https://localhost:8080/"
        },
        "outputId": "ce804263-04e3-42a7-a381-b9085efa6be1"
      },
      "source": [
        "regressorGRU = Sequential()\n",
        "# First GRU layer with Dropout regularisation\n",
        "regressorGRU.add(GRU(units=50, return_sequences=True, input_shape=(2304, 3), activation='tanh'))\n",
        "# The output layer\n",
        "regressorGRU.add(Dense(units=1))\n",
        "regressorGRU.summary()"
      ],
      "execution_count": null,
      "outputs": [
        {
          "output_type": "stream",
          "text": [
            "Model: \"sequential\"\n",
            "_________________________________________________________________\n",
            "Layer (type)                 Output Shape              Param #   \n",
            "=================================================================\n",
            "gru (GRU)                    (None, 2304, 50)          8250      \n",
            "_________________________________________________________________\n",
            "dense_5 (Dense)              (None, 2304, 1)           51        \n",
            "=================================================================\n",
            "Total params: 8,301\n",
            "Trainable params: 8,301\n",
            "Non-trainable params: 0\n",
            "_________________________________________________________________\n"
          ],
          "name": "stdout"
        }
      ]
    },
    {
      "cell_type": "code",
      "metadata": {
        "id": "qR0wZZCjSCbd",
        "colab": {
          "base_uri": "https://localhost:8080/"
        },
        "outputId": "067dc06a-b586-4992-de58-bf3e1b57b576"
      },
      "source": [
        "#정확도\n",
        "num_iters = train_len // batch_size\n",
        "num_epochs = 11\n",
        "optimizer = tf.keras.optimizers.Adam(0.0001)\n",
        "loss_fn = tf.keras.losses.BinaryCrossentropy()\n",
        "acc_fn = tf.keras.metrics.BinaryAccuracy()\n",
        "num_test_iters = num_iters // 4\n",
        "for epoch in range(num_epochs) :\n",
        "    epoch_loss_avg = tf.keras.metrics.Mean()\n",
        "    val_loss_avg = tf.keras.metrics.Mean()\n",
        "    epoch_acc_avg = tf.keras.metrics.Mean()\n",
        "    val_acc_avg = tf.keras.metrics.Mean()\n",
        "\n",
        "    for iter in range(num_iters) :\n",
        "        x_batch, y_batch = next(train_gen)\n",
        "        x_batch = np.random.rand(16, 48, 48, 3)\n",
        "\n",
        "        x_batch = x_batch.reshape(16, 2304, 3)\n",
        "        epoch_loss_avg(loss_value)\n",
        "        epoch_acc_avg(acc_value)\n",
        "\n",
        "    for iter in range(num_test_iters) :\n",
        "        x_batch, y_batch = next(test_gen)\n",
        "        x_batch = np.random.rand(16, 48, 48, 3)\n",
        "        x_batch = x_batch.reshape(16, 2304, 3)\n",
        "        y_= regressorGRU(x_batch)\n",
        "        loss_value = loss_fn(y_batch, y_)\n",
        "        acc_value = acc_fn(y_batch, y_)\n",
        "        val_loss_avg(loss_value)\n",
        "        val_acc_avg(acc_value)\n",
        "\n",
        "\n",
        "\n",
        "    print(\"Epoch {:03d}: , Train Loss: {:.5f} , Train acc: {:.5f}\".format(epoch, epoch_loss_avg.result(), epoch_acc_avg.result()))\n",
        "    print(\"Val_Loss: {:.3f}, Val_acc: {:.3f}\".format(val_loss_avg.result(), val_acc_avg.result()))\n",
        "\n",
        "GRU_loss = float(format(val_loss_avg.result()))\n",
        "GRU_ACC = float(format(val_acc_avg.result()))"
      ],
      "execution_count": null,
      "outputs": [
        {
          "output_type": "stream",
          "text": [
            "Epoch 000: , Train Loss: 0.68942 , Train acc: 0.46716\n",
            "Val_Loss: 6.869, Val_acc: 0.533\n",
            "Epoch 001: , Train Loss: 9.30713 , Train acc: 0.49190\n",
            "Val_Loss: 7.086, Val_acc: 0.485\n",
            "Epoch 002: , Train Loss: 7.58597 , Train acc: 0.48380\n",
            "Val_Loss: 6.948, Val_acc: 0.485\n",
            "Epoch 003: , Train Loss: 6.76436 , Train acc: 0.48457\n",
            "Val_Loss: 7.037, Val_acc: 0.484\n",
            "Epoch 004: , Train Loss: 7.62096 , Train acc: 0.48322\n",
            "Val_Loss: 7.246, Val_acc: 0.478\n",
            "Epoch 005: , Train Loss: 7.61633 , Train acc: 0.47940\n",
            "Val_Loss: 6.870, Val_acc: 0.479\n",
            "Epoch 006: , Train Loss: 5.06238 , Train acc: 0.48148\n",
            "Val_Loss: 6.929, Val_acc: 0.482\n",
            "Epoch 007: , Train Loss: 6.76091 , Train acc: 0.48231\n",
            "Val_Loss: 6.869, Val_acc: 0.483\n",
            "Epoch 008: , Train Loss: 7.60641 , Train acc: 0.48351\n",
            "Val_Loss: 7.230, Val_acc: 0.483\n",
            "Epoch 009: , Train Loss: 8.45957 , Train acc: 0.48148\n",
            "Val_Loss: 6.995, Val_acc: 0.480\n",
            "Epoch 010: , Train Loss: 9.26956 , Train acc: 0.48160\n",
            "Val_Loss: 6.636, Val_acc: 0.483\n"
          ],
          "name": "stdout"
        }
      ]
    },
    {
      "cell_type": "code",
      "metadata": {
        "id": "eUWVpOXsSC4d",
        "colab": {
          "base_uri": "https://localhost:8080/"
        },
        "outputId": "94819ca8-a6d1-4bc4-d75b-a6a8b16f6e12"
      },
      "source": [
        "GRU_ACC"
      ],
      "execution_count": null,
      "outputs": [
        {
          "output_type": "execute_result",
          "data": {
            "text/plain": [
              "0.4829646646976471"
            ]
          },
          "metadata": {
            "tags": []
          },
          "execution_count": 29
        }
      ]
    },
    {
      "cell_type": "markdown",
      "metadata": {
        "id": "dPJIiThwVYSo"
      },
      "source": [
        "# LSTM"
      ]
    },
    {
      "cell_type": "code",
      "metadata": {
        "id": "Qlz42Mn1b0xI",
        "colab": {
          "base_uri": "https://localhost:8080/",
          "height": 415
        },
        "outputId": "e69267a9-a770-4af9-9f03-97dc939d7c97"
      },
      "source": [],
      "execution_count": null,
      "outputs": [
        {
          "output_type": "error",
          "ename": "ValueError",
          "evalue": "ignored",
          "traceback": [
            "\u001b[0;31m---------------------------------------------------------------------------\u001b[0m",
            "\u001b[0;31mValueError\u001b[0m                                Traceback (most recent call last)",
            "\u001b[0;32m<ipython-input-44-8739f25dc2f6>\u001b[0m in \u001b[0;36m<module>\u001b[0;34m()\u001b[0m\n\u001b[1;32m      2\u001b[0m \u001b[0mLSTM\u001b[0m \u001b[0;34m=\u001b[0m \u001b[0mSequential\u001b[0m\u001b[0;34m(\u001b[0m\u001b[0;34m)\u001b[0m\u001b[0;34m\u001b[0m\u001b[0;34m\u001b[0m\u001b[0m\n\u001b[1;32m      3\u001b[0m \u001b[0;31m# First LSTM layer with Dropout regularisation\u001b[0m\u001b[0;34m\u001b[0m\u001b[0;34m\u001b[0m\u001b[0;34m\u001b[0m\u001b[0m\n\u001b[0;32m----> 4\u001b[0;31m \u001b[0mLSTM\u001b[0m\u001b[0;34m.\u001b[0m\u001b[0madd\u001b[0m\u001b[0;34m(\u001b[0m\u001b[0mLSTM\u001b[0m\u001b[0;34m(\u001b[0m\u001b[0munits\u001b[0m\u001b[0;34m=\u001b[0m\u001b[0;36m32\u001b[0m\u001b[0;34m,\u001b[0m \u001b[0mreturn_sequences\u001b[0m\u001b[0;34m=\u001b[0m\u001b[0;32mTrue\u001b[0m\u001b[0;34m,\u001b[0m \u001b[0minput_shape\u001b[0m\u001b[0;34m=\u001b[0m\u001b[0;34m(\u001b[0m\u001b[0;36m1\u001b[0m\u001b[0;34m,\u001b[0m\u001b[0;36m1\u001b[0m\u001b[0;34m)\u001b[0m\u001b[0;34m)\u001b[0m\u001b[0;34m)\u001b[0m\u001b[0;34m\u001b[0m\u001b[0;34m\u001b[0m\u001b[0m\n\u001b[0m\u001b[1;32m      5\u001b[0m \u001b[0mLSTM\u001b[0m\u001b[0;34m.\u001b[0m\u001b[0madd\u001b[0m\u001b[0;34m(\u001b[0m\u001b[0mDropout\u001b[0m\u001b[0;34m(\u001b[0m\u001b[0;36m0.2\u001b[0m\u001b[0;34m)\u001b[0m\u001b[0;34m)\u001b[0m\u001b[0;34m\u001b[0m\u001b[0;34m\u001b[0m\u001b[0m\n\u001b[1;32m      6\u001b[0m \u001b[0;31m# Second LSTM layer\u001b[0m\u001b[0;34m\u001b[0m\u001b[0;34m\u001b[0m\u001b[0;34m\u001b[0m\u001b[0m\n",
            "\u001b[0;32m/usr/local/lib/python3.7/dist-packages/keras/engine/base_layer.py\u001b[0m in \u001b[0;36m__call__\u001b[0;34m(self, *args, **kwargs)\u001b[0m\n\u001b[1;32m    934\u001b[0m     \u001b[0;31m#   not to any other argument.\u001b[0m\u001b[0;34m\u001b[0m\u001b[0;34m\u001b[0m\u001b[0;34m\u001b[0m\u001b[0m\n\u001b[1;32m    935\u001b[0m     \u001b[0;31m# - setting the SavedModel saving spec.\u001b[0m\u001b[0;34m\u001b[0m\u001b[0;34m\u001b[0m\u001b[0;34m\u001b[0m\u001b[0m\n\u001b[0;32m--> 936\u001b[0;31m     \u001b[0minputs\u001b[0m\u001b[0;34m,\u001b[0m \u001b[0margs\u001b[0m\u001b[0;34m,\u001b[0m \u001b[0mkwargs\u001b[0m \u001b[0;34m=\u001b[0m \u001b[0mself\u001b[0m\u001b[0;34m.\u001b[0m\u001b[0m_split_out_first_arg\u001b[0m\u001b[0;34m(\u001b[0m\u001b[0margs\u001b[0m\u001b[0;34m,\u001b[0m \u001b[0mkwargs\u001b[0m\u001b[0;34m)\u001b[0m\u001b[0;34m\u001b[0m\u001b[0;34m\u001b[0m\u001b[0m\n\u001b[0m\u001b[1;32m    937\u001b[0m     \u001b[0minput_list\u001b[0m \u001b[0;34m=\u001b[0m \u001b[0mtf\u001b[0m\u001b[0;34m.\u001b[0m\u001b[0mnest\u001b[0m\u001b[0;34m.\u001b[0m\u001b[0mflatten\u001b[0m\u001b[0;34m(\u001b[0m\u001b[0minputs\u001b[0m\u001b[0;34m)\u001b[0m\u001b[0;34m\u001b[0m\u001b[0;34m\u001b[0m\u001b[0m\n\u001b[1;32m    938\u001b[0m \u001b[0;34m\u001b[0m\u001b[0m\n",
            "\u001b[0;32m/usr/local/lib/python3.7/dist-packages/keras/engine/base_layer.py\u001b[0m in \u001b[0;36m_split_out_first_arg\u001b[0;34m(self, args, kwargs)\u001b[0m\n\u001b[1;32m   2952\u001b[0m     \u001b[0;32melse\u001b[0m\u001b[0;34m:\u001b[0m\u001b[0;34m\u001b[0m\u001b[0;34m\u001b[0m\u001b[0m\n\u001b[1;32m   2953\u001b[0m       raise ValueError(\n\u001b[0;32m-> 2954\u001b[0;31m           'The first argument to `Layer.call` must always be passed.')\n\u001b[0m\u001b[1;32m   2955\u001b[0m     \u001b[0;32mreturn\u001b[0m \u001b[0minputs\u001b[0m\u001b[0;34m,\u001b[0m \u001b[0margs\u001b[0m\u001b[0;34m,\u001b[0m \u001b[0mkwargs\u001b[0m\u001b[0;34m\u001b[0m\u001b[0;34m\u001b[0m\u001b[0m\n\u001b[1;32m   2956\u001b[0m \u001b[0;34m\u001b[0m\u001b[0m\n",
            "\u001b[0;31mValueError\u001b[0m: The first argument to `Layer.call` must always be passed."
          ]
        }
      ]
    },
    {
      "cell_type": "code",
      "metadata": {
        "id": "jIhamLBPfzeC",
        "colab": {
          "base_uri": "https://localhost:8080/",
          "height": 245
        },
        "outputId": "0f448b1b-fb6f-47a6-efd1-092cc310b488"
      },
      "source": [
        "#정확도\n",
        "num_iters = train_len // batch_size\n",
        "num_epochs = 11\n",
        "optimizer = tf.keras.optimizers.Adam(0.0001)\n",
        "loss_fn = tf.keras.losses.BinaryCrossentropy()\n",
        "acc_fn = tf.keras.metrics.BinaryAccuracy()\n",
        "num_test_iters = num_iters // 4\n",
        "for epoch in range(num_epochs) :\n",
        "    epoch_loss_avg = tf.keras.metrics.Mean()\n",
        "    val_loss_avg = tf.keras.metrics.Mean()\n",
        "    epoch_acc_avg = tf.keras.metrics.Mean()\n",
        "    val_acc_avg = tf.keras.metrics.Mean()\n",
        "\n",
        "    for iter in range(num_iters) :\n",
        "        x_batch, y_batch = next(train_gen)\n",
        "        x_batch = x_batch.reshape(16, 2304, 3)\n",
        "        y_ = LSTM(x_batch)\n",
        "        loss_value = loss_fn(y_batch, y_)\n",
        "        acc_value = acc_fn(y_batch, y_)\n",
        "        epoch_loss_avg.update_state(loss_value)\n",
        "        epoch_acc_avg(acc_value)\n",
        "\n",
        "    for iter in range(num_test_iters) :\n",
        "        x_batch, y_batch = next(test_gen)\n",
        "        x_batch = x_batch.reshape(16, 2304, 3)\n",
        "        y_= LSTM(x_batch)\n",
        "        loss_value2 = loss_fn(y_batch, y_)\n",
        "        acc_value2 = acc_fn(y_batch, y_)\n",
        "        val_loss_avg.update_state(loss_value2)\n",
        "        val_acc_avg(acc_value2)\n",
        "\n",
        "\n",
        "\n",
        "    print(\"Epoch {:03d}: , Train Loss: {:.5f} , Train acc: {:.5f}\".format(epoch, epoch_loss_avg.result(), epoch_acc_avg.result()))\n",
        "    print(\"Val_Loss: {:.3f}, Val_acc: {:.3f}\".format(val_loss_avg.result(), val_acc_avg.result()))\n",
        "\n",
        "LSTM_loss = float(format(val_loss_avg.result()))\n",
        "LSTM_ACC = float(format(val_acc_avg.result()))"
      ],
      "execution_count": null,
      "outputs": [
        {
          "output_type": "error",
          "ename": "ValueError",
          "evalue": "ignored",
          "traceback": [
            "\u001b[0;31m---------------------------------------------------------------------------\u001b[0m",
            "\u001b[0;31mValueError\u001b[0m                                Traceback (most recent call last)",
            "\u001b[0;32m<ipython-input-34-c56204439eb3>\u001b[0m in \u001b[0;36m<module>\u001b[0;34m()\u001b[0m\n\u001b[1;32m     14\u001b[0m     \u001b[0;32mfor\u001b[0m \u001b[0miter\u001b[0m \u001b[0;32min\u001b[0m \u001b[0mrange\u001b[0m\u001b[0;34m(\u001b[0m\u001b[0mnum_iters\u001b[0m\u001b[0;34m)\u001b[0m \u001b[0;34m:\u001b[0m\u001b[0;34m\u001b[0m\u001b[0;34m\u001b[0m\u001b[0m\n\u001b[1;32m     15\u001b[0m         \u001b[0mx_batch\u001b[0m\u001b[0;34m,\u001b[0m \u001b[0my_batch\u001b[0m \u001b[0;34m=\u001b[0m \u001b[0mnext\u001b[0m\u001b[0;34m(\u001b[0m\u001b[0mtrain_gen\u001b[0m\u001b[0;34m)\u001b[0m\u001b[0;34m\u001b[0m\u001b[0;34m\u001b[0m\u001b[0m\n\u001b[0;32m---> 16\u001b[0;31m         \u001b[0mx_batch\u001b[0m \u001b[0;34m=\u001b[0m \u001b[0mx_batch\u001b[0m\u001b[0;34m.\u001b[0m\u001b[0mreshape\u001b[0m\u001b[0;34m(\u001b[0m\u001b[0;34m-\u001b[0m\u001b[0;36m1\u001b[0m\u001b[0;34m,\u001b[0m \u001b[0;34m-\u001b[0m\u001b[0;36m1\u001b[0m\u001b[0;34m,\u001b[0m \u001b[0;34m-\u001b[0m\u001b[0;36m1\u001b[0m\u001b[0;34m,\u001b[0m \u001b[0;36m1\u001b[0m\u001b[0;34m)\u001b[0m\u001b[0;34m\u001b[0m\u001b[0;34m\u001b[0m\u001b[0m\n\u001b[0m\u001b[1;32m     17\u001b[0m         \u001b[0mx_batch\u001b[0m \u001b[0;34m=\u001b[0m \u001b[0mx_batch\u001b[0m\u001b[0;34m.\u001b[0m\u001b[0mreshape\u001b[0m\u001b[0;34m(\u001b[0m\u001b[0;36m16\u001b[0m\u001b[0;34m,\u001b[0m \u001b[0;36m2304\u001b[0m\u001b[0;34m,\u001b[0m \u001b[0;36m1\u001b[0m\u001b[0;34m)\u001b[0m\u001b[0;34m\u001b[0m\u001b[0;34m\u001b[0m\u001b[0m\n\u001b[1;32m     18\u001b[0m         \u001b[0my_\u001b[0m \u001b[0;34m=\u001b[0m \u001b[0mLSTM\u001b[0m\u001b[0;34m(\u001b[0m\u001b[0mx_batch\u001b[0m\u001b[0;34m)\u001b[0m\u001b[0;34m\u001b[0m\u001b[0;34m\u001b[0m\u001b[0m\n",
            "\u001b[0;31mValueError\u001b[0m: can only specify one unknown dimension"
          ]
        }
      ]
    },
    {
      "cell_type": "code",
      "metadata": {
        "id": "yXMGmdwxfq95",
        "colab": {
          "base_uri": "https://localhost:8080/"
        },
        "outputId": "8751cb0b-ba3e-488b-a5f8-47ab1cd29bfb"
      },
      "source": [
        "LSTM_ACC"
      ],
      "execution_count": null,
      "outputs": [
        {
          "output_type": "execute_result",
          "data": {
            "text/plain": [
              "0.4671262204647064"
            ]
          },
          "metadata": {
            "tags": []
          },
          "execution_count": 32
        }
      ]
    },
    {
      "cell_type": "markdown",
      "metadata": {
        "id": "GZ9ZdVpZVYsj"
      },
      "source": [
        "# BLSTM"
      ]
    },
    {
      "cell_type": "markdown",
      "metadata": {
        "id": "EFFsx3gMF8BD"
      },
      "source": [
        "소스코드 : https://machinelearningmastery.com/develop-bidirectional-lstm-sequence-classification-python-keras/"
      ]
    },
    {
      "cell_type": "code",
      "metadata": {
        "id": "hSLEtsxLzZKV"
      },
      "source": [
        "from keras.models import Sequential\n",
        "from keras.layers import Bidirectional\n",
        "from keras.layers import LSTM\n",
        "from keras.layers import Dense\n",
        "from keras.layers import TimeDistributed"
      ],
      "execution_count": null,
      "outputs": []
    },
    {
      "cell_type": "code",
      "metadata": {
        "id": "W6ox8QPNE0m-",
        "colab": {
          "base_uri": "https://localhost:8080/"
        },
        "outputId": "d6c17ffd-ca8f-43bd-9dbd-eb21eaf175f5"
      },
      "source": [
        "BL = Sequential()\n",
        "BL.add(Bidirectional(LSTM(20, return_sequences=True), input_shape=(2304, 3)))\n",
        "BL.add(TimeDistributed(Dense(1, activation='sigmoid')))\n",
        "BL.summary()"
      ],
      "execution_count": null,
      "outputs": [
        {
          "output_type": "stream",
          "text": [
            "Model: \"sequential_1\"\n",
            "_________________________________________________________________\n",
            "Layer (type)                 Output Shape              Param #   \n",
            "=================================================================\n",
            "bidirectional (Bidirectional (None, 2304, 40)          3840      \n",
            "_________________________________________________________________\n",
            "time_distributed (TimeDistri (None, 2304, 1)           41        \n",
            "=================================================================\n",
            "Total params: 3,881\n",
            "Trainable params: 3,881\n",
            "Non-trainable params: 0\n",
            "_________________________________________________________________\n"
          ],
          "name": "stdout"
        }
      ]
    },
    {
      "cell_type": "code",
      "metadata": {
        "id": "gDCaoOlvG2SW",
        "colab": {
          "base_uri": "https://localhost:8080/"
        },
        "outputId": "1fbdb181-d264-4adf-ea2b-f5917a858d30"
      },
      "source": [
        "#정확도\n",
        "num_iters = train_len // batch_size\n",
        "num_epochs = 11\n",
        "optimizer = tf.keras.optimizers.Adam(0.0001)\n",
        "loss_fn = tf.keras.losses.BinaryCrossentropy()\n",
        "acc_fn = tf.keras.metrics.BinaryAccuracy()\n",
        "num_test_iters = num_iters // 4\n",
        "for epoch in range(num_epochs) :\n",
        "    epoch_loss_avg = tf.keras.metrics.Mean()\n",
        "    val_loss_avg = tf.keras.metrics.Mean()\n",
        "    epoch_acc_avg = tf.keras.metrics.Mean()\n",
        "    val_acc_avg = tf.keras.metrics.Mean()\n",
        "\n",
        "    for iter in range(num_iters) :\n",
        "        x_batch, y_batch = next(train_gen)\n",
        "        x_batch = np.random.rand(16, 48, 48, 3)\n",
        "        x_batch = x_batch.reshape(16, 2304, 3)\n",
        "        y_ = BL(x_batch)\n",
        "        loss_value = loss_fn(y_batch, y_)\n",
        "        acc_value = acc_fn(y_batch, y_)\n",
        "        epoch_loss_avg(loss_value)\n",
        "        epoch_acc_avg(acc_value)\n",
        "\n",
        "    for iter in range(num_test_iters) :\n",
        "        x_batch, y_batch = next(test_gen)\n",
        "        x_batch = np.random.rand(16, 48, 48, 3)\n",
        "        x_batch = x_batch.reshape(16, 2304, 3)\n",
        "        y_= BL(x_batch)\n",
        "        loss_value2 = loss_fn(y_batch, y_)\n",
        "        acc_value = acc_fn(y_batch, y_)\n",
        "        val_loss_avg(loss_value2)\n",
        "        val_acc_avg(acc_value)\n",
        "\n",
        "\n",
        "\n",
        "    print(\"Epoch {:03d}: , Train Loss: {:.5f} , Train acc: {:.5f}\".format(epoch, epoch_loss_avg.result(), epoch_acc_avg.result()))\n",
        "    print(\"Val_Loss: {:.3f}, Val_acc: {:.3f}\".format(val_loss_avg.result(), val_acc_avg.result()))\n",
        "\n",
        "BLSTM_loss = float(format(val_loss_avg.result()))\n",
        "BLSTM_ACC = float(format(val_acc_avg.result()))"
      ],
      "execution_count": null,
      "outputs": [
        {
          "output_type": "stream",
          "text": [
            "Epoch 000: , Train Loss: 0.70784 , Train acc: 0.52797\n",
            "Val_Loss: 0.714, Val_acc: 0.522\n",
            "Epoch 001: , Train Loss: 0.70021 , Train acc: 0.52683\n",
            "Val_Loss: 0.705, Val_acc: 0.528\n",
            "Epoch 002: , Train Loss: 0.70008 , Train acc: 0.53098\n",
            "Val_Loss: 0.716, Val_acc: 0.531\n",
            "Epoch 003: , Train Loss: 0.69779 , Train acc: 0.53022\n",
            "Val_Loss: 0.713, Val_acc: 0.532\n",
            "Epoch 004: , Train Loss: 0.70263 , Train acc: 0.53247\n",
            "Val_Loss: 0.710, Val_acc: 0.532\n",
            "Epoch 005: , Train Loss: 0.70796 , Train acc: 0.53106\n",
            "Val_Loss: 0.696, Val_acc: 0.531\n",
            "Epoch 006: , Train Loss: 0.69614 , Train acc: 0.53166\n",
            "Val_Loss: 0.724, Val_acc: 0.532\n",
            "Epoch 007: , Train Loss: 0.69932 , Train acc: 0.53257\n",
            "Val_Loss: 0.711, Val_acc: 0.533\n",
            "Epoch 008: , Train Loss: 0.70263 , Train acc: 0.53227\n",
            "Val_Loss: 0.708, Val_acc: 0.532\n",
            "Epoch 009: , Train Loss: 0.70468 , Train acc: 0.53157\n",
            "Val_Loss: 0.722, Val_acc: 0.531\n",
            "Epoch 010: , Train Loss: 0.69728 , Train acc: 0.53172\n",
            "Val_Loss: 0.704, Val_acc: 0.532\n"
          ],
          "name": "stdout"
        }
      ]
    },
    {
      "cell_type": "code",
      "metadata": {
        "id": "KhbWZBG0Hiqm",
        "colab": {
          "base_uri": "https://localhost:8080/"
        },
        "outputId": "b7a7c11c-e6ed-4e30-a4be-51a8c01c1e22"
      },
      "source": [
        "BLSTM_ACC"
      ],
      "execution_count": null,
      "outputs": [
        {
          "output_type": "execute_result",
          "data": {
            "text/plain": [
              "0.5322005748748779"
            ]
          },
          "metadata": {
            "tags": []
          },
          "execution_count": 36
        }
      ]
    },
    {
      "cell_type": "markdown",
      "metadata": {
        "id": "aSyqI4ihsc71"
      },
      "source": [
        "# Convlstm2D"
      ]
    },
    {
      "cell_type": "markdown",
      "metadata": {
        "id": "FlGrIGES4uxg"
      },
      "source": [
        "참고 : https://deep-deep-deep.tistory.com/32 [딥딥딥]"
      ]
    },
    {
      "cell_type": "markdown",
      "metadata": {
        "id": "pApNoPKsFJw_"
      },
      "source": [
        "소스 코드 : https://keras.io/examples/vision/conv_lstm/"
      ]
    },
    {
      "cell_type": "markdown",
      "metadata": {
        "id": "t4dYYXR05h9H"
      },
      "source": [
        "CNN 관련 : http://taewan.kim/post/cnn/"
      ]
    },
    {
      "cell_type": "code",
      "metadata": {
        "id": "NHP8ez-ggauf"
      },
      "source": [],
      "execution_count": null,
      "outputs": []
    },
    {
      "cell_type": "code",
      "metadata": {
        "id": "r5OZVgG38_hA",
        "colab": {
          "base_uri": "https://localhost:8080/"
        },
        "outputId": "30cde80c-9a42-48b4-a85b-11ced8adbaca"
      },
      "source": [
        "seq = keras.Sequential(\n",
        "    [\n",
        "        keras.Input(\n",
        "            shape=(48, 48, 3, 1)\n",
        "        ),  # Variable-length sequence of 40x40x1 frames\n",
        "        layers.ConvLSTM2D(\n",
        "            filters=40, kernel_size=(3, 3), padding=\"same\", return_sequences=True\n",
        "\n",
        "        ),\n",
        "        layers.BatchNormalization(),\n",
        "        layers.Conv3D(\n",
        "            filters=1, kernel_size=(3, 3, 3), activation=\"sigmoid\", padding=\"same\"\n",
        "        ),\n",
        "    ]\n",
        ")\n",
        "seq.compile(loss=\"binary_crossentropy\", optimizer=\"adadelta\")"
      ],
      "execution_count": null,
      "outputs": [
        {
          "output_type": "stream",
          "text": [
            "WARNING:tensorflow:Please add `keras.layers.InputLayer` instead of `keras.Input` to Sequential model. `keras.Input` is intended to be used by Functional model.\n"
          ],
          "name": "stdout"
        }
      ]
    },
    {
      "cell_type": "code",
      "metadata": {
        "id": "22gQTfBA9o4m",
        "colab": {
          "base_uri": "https://localhost:8080/"
        },
        "outputId": "6afc1fb2-6d28-49de-a5ef-a7166c2daa8f"
      },
      "source": [
        "seq.summary()"
      ],
      "execution_count": null,
      "outputs": [
        {
          "output_type": "stream",
          "text": [
            "Model: \"sequential_2\"\n",
            "_________________________________________________________________\n",
            "Layer (type)                 Output Shape              Param #   \n",
            "=================================================================\n",
            "conv_lst_m2d (ConvLSTM2D)    (None, 48, 48, 3, 40)     59200     \n",
            "_________________________________________________________________\n",
            "batch_normalization (BatchNo (None, 48, 48, 3, 40)     160       \n",
            "_________________________________________________________________\n",
            "conv3d (Conv3D)              (None, 48, 48, 3, 1)      1081      \n",
            "=================================================================\n",
            "Total params: 60,441\n",
            "Trainable params: 60,361\n",
            "Non-trainable params: 80\n",
            "_________________________________________________________________\n"
          ],
          "name": "stdout"
        }
      ]
    },
    {
      "cell_type": "code",
      "metadata": {
        "id": "bziRFm7-9n_P",
        "colab": {
          "base_uri": "https://localhost:8080/"
        },
        "outputId": "37466125-f639-41dd-de9e-6fdb66713d1c"
      },
      "source": [
        "#정확도\n",
        "num_iters = train_len // batch_size\n",
        "num_epochs = 11\n",
        "optimizer = tf.keras.optimizers.Adam(0.0001)\n",
        "loss_fn = tf.keras.losses.BinaryCrossentropy()\n",
        "acc_fn = tf.keras.metrics.BinaryAccuracy()\n",
        "num_test_iters = num_iters // 4\n",
        "for epoch in range(num_epochs) :\n",
        "    epoch_loss_avg = tf.keras.metrics.Mean()\n",
        "    val_loss_avg = tf.keras.metrics.Mean()\n",
        "    epoch_acc_avg = tf.keras.metrics.Mean()\n",
        "    val_acc_avg = tf.keras.metrics.Mean()\n",
        "\n",
        "    for iter in range(num_iters) :\n",
        "        x_batch, y_batch = next(train_gen)\n",
        "        x_batch = x_batch.reshape(16, 48, 48, 3, 1)\n",
        "        y_ = seq(x_batch)[0]\n",
        "        loss_value = loss_fn(y_batch, y_)\n",
        "        acc_value = acc_fn(y_batch, y_)\n",
        "        epoch_loss_avg(loss_value)\n",
        "        epoch_acc_avg(acc_value)\n",
        "\n",
        "    for iter in range(num_test_iters) :\n",
        "        x_batch, y_batch = next(test_gen)\n",
        "        x_batch = x_batch.reshape(16, 48, 48, 3, 1)\n",
        "        y_= seq(x_batch)[0]\n",
        "        loss_value = loss_fn(y_batch, y_)\n",
        "        acc_value = acc_fn(y_batch, y_)\n",
        "        val_loss_avg(loss_value)\n",
        "        val_acc_avg(acc_value)\n",
        "\n",
        "\n",
        "\n",
        "    print(\"Epoch {:03d}: , Train Loss: {:.5f} , Train acc: {:.5f}\".format(epoch, epoch_loss_avg.result(), epoch_acc_avg.result()))\n",
        "    print(\"Val_Loss: {:.3f}, Val_acc: {:.3f}\".format(val_loss_avg.result(), val_acc_avg.result()))\n",
        "\n",
        "Convlstm2D_loss = float(format(val_loss_avg.result()))\n",
        "Convlstm2D_acc = float(format(val_acc_avg.result()))"
      ],
      "execution_count": null,
      "outputs": [
        {
          "output_type": "stream",
          "text": [
            "Epoch 000: , Train Loss: 0.69307 , Train acc: 0.49574\n",
            "Val_Loss: 0.693, Val_acc: 0.493\n",
            "Epoch 001: , Train Loss: 0.69307 , Train acc: 0.49370\n",
            "Val_Loss: 0.693, Val_acc: 0.494\n",
            "Epoch 002: , Train Loss: 0.69306 , Train acc: 0.49427\n",
            "Val_Loss: 0.693, Val_acc: 0.494\n",
            "Epoch 003: , Train Loss: 0.69306 , Train acc: 0.49418\n",
            "Val_Loss: 0.693, Val_acc: 0.494\n",
            "Epoch 004: , Train Loss: 0.69302 , Train acc: 0.49404\n",
            "Val_Loss: 0.693, Val_acc: 0.494\n",
            "Epoch 005: , Train Loss: 0.69302 , Train acc: 0.49415\n",
            "Val_Loss: 0.693, Val_acc: 0.494\n",
            "Epoch 006: , Train Loss: 0.69304 , Train acc: 0.49368\n",
            "Val_Loss: 0.693, Val_acc: 0.494\n",
            "Epoch 007: , Train Loss: 0.69301 , Train acc: 0.49342\n",
            "Val_Loss: 0.693, Val_acc: 0.493\n",
            "Epoch 008: , Train Loss: 0.69305 , Train acc: 0.49309\n",
            "Val_Loss: 0.693, Val_acc: 0.493\n",
            "Epoch 009: , Train Loss: 0.69302 , Train acc: 0.49306\n",
            "Val_Loss: 0.693, Val_acc: 0.493\n",
            "Epoch 010: , Train Loss: 0.69304 , Train acc: 0.49313\n",
            "Val_Loss: 0.693, Val_acc: 0.493\n"
          ],
          "name": "stdout"
        }
      ]
    },
    {
      "cell_type": "code",
      "metadata": {
        "id": "cgHQgLUZEZqx",
        "colab": {
          "base_uri": "https://localhost:8080/"
        },
        "outputId": "69fe8ce9-cf72-48e0-95c1-7d1366861369"
      },
      "source": [
        "Convlstm2D_acc"
      ],
      "execution_count": null,
      "outputs": [
        {
          "output_type": "execute_result",
          "data": {
            "text/plain": [
              "0.49307361245155334"
            ]
          },
          "metadata": {
            "tags": []
          },
          "execution_count": 40
        }
      ]
    },
    {
      "cell_type": "markdown",
      "metadata": {
        "id": "LChqUC9grBYo"
      },
      "source": [
        " # CNN-LSTM"
      ]
    },
    {
      "cell_type": "markdown",
      "metadata": {
        "id": "0gKNnS1fTm4d"
      },
      "source": [
        "소스 코드 : https://colab.research.google.com/drive/1rIylR9RWEckndbyFNx1Wl_yUQZUF-wyI#scrollTo=M1QKFdJOYTjx"
      ]
    },
    {
      "cell_type": "code",
      "metadata": {
        "id": "mPjwlBM3JVI_"
      },
      "source": [
        "from tensorflow.keras.models import Sequential\n",
        "from tensorflow.keras.layers import Dense, LSTM, Conv1D, Lambda, ConvLSTM2D, Flatten\n",
        "from tensorflow.keras.losses import Huber\n",
        "from tensorflow.keras.optimizers import Adam\n",
        "from tensorflow.keras.callbacks import EarlyStopping, ModelCheckpoint"
      ],
      "execution_count": null,
      "outputs": []
    },
    {
      "cell_type": "code",
      "metadata": {
        "id": "3ThbR1vuUdMF",
        "colab": {
          "base_uri": "https://localhost:8080/"
        },
        "outputId": "07f9f98b-1730-4071-ee76-dff7e432046f"
      },
      "source": [
        "inputs = keras.Input(shape=(2304, 3))\n",
        "x = inputs\n",
        "# 1차원 feature map 생성\n",
        "x = layers.Conv1D(filters=32, kernel_size=5, padding=\"causal\", activation=\"relu\")(x)\n",
        "# LSTM\n",
        "x = layers.LSTM(16, activation='tanh')(x)\n",
        "x = layers.Dense(16, activation=\"relu\")(x)\n",
        "x = layers.Dense(1, activation='sigmoid')(x)\n",
        "outputs = x\n",
        "\n",
        "M10 = keras.Model(inputs, outputs)\n",
        "M10.summary()"
      ],
      "execution_count": null,
      "outputs": [
        {
          "output_type": "stream",
          "text": [
            "Model: \"model_4\"\n",
            "_________________________________________________________________\n",
            "Layer (type)                 Output Shape              Param #   \n",
            "=================================================================\n",
            "input_6 (InputLayer)         [(None, 2304, 3)]         0         \n",
            "_________________________________________________________________\n",
            "conv1d_1 (Conv1D)            (None, 2304, 32)          512       \n",
            "_________________________________________________________________\n",
            "lstm_5 (LSTM)                (None, 16)                3136      \n",
            "_________________________________________________________________\n",
            "dense_8 (Dense)              (None, 16)                272       \n",
            "_________________________________________________________________\n",
            "dense_9 (Dense)              (None, 1)                 17        \n",
            "=================================================================\n",
            "Total params: 3,937\n",
            "Trainable params: 3,937\n",
            "Non-trainable params: 0\n",
            "_________________________________________________________________\n"
          ],
          "name": "stdout"
        }
      ]
    },
    {
      "cell_type": "code",
      "metadata": {
        "id": "RTgPc3LtT3B1",
        "colab": {
          "base_uri": "https://localhost:8080/"
        },
        "outputId": "fdd3fcfa-1f4f-4ef8-a711-2c298368b958"
      },
      "source": [
        "#정확도\n",
        "num_iters = train_len // batch_size\n",
        "num_epochs = 11\n",
        "optimizer = tf.keras.optimizers.Adam(0.0001)\n",
        "loss_fn = tf.keras.losses.BinaryCrossentropy()\n",
        "acc_fn = tf.keras.metrics.BinaryAccuracy()\n",
        "num_test_iters = num_iters // 4\n",
        "for epoch in range(num_epochs) :\n",
        "    epoch_loss_avg = tf.keras.metrics.Mean()\n",
        "    val_loss_avg = tf.keras.metrics.Mean()\n",
        "    epoch_acc_avg = tf.keras.metrics.Mean()\n",
        "    val_acc_avg = tf.keras.metrics.Mean()\n",
        "\n",
        "    for iter in range(num_iters) :\n",
        "        x_batch, y_batch = next(train_gen)\n",
        "        x_batch = np.random.rand(16, 48, 48, 3)\n",
        "        x_batch = x_batch.reshape(16, 2304, 3)\n",
        "        y_ = M10(x_batch)\n",
        "        y_batch = y_batch.reshape(-1,1)\n",
        "        loss_value = loss_fn(y_batch, y_)\n",
        "        acc_value = acc_fn(y_batch, y_)\n",
        "        epoch_loss_avg(loss_value)\n",
        "        epoch_acc_avg(acc_value)\n",
        "\n",
        "    for iter in range(num_test_iters) :\n",
        "        x_batch, y_batch = next(test_gen)\n",
        "        x_batch = np.random.rand(16, 48, 48, 3)\n",
        "        x_batch = x_batch.reshape(16, 2304, 3)\n",
        "        y_= M10(x_batch)\n",
        "        y_batch = y_batch.reshape(-1,1)\n",
        "        loss_value = loss_fn(y_batch, y_)\n",
        "        acc_value = acc_fn(y_batch, y_)\n",
        "        val_loss_avg(loss_value)\n",
        "        val_acc_avg(acc_value)\n",
        "\n",
        "\n",
        "\n",
        "    print(\"Epoch {:03d}: , Train Loss: {:.5f} , Train acc: {:.5f}\".format(epoch, epoch_loss_avg.result(), epoch_acc_avg.result()))\n",
        "    print(\"Val_Loss: {:.3f}, Val_acc: {:.3f}\".format(val_loss_avg.result(), val_acc_avg.result()))\n",
        "\n",
        "CNN_LSTM_loss = float(format(val_loss_avg.result()))\n",
        "CNN_LSTM_ACC = float(format(val_acc_avg.result()))"
      ],
      "execution_count": null,
      "outputs": [
        {
          "output_type": "stream",
          "text": [
            "Epoch 000: , Train Loss: 0.69513 , Train acc: 0.46967\n",
            "Val_Loss: 0.696, Val_acc: 0.463\n",
            "Epoch 001: , Train Loss: 0.69509 , Train acc: 0.45950\n",
            "Val_Loss: 0.693, Val_acc: 0.462\n",
            "Epoch 002: , Train Loss: 0.69521 , Train acc: 0.46435\n",
            "Val_Loss: 0.694, Val_acc: 0.464\n",
            "Epoch 003: , Train Loss: 0.69550 , Train acc: 0.46168\n",
            "Val_Loss: 0.694, Val_acc: 0.462\n",
            "Epoch 004: , Train Loss: 0.69507 , Train acc: 0.46223\n",
            "Val_Loss: 0.692, Val_acc: 0.463\n",
            "Epoch 005: , Train Loss: 0.69489 , Train acc: 0.46471\n",
            "Val_Loss: 0.694, Val_acc: 0.465\n",
            "Epoch 006: , Train Loss: 0.69541 , Train acc: 0.46420\n",
            "Val_Loss: 0.695, Val_acc: 0.463\n",
            "Epoch 007: , Train Loss: 0.69510 , Train acc: 0.46281\n",
            "Val_Loss: 0.694, Val_acc: 0.463\n",
            "Epoch 008: , Train Loss: 0.69522 , Train acc: 0.46323\n",
            "Val_Loss: 0.695, Val_acc: 0.463\n",
            "Epoch 009: , Train Loss: 0.69470 , Train acc: 0.46352\n",
            "Val_Loss: 0.693, Val_acc: 0.464\n",
            "Epoch 010: , Train Loss: 0.69465 , Train acc: 0.46464\n",
            "Val_Loss: 0.695, Val_acc: 0.465\n"
          ],
          "name": "stdout"
        }
      ]
    },
    {
      "cell_type": "code",
      "metadata": {
        "id": "FQoBcM6XW2A1",
        "colab": {
          "base_uri": "https://localhost:8080/"
        },
        "outputId": "8631b6a9-f39c-4c98-b81a-47a789abefda"
      },
      "source": [
        "CNN_LSTM_ACC"
      ],
      "execution_count": null,
      "outputs": [
        {
          "output_type": "execute_result",
          "data": {
            "text/plain": [
              "0.4651229679584503"
            ]
          },
          "metadata": {
            "tags": []
          },
          "execution_count": 44
        }
      ]
    },
    {
      "cell_type": "markdown",
      "metadata": {
        "id": "PROpLXbDVQ8L"
      },
      "source": [
        "# CNN-BLSTM"
      ]
    },
    {
      "cell_type": "code",
      "metadata": {
        "id": "4lZGZh7-Ldf_"
      },
      "source": [
        "from random import random\n",
        "from numpy import array\n",
        "from numpy import cumsum\n",
        "from keras.models import Sequential\n",
        "from keras.layers import LSTM\n",
        "from keras.layers import Dense\n",
        "from keras.layers import TimeDistributed\n",
        "from keras.layers import Bidirectional\n",
        "from random import random\n",
        "from numpy import array\n",
        "from numpy import cumsum\n",
        "from keras.models import Sequential\n",
        "from keras.layers import LSTM\n",
        "from keras.layers import Dense\n",
        "from keras.layers import TimeDistributed\n",
        "from keras.layers import Bidirectional"
      ],
      "execution_count": null,
      "outputs": []
    },
    {
      "cell_type": "code",
      "metadata": {
        "id": "rg5UMArSX0Rd",
        "colab": {
          "base_uri": "https://localhost:8080/"
        },
        "outputId": "e6459c30-397e-4b19-c9ec-50d77f909783"
      },
      "source": [
        "inputs = keras.Input(shape=(2304, 3))\n",
        "x = inputs\n",
        "# 1차원 feature map 생성\n",
        "x = layers.Conv1D(filters=32, kernel_size=5, padding=\"causal\", activation=\"relu\")(x)\n",
        "# LSTM\n",
        "x = layers.Bidirectional(LSTM(20, return_sequences=True))(x)\n",
        "x = layers.TimeDistributed(Dense(1, activation='sigmoid'))(x)\n",
        "outputs = x\n",
        "\n",
        "M11 = keras.Model(inputs, outputs)\n",
        "M11.summary()"
      ],
      "execution_count": null,
      "outputs": [
        {
          "output_type": "stream",
          "text": [
            "Model: \"model_5\"\n",
            "_________________________________________________________________\n",
            "Layer (type)                 Output Shape              Param #   \n",
            "=================================================================\n",
            "input_7 (InputLayer)         [(None, 2304, 3)]         0         \n",
            "_________________________________________________________________\n",
            "conv1d_2 (Conv1D)            (None, 2304, 32)          512       \n",
            "_________________________________________________________________\n",
            "bidirectional_1 (Bidirection (None, 2304, 40)          8480      \n",
            "_________________________________________________________________\n",
            "time_distributed_1 (TimeDist (None, 2304, 1)           41        \n",
            "=================================================================\n",
            "Total params: 9,033\n",
            "Trainable params: 9,033\n",
            "Non-trainable params: 0\n",
            "_________________________________________________________________\n"
          ],
          "name": "stdout"
        }
      ]
    },
    {
      "cell_type": "code",
      "metadata": {
        "id": "smqQhU_Le_WK",
        "colab": {
          "base_uri": "https://localhost:8080/"
        },
        "outputId": "fb195d99-5a0c-4d58-de8d-461dceb73c51"
      },
      "source": [
        "#정확도\n",
        "num_iters = train_len // batch_size\n",
        "num_epochs = 11\n",
        "optimizer = tf.keras.optimizers.Adam(0.0001)\n",
        "loss_fn = tf.keras.losses.BinaryCrossentropy()\n",
        "acc_fn = tf.keras.metrics.BinaryAccuracy()\n",
        "num_test_iters = num_iters // 4\n",
        "for epoch in range(num_epochs) :\n",
        "    epoch_loss_avg = tf.keras.metrics.Mean()\n",
        "    val_loss_avg = tf.keras.metrics.Mean()\n",
        "    epoch_acc_avg = tf.keras.metrics.Mean()\n",
        "    val_acc_avg = tf.keras.metrics.Mean()\n",
        "\n",
        "    for iter in range(num_iters) :\n",
        "        x_batch, y_batch = next(train_gen)\n",
        "        x_batch = np.random.rand(16, 48, 48, 3)\n",
        "        x_batch = x_batch.reshape(16, 2304, 3)\n",
        "        y_ = M11(x_batch)\n",
        "        loss_value = loss_fn(y_batch, y_)\n",
        "        acc_value = acc_fn(y_batch, y_)\n",
        "        epoch_loss_avg(loss_value)\n",
        "        epoch_acc_avg(acc_value)\n",
        "\n",
        "    for iter in range(num_test_iters) :\n",
        "        x_batch, y_batch = next(test_gen)\n",
        "        x_batch = np.random.rand(16, 48, 48, 3)\n",
        "        x_batch = x_batch.reshape(16, 2304, 3)\n",
        "        y_= M11(x_batch)\n",
        "        loss_value = loss_fn(y_batch, y_)\n",
        "        acc_value = acc_fn(y_batch, y_)\n",
        "        val_loss_avg(loss_value)\n",
        "        val_acc_avg(acc_value)\n",
        "\n",
        "\n",
        "\n",
        "    print(\"Epoch {:03d}: , Train Loss: {:.5f} , Train acc: {:.5f}\".format(epoch, epoch_loss_avg.result(), epoch_acc_avg.result()))\n",
        "    print(\"Val_Loss: {:.3f}, Val_acc: {:.3f}\".format(val_loss_avg.result(), val_acc_avg.result()))\n",
        "\n",
        "CNN_BLSTM_loss = float(format(val_loss_avg.result()))\n",
        "CNN_BLSTM_ACC = float(format(val_acc_avg.result()))"
      ],
      "execution_count": null,
      "outputs": [
        {
          "output_type": "stream",
          "text": [
            "Epoch 000: , Train Loss: 0.69048 , Train acc: 0.54495\n",
            "Val_Loss: 0.693, Val_acc: 0.544\n",
            "Epoch 001: , Train Loss: 0.69076 , Train acc: 0.54159\n",
            "Val_Loss: 0.693, Val_acc: 0.540\n",
            "Epoch 002: , Train Loss: 0.69027 , Train acc: 0.53937\n",
            "Val_Loss: 0.694, Val_acc: 0.539\n",
            "Epoch 003: , Train Loss: 0.69078 , Train acc: 0.53825\n",
            "Val_Loss: 0.692, Val_acc: 0.538\n",
            "Epoch 004: , Train Loss: 0.68999 , Train acc: 0.53890\n",
            "Val_Loss: 0.691, Val_acc: 0.540\n",
            "Epoch 005: , Train Loss: 0.69083 , Train acc: 0.53966\n",
            "Val_Loss: 0.691, Val_acc: 0.540\n",
            "Epoch 006: , Train Loss: 0.69263 , Train acc: 0.53787\n",
            "Val_Loss: 0.693, Val_acc: 0.537\n",
            "Epoch 007: , Train Loss: 0.69096 , Train acc: 0.53643\n",
            "Val_Loss: 0.693, Val_acc: 0.536\n",
            "Epoch 008: , Train Loss: 0.69062 , Train acc: 0.53653\n",
            "Val_Loss: 0.694, Val_acc: 0.537\n",
            "Epoch 009: , Train Loss: 0.69102 , Train acc: 0.53593\n",
            "Val_Loss: 0.694, Val_acc: 0.536\n",
            "Epoch 010: , Train Loss: 0.69079 , Train acc: 0.53583\n",
            "Val_Loss: 0.694, Val_acc: 0.536\n"
          ],
          "name": "stdout"
        }
      ]
    },
    {
      "cell_type": "code",
      "metadata": {
        "id": "bsvusoeNZxWM",
        "colab": {
          "base_uri": "https://localhost:8080/"
        },
        "outputId": "40cedc42-e5b5-4605-a9bd-83e86b7c25c3"
      },
      "source": [
        "CNN_BLSTM_ACC"
      ],
      "execution_count": null,
      "outputs": [
        {
          "output_type": "execute_result",
          "data": {
            "text/plain": [
              "0.5355455875396729"
            ]
          },
          "metadata": {
            "tags": []
          },
          "execution_count": 48
        }
      ]
    },
    {
      "cell_type": "markdown",
      "metadata": {
        "id": "0EiZgO6zUTiU"
      },
      "source": [
        "# Model Comparison"
      ]
    },
    {
      "cell_type": "code",
      "metadata": {
        "id": "oF4uHYJ1s7P8",
        "colab": {
          "base_uri": "https://localhost:8080/",
          "height": 331
        },
        "outputId": "8164379f-d582-464a-af08-4ae5e198d710"
      },
      "source": [
        "models = pd.DataFrame({\n",
        "    'Model': ['CNN','ANN', 'GRU', '1D CNN', 'LSTM', 'BLSTM', 'Convlstm2D', 'CNN-LSTM ','CNN-BLSTM'],\n",
        "    'Score': [CNN_ACC, ANN_ACC, GRU_ACC, CNN1D_ACC, LSTM_ACC, BLSTM_ACC, Convlstm2D_acc, CNN_LSTM_ACC, CNN_BLSTM_ACC]})\n",
        "models.sort_values (by='Score', ascending=False)"
      ],
      "execution_count": null,
      "outputs": [
        {
          "output_type": "execute_result",
          "data": {
            "text/html": [
              "<div>\n",
              "<style scoped>\n",
              "    .dataframe tbody tr th:only-of-type {\n",
              "        vertical-align: middle;\n",
              "    }\n",
              "\n",
              "    .dataframe tbody tr th {\n",
              "        vertical-align: top;\n",
              "    }\n",
              "\n",
              "    .dataframe thead th {\n",
              "        text-align: right;\n",
              "    }\n",
              "</style>\n",
              "<table border=\"1\" class=\"dataframe\">\n",
              "  <thead>\n",
              "    <tr style=\"text-align: right;\">\n",
              "      <th></th>\n",
              "      <th>Model</th>\n",
              "      <th>Score</th>\n",
              "    </tr>\n",
              "  </thead>\n",
              "  <tbody>\n",
              "    <tr>\n",
              "      <th>8</th>\n",
              "      <td>CNN-BLSTM</td>\n",
              "      <td>0.535546</td>\n",
              "    </tr>\n",
              "    <tr>\n",
              "      <th>3</th>\n",
              "      <td>1D CNN</td>\n",
              "      <td>0.535446</td>\n",
              "    </tr>\n",
              "    <tr>\n",
              "      <th>5</th>\n",
              "      <td>BLSTM</td>\n",
              "      <td>0.532201</td>\n",
              "    </tr>\n",
              "    <tr>\n",
              "      <th>6</th>\n",
              "      <td>Convlstm2D</td>\n",
              "      <td>0.493074</td>\n",
              "    </tr>\n",
              "    <tr>\n",
              "      <th>2</th>\n",
              "      <td>GRU</td>\n",
              "      <td>0.482965</td>\n",
              "    </tr>\n",
              "    <tr>\n",
              "      <th>1</th>\n",
              "      <td>ANN</td>\n",
              "      <td>0.476270</td>\n",
              "    </tr>\n",
              "    <tr>\n",
              "      <th>0</th>\n",
              "      <td>CNN</td>\n",
              "      <td>0.467158</td>\n",
              "    </tr>\n",
              "    <tr>\n",
              "      <th>4</th>\n",
              "      <td>LSTM</td>\n",
              "      <td>0.467126</td>\n",
              "    </tr>\n",
              "    <tr>\n",
              "      <th>7</th>\n",
              "      <td>CNN-LSTM</td>\n",
              "      <td>0.465123</td>\n",
              "    </tr>\n",
              "  </tbody>\n",
              "</table>\n",
              "</div>"
            ],
            "text/plain": [
              "        Model     Score\n",
              "8   CNN-BLSTM  0.535546\n",
              "3      1D CNN  0.535446\n",
              "5       BLSTM  0.532201\n",
              "6  Convlstm2D  0.493074\n",
              "2         GRU  0.482965\n",
              "1         ANN  0.476270\n",
              "0         CNN  0.467158\n",
              "4        LSTM  0.467126\n",
              "7   CNN-LSTM   0.465123"
            ]
          },
          "metadata": {
            "tags": []
          },
          "execution_count": 49
        }
      ]
    },
    {
      "cell_type": "code",
      "metadata": {
        "id": "csuenHpw3l66"
      },
      "source": [],
      "execution_count": null,
      "outputs": []
    }
  ]
}