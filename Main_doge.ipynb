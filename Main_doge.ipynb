{
  "nbformat": 4,
  "nbformat_minor": 0,
  "metadata": {
    "accelerator": "GPU",
    "colab": {
      "provenance": [],
      "toc_visible": true,
      "machine_shape": "hm"
    },
    "kernelspec": {
      "display_name": "Python 3",
      "name": "python3"
    },
    "language_info": {
      "name": "python"
    }
  },
  "cells": [
    {
      "cell_type": "markdown",
      "metadata": {
        "id": "B4pA1GqRUoDs"
      },
      "source": [
        "# 캔들차트 데이터 생성\n"
      ]
    },
    {
      "cell_type": "markdown",
      "metadata": {
        "id": "53vk9JlnVHse"
      },
      "source": [
        "참고 : https://dataplay.tistory.com/37?category=845492"
      ]
    },
    {
      "cell_type": "markdown",
      "metadata": {
        "id": "YwWkUvpy8GO_"
      },
      "source": [
        "참고코드 : https://colab.research.google.com/drive/1WXG3cohwO6_0mbmB9CdT37cc1jfE2Zon"
      ]
    },
    {
      "cell_type": "code",
      "metadata": {
        "colab": {
          "base_uri": "https://localhost:8080/"
        },
        "id": "ecKTs5RpGkmA",
        "outputId": "3bc5dae0-460f-4cfc-9d14-55f1a63c23e9"
      },
      "source": [
        "pip install mpl_finance"
      ],
      "execution_count": null,
      "outputs": [
        {
          "output_type": "stream",
          "text": [
            "Collecting mpl_finance\n",
            "  Downloading https://files.pythonhosted.org/packages/9d/de/8169ea4403d6cb8322e74cc48b6834d1dfbed81931d17f1f26b2140160d8/mpl_finance-0.10.1-py3-none-any.whl\n",
            "Requirement already satisfied: matplotlib in /usr/local/lib/python3.7/dist-packages (from mpl_finance) (3.2.2)\n",
            "Requirement already satisfied: cycler>=0.10 in /usr/local/lib/python3.7/dist-packages (from matplotlib->mpl_finance) (0.10.0)\n",
            "Requirement already satisfied: python-dateutil>=2.1 in /usr/local/lib/python3.7/dist-packages (from matplotlib->mpl_finance) (2.8.1)\n",
            "Requirement already satisfied: kiwisolver>=1.0.1 in /usr/local/lib/python3.7/dist-packages (from matplotlib->mpl_finance) (1.3.1)\n",
            "Requirement already satisfied: pyparsing!=2.0.4,!=2.1.2,!=2.1.6,>=2.0.1 in /usr/local/lib/python3.7/dist-packages (from matplotlib->mpl_finance) (2.4.7)\n",
            "Requirement already satisfied: numpy>=1.11 in /usr/local/lib/python3.7/dist-packages (from matplotlib->mpl_finance) (1.19.5)\n",
            "Requirement already satisfied: six in /usr/local/lib/python3.7/dist-packages (from cycler>=0.10->matplotlib->mpl_finance) (1.15.0)\n",
            "Installing collected packages: mpl-finance\n",
            "Successfully installed mpl-finance-0.10.1\n"
          ],
          "name": "stdout"
        }
      ]
    },
    {
      "cell_type": "code",
      "metadata": {
        "id": "5tk5GAWQU5gV"
      },
      "source": [
        "import os\n",
        "import pandas as pd\n",
        "import numpy as np\n",
        "import matplotlib.pyplot as plt\n",
        "from pathlib import Path\n",
        "from shutil import copyfile, move\n",
        "from mpl_finance import candlestick2_ochl"
      ],
      "execution_count": null,
      "outputs": []
    },
    {
      "cell_type": "markdown",
      "metadata": {
        "id": "uHRMT0S7YyQo"
      },
      "source": [
        "도지 코인 파일 불러오기\n"
      ]
    },
    {
      "cell_type": "code",
      "metadata": {
        "colab": {
          "base_uri": "https://localhost:8080/"
        },
        "id": "nXv0Bbmd76x9",
        "outputId": "e554297a-a7b8-426b-d42c-19d764e6281d"
      },
      "source": [
        "from google.colab import drive\n",
        "drive.mount('/content/drive/')"
      ],
      "execution_count": null,
      "outputs": [
        {
          "output_type": "stream",
          "text": [
            "Mounted at /content/drive/\n"
          ],
          "name": "stdout"
        }
      ]
    },
    {
      "cell_type": "code",
      "metadata": {
        "id": "7A92X7QNm7dX"
      },
      "source": [
        "import os\n",
        "currentPath = os.getcwd()\n",
        "\n",
        "#change path\n",
        "os.chdir('/content/drive/MyDrive')"
      ],
      "execution_count": null,
      "outputs": []
    },
    {
      "cell_type": "code",
      "metadata": {
        "colab": {
          "base_uri": "https://localhost:8080/",
          "height": 600
        },
        "id": "AHuOp7Z278pz",
        "outputId": "f2799f0a-8a24-4995-d8db-48e51b510124"
      },
      "source": [
        "coinbase = pd.read_csv(\"out_KRW-DOGE_min_1_2021-05-21.csv\")\n",
        "\n",
        "cb_index = coinbase.index.ravel() # 메모리에서 발생하는 순서대로 인덱싱하여 평평하게 배열\n",
        "\n",
        "coinbase"
      ],
      "execution_count": null,
      "outputs": [
        {
          "output_type": "execute_result",
          "data": {
            "text/html": [
              "<div>\n",
              "<style scoped>\n",
              "    .dataframe tbody tr th:only-of-type {\n",
              "        vertical-align: middle;\n",
              "    }\n",
              "\n",
              "    .dataframe tbody tr th {\n",
              "        vertical-align: top;\n",
              "    }\n",
              "\n",
              "    .dataframe thead th {\n",
              "        text-align: right;\n",
              "    }\n",
              "</style>\n",
              "<table border=\"1\" class=\"dataframe\">\n",
              "  <thead>\n",
              "    <tr style=\"text-align: right;\">\n",
              "      <th></th>\n",
              "      <th>code</th>\n",
              "      <th>candleDateTime</th>\n",
              "      <th>candleDateTimeKst</th>\n",
              "      <th>openingPrice</th>\n",
              "      <th>highPrice</th>\n",
              "      <th>lowPrice</th>\n",
              "      <th>tradePrice</th>\n",
              "      <th>candleAccTradeVolume</th>\n",
              "      <th>candleAccTradePrice</th>\n",
              "      <th>timestamp</th>\n",
              "      <th>unit</th>\n",
              "    </tr>\n",
              "  </thead>\n",
              "  <tbody>\n",
              "    <tr>\n",
              "      <th>0</th>\n",
              "      <td>CRIX.UPBIT.KRW-DOGE</td>\n",
              "      <td>2021-05-20T15:00:00+00:00</td>\n",
              "      <td>2021-05-21T00:00:00+09:00</td>\n",
              "      <td>516</td>\n",
              "      <td>517</td>\n",
              "      <td>515</td>\n",
              "      <td>516</td>\n",
              "      <td>2.901292e+06</td>\n",
              "      <td>1.498517e+09</td>\n",
              "      <td>1.621520e+12</td>\n",
              "      <td>1</td>\n",
              "    </tr>\n",
              "    <tr>\n",
              "      <th>1</th>\n",
              "      <td>CRIX.UPBIT.KRW-DOGE</td>\n",
              "      <td>2021-05-20T15:01:00+00:00</td>\n",
              "      <td>2021-05-21T00:01:00+09:00</td>\n",
              "      <td>517</td>\n",
              "      <td>517</td>\n",
              "      <td>515</td>\n",
              "      <td>517</td>\n",
              "      <td>2.739025e+06</td>\n",
              "      <td>1.413013e+09</td>\n",
              "      <td>1.621520e+12</td>\n",
              "      <td>1</td>\n",
              "    </tr>\n",
              "    <tr>\n",
              "      <th>2</th>\n",
              "      <td>CRIX.UPBIT.KRW-DOGE</td>\n",
              "      <td>2021-05-20T15:02:00+00:00</td>\n",
              "      <td>2021-05-21T00:02:00+09:00</td>\n",
              "      <td>516</td>\n",
              "      <td>518</td>\n",
              "      <td>516</td>\n",
              "      <td>517</td>\n",
              "      <td>3.068264e+06</td>\n",
              "      <td>1.585857e+09</td>\n",
              "      <td>1.621520e+12</td>\n",
              "      <td>1</td>\n",
              "    </tr>\n",
              "    <tr>\n",
              "      <th>3</th>\n",
              "      <td>CRIX.UPBIT.KRW-DOGE</td>\n",
              "      <td>2021-05-20T15:03:00+00:00</td>\n",
              "      <td>2021-05-21T00:03:00+09:00</td>\n",
              "      <td>517</td>\n",
              "      <td>519</td>\n",
              "      <td>517</td>\n",
              "      <td>518</td>\n",
              "      <td>3.167764e+06</td>\n",
              "      <td>1.642005e+09</td>\n",
              "      <td>1.621520e+12</td>\n",
              "      <td>1</td>\n",
              "    </tr>\n",
              "    <tr>\n",
              "      <th>4</th>\n",
              "      <td>CRIX.UPBIT.KRW-DOGE</td>\n",
              "      <td>2021-05-20T15:04:00+00:00</td>\n",
              "      <td>2021-05-21T00:04:00+09:00</td>\n",
              "      <td>519</td>\n",
              "      <td>520</td>\n",
              "      <td>517</td>\n",
              "      <td>518</td>\n",
              "      <td>4.111393e+06</td>\n",
              "      <td>2.131710e+09</td>\n",
              "      <td>1.621520e+12</td>\n",
              "      <td>1</td>\n",
              "    </tr>\n",
              "    <tr>\n",
              "      <th>...</th>\n",
              "      <td>...</td>\n",
              "      <td>...</td>\n",
              "      <td>...</td>\n",
              "      <td>...</td>\n",
              "      <td>...</td>\n",
              "      <td>...</td>\n",
              "      <td>...</td>\n",
              "      <td>...</td>\n",
              "      <td>...</td>\n",
              "      <td>...</td>\n",
              "      <td>...</td>\n",
              "    </tr>\n",
              "    <tr>\n",
              "      <th>10075</th>\n",
              "      <td>CRIX.UPBIT.KRW-DOGE</td>\n",
              "      <td>2021-05-27T14:55:00+00:00</td>\n",
              "      <td>2021-05-27T23:55:00+09:00</td>\n",
              "      <td>408</td>\n",
              "      <td>409</td>\n",
              "      <td>408</td>\n",
              "      <td>408</td>\n",
              "      <td>3.265581e+05</td>\n",
              "      <td>1.332449e+08</td>\n",
              "      <td>1.622130e+12</td>\n",
              "      <td>1</td>\n",
              "    </tr>\n",
              "    <tr>\n",
              "      <th>10076</th>\n",
              "      <td>CRIX.UPBIT.KRW-DOGE</td>\n",
              "      <td>2021-05-27T14:56:00+00:00</td>\n",
              "      <td>2021-05-27T23:56:00+09:00</td>\n",
              "      <td>408</td>\n",
              "      <td>409</td>\n",
              "      <td>408</td>\n",
              "      <td>408</td>\n",
              "      <td>6.259779e+05</td>\n",
              "      <td>2.554018e+08</td>\n",
              "      <td>1.622130e+12</td>\n",
              "      <td>1</td>\n",
              "    </tr>\n",
              "    <tr>\n",
              "      <th>10077</th>\n",
              "      <td>CRIX.UPBIT.KRW-DOGE</td>\n",
              "      <td>2021-05-27T14:57:00+00:00</td>\n",
              "      <td>2021-05-27T23:57:00+09:00</td>\n",
              "      <td>408</td>\n",
              "      <td>408</td>\n",
              "      <td>407</td>\n",
              "      <td>408</td>\n",
              "      <td>6.565523e+05</td>\n",
              "      <td>2.678439e+08</td>\n",
              "      <td>1.622130e+12</td>\n",
              "      <td>1</td>\n",
              "    </tr>\n",
              "    <tr>\n",
              "      <th>10078</th>\n",
              "      <td>CRIX.UPBIT.KRW-DOGE</td>\n",
              "      <td>2021-05-27T14:58:00+00:00</td>\n",
              "      <td>2021-05-27T23:58:00+09:00</td>\n",
              "      <td>408</td>\n",
              "      <td>408</td>\n",
              "      <td>407</td>\n",
              "      <td>407</td>\n",
              "      <td>3.526589e+05</td>\n",
              "      <td>1.438332e+08</td>\n",
              "      <td>1.622130e+12</td>\n",
              "      <td>1</td>\n",
              "    </tr>\n",
              "    <tr>\n",
              "      <th>10079</th>\n",
              "      <td>CRIX.UPBIT.KRW-DOGE</td>\n",
              "      <td>2021-05-27T14:59:00+00:00</td>\n",
              "      <td>2021-05-27T23:59:00+09:00</td>\n",
              "      <td>408</td>\n",
              "      <td>408</td>\n",
              "      <td>407</td>\n",
              "      <td>408</td>\n",
              "      <td>2.936084e+05</td>\n",
              "      <td>1.197722e+08</td>\n",
              "      <td>1.622130e+12</td>\n",
              "      <td>1</td>\n",
              "    </tr>\n",
              "  </tbody>\n",
              "</table>\n",
              "<p>10080 rows × 11 columns</p>\n",
              "</div>"
            ],
            "text/plain": [
              "                      code             candleDateTime  ...     timestamp  unit\n",
              "0      CRIX.UPBIT.KRW-DOGE  2021-05-20T15:00:00+00:00  ...  1.621520e+12     1\n",
              "1      CRIX.UPBIT.KRW-DOGE  2021-05-20T15:01:00+00:00  ...  1.621520e+12     1\n",
              "2      CRIX.UPBIT.KRW-DOGE  2021-05-20T15:02:00+00:00  ...  1.621520e+12     1\n",
              "3      CRIX.UPBIT.KRW-DOGE  2021-05-20T15:03:00+00:00  ...  1.621520e+12     1\n",
              "4      CRIX.UPBIT.KRW-DOGE  2021-05-20T15:04:00+00:00  ...  1.621520e+12     1\n",
              "...                    ...                        ...  ...           ...   ...\n",
              "10075  CRIX.UPBIT.KRW-DOGE  2021-05-27T14:55:00+00:00  ...  1.622130e+12     1\n",
              "10076  CRIX.UPBIT.KRW-DOGE  2021-05-27T14:56:00+00:00  ...  1.622130e+12     1\n",
              "10077  CRIX.UPBIT.KRW-DOGE  2021-05-27T14:57:00+00:00  ...  1.622130e+12     1\n",
              "10078  CRIX.UPBIT.KRW-DOGE  2021-05-27T14:58:00+00:00  ...  1.622130e+12     1\n",
              "10079  CRIX.UPBIT.KRW-DOGE  2021-05-27T14:59:00+00:00  ...  1.622130e+12     1\n",
              "\n",
              "[10080 rows x 11 columns]"
            ]
          },
          "metadata": {
            "tags": []
          },
          "execution_count": 5
        }
      ]
    },
    {
      "cell_type": "code",
      "metadata": {
        "id": "69KLD_YZ7_23",
        "colab": {
          "base_uri": "https://localhost:8080/"
        },
        "outputId": "3e44f499-60a0-4fa9-e767-803ee0f6a354"
      },
      "source": [
        "coinbase.isna().sum()"
      ],
      "execution_count": null,
      "outputs": [
        {
          "output_type": "execute_result",
          "data": {
            "text/plain": [
              "code                    0\n",
              "candleDateTime          0\n",
              "candleDateTimeKst       0\n",
              "openingPrice            0\n",
              "highPrice               0\n",
              "lowPrice                0\n",
              "tradePrice              0\n",
              "candleAccTradeVolume    0\n",
              "candleAccTradePrice     0\n",
              "timestamp               0\n",
              "unit                    0\n",
              "dtype: int64"
            ]
          },
          "metadata": {
            "tags": []
          },
          "execution_count": 6
        }
      ]
    },
    {
      "cell_type": "code",
      "metadata": {
        "id": "K8YOR4h18BVh"
      },
      "source": [
        "data = coinbase.fillna(method=\"backfill\") # 결측치를 뒷방향으로 채워나가는 것"
      ],
      "execution_count": null,
      "outputs": []
    },
    {
      "cell_type": "code",
      "metadata": {
        "id": "GAM7LTfL8DMZ"
      },
      "source": [
        "data = data.drop(columns=['code', 'candleDateTime', 'candleDateTimeKst', 'candleAccTradeVolume','candleAccTradePrice','timestamp','unit'], axis=1)"
      ],
      "execution_count": null,
      "outputs": []
    },
    {
      "cell_type": "code",
      "metadata": {
        "id": "6cWobfBz8FCc"
      },
      "source": [
        "data = data.reset_index(drop=True)"
      ],
      "execution_count": null,
      "outputs": []
    },
    {
      "cell_type": "code",
      "metadata": {
        "colab": {
          "base_uri": "https://localhost:8080/",
          "height": 407
        },
        "id": "wFYjoox_n0ok",
        "outputId": "caf09267-4682-4ba5-91d7-5a91d55e723f"
      },
      "source": [
        "data"
      ],
      "execution_count": null,
      "outputs": [
        {
          "output_type": "execute_result",
          "data": {
            "text/html": [
              "<div>\n",
              "<style scoped>\n",
              "    .dataframe tbody tr th:only-of-type {\n",
              "        vertical-align: middle;\n",
              "    }\n",
              "\n",
              "    .dataframe tbody tr th {\n",
              "        vertical-align: top;\n",
              "    }\n",
              "\n",
              "    .dataframe thead th {\n",
              "        text-align: right;\n",
              "    }\n",
              "</style>\n",
              "<table border=\"1\" class=\"dataframe\">\n",
              "  <thead>\n",
              "    <tr style=\"text-align: right;\">\n",
              "      <th></th>\n",
              "      <th>openingPrice</th>\n",
              "      <th>highPrice</th>\n",
              "      <th>lowPrice</th>\n",
              "      <th>tradePrice</th>\n",
              "    </tr>\n",
              "  </thead>\n",
              "  <tbody>\n",
              "    <tr>\n",
              "      <th>0</th>\n",
              "      <td>516</td>\n",
              "      <td>517</td>\n",
              "      <td>515</td>\n",
              "      <td>516</td>\n",
              "    </tr>\n",
              "    <tr>\n",
              "      <th>1</th>\n",
              "      <td>517</td>\n",
              "      <td>517</td>\n",
              "      <td>515</td>\n",
              "      <td>517</td>\n",
              "    </tr>\n",
              "    <tr>\n",
              "      <th>2</th>\n",
              "      <td>516</td>\n",
              "      <td>518</td>\n",
              "      <td>516</td>\n",
              "      <td>517</td>\n",
              "    </tr>\n",
              "    <tr>\n",
              "      <th>3</th>\n",
              "      <td>517</td>\n",
              "      <td>519</td>\n",
              "      <td>517</td>\n",
              "      <td>518</td>\n",
              "    </tr>\n",
              "    <tr>\n",
              "      <th>4</th>\n",
              "      <td>519</td>\n",
              "      <td>520</td>\n",
              "      <td>517</td>\n",
              "      <td>518</td>\n",
              "    </tr>\n",
              "    <tr>\n",
              "      <th>...</th>\n",
              "      <td>...</td>\n",
              "      <td>...</td>\n",
              "      <td>...</td>\n",
              "      <td>...</td>\n",
              "    </tr>\n",
              "    <tr>\n",
              "      <th>10075</th>\n",
              "      <td>408</td>\n",
              "      <td>409</td>\n",
              "      <td>408</td>\n",
              "      <td>408</td>\n",
              "    </tr>\n",
              "    <tr>\n",
              "      <th>10076</th>\n",
              "      <td>408</td>\n",
              "      <td>409</td>\n",
              "      <td>408</td>\n",
              "      <td>408</td>\n",
              "    </tr>\n",
              "    <tr>\n",
              "      <th>10077</th>\n",
              "      <td>408</td>\n",
              "      <td>408</td>\n",
              "      <td>407</td>\n",
              "      <td>408</td>\n",
              "    </tr>\n",
              "    <tr>\n",
              "      <th>10078</th>\n",
              "      <td>408</td>\n",
              "      <td>408</td>\n",
              "      <td>407</td>\n",
              "      <td>407</td>\n",
              "    </tr>\n",
              "    <tr>\n",
              "      <th>10079</th>\n",
              "      <td>408</td>\n",
              "      <td>408</td>\n",
              "      <td>407</td>\n",
              "      <td>408</td>\n",
              "    </tr>\n",
              "  </tbody>\n",
              "</table>\n",
              "<p>10080 rows × 4 columns</p>\n",
              "</div>"
            ],
            "text/plain": [
              "       openingPrice  highPrice  lowPrice  tradePrice\n",
              "0               516        517       515         516\n",
              "1               517        517       515         517\n",
              "2               516        518       516         517\n",
              "3               517        519       517         518\n",
              "4               519        520       517         518\n",
              "...             ...        ...       ...         ...\n",
              "10075           408        409       408         408\n",
              "10076           408        409       408         408\n",
              "10077           408        408       407         408\n",
              "10078           408        408       407         407\n",
              "10079           408        408       407         408\n",
              "\n",
              "[10080 rows x 4 columns]"
            ]
          },
          "metadata": {
            "tags": []
          },
          "execution_count": 10
        }
      ]
    },
    {
      "cell_type": "code",
      "metadata": {
        "colab": {
          "base_uri": "https://localhost:8080/",
          "height": 283
        },
        "id": "OX4MDmlcLRzV",
        "outputId": "e9e62437-2f70-4ff4-a6b2-d09134d37678"
      },
      "source": [
        "plt.plot(data['tradePrice'])"
      ],
      "execution_count": null,
      "outputs": [
        {
          "output_type": "execute_result",
          "data": {
            "text/plain": [
              "[<matplotlib.lines.Line2D at 0x7fbe28ead350>]"
            ]
          },
          "metadata": {
            "tags": []
          },
          "execution_count": 11
        },
        {
          "output_type": "display_data",
          "data": {
            "image/png": "[encoded data removed]",
            "text/plain": [
              "<Figure size 432x288 with 1 Axes>"
            ]
          },
          "metadata": {
            "tags": [],
            "needs_background": "light"
          }
        }
      ]
    },
    {
      "cell_type": "code",
      "metadata": {
        "id": "zQ9bQXV7EziD"
      },
      "source": [
        "def ohlc2cs2(data, seq_len, dimension):\n",
        "    # python preprocess.py -m ohlc2cs -l 20 -i stockdatas/EWT_testing.csv -t testing\n",
        "    print(\"Converting olhc to candlestick\")\n",
        "    df = data\n",
        "    plt.style.use('dark_background')\n",
        "    figs = np.zeros((len(df)-1, dimension, dimension, 3))\n",
        "    labels = []\n",
        "    for i in range(0, len(df)-1):\n",
        "        # ohlc+volume\n",
        "        c = df.loc[i:i + int(seq_len) - 1, :]\n",
        "        c_ = df.loc[i:i + int(seq_len), :]\n",
        "        if len(c) == int(seq_len):\n",
        "            my_dpi = 96\n",
        "            fig = plt.figure(figsize=(dimension / my_dpi,\n",
        "                                      dimension / my_dpi), dpi=my_dpi)\n",
        "            ax1 = fig.add_subplot(1, 1, 1)\n",
        "            candlestick2_ochl(ax1, c['openingPrice'], c['tradePrice'], c['highPrice'],\n",
        "                              c['lowPrice'], width=1,\n",
        "                              colorup='#77d879', colordown='#db3f3f')\n",
        "            ax1.grid(False)\n",
        "            ax1.set_xticklabels([])\n",
        "            ax1.set_yticklabels([])\n",
        "            ax1.xaxis.set_visible(False)\n",
        "            ax1.yaxis.set_visible(False)\n",
        "            ax1.axis('off')\n",
        "\n",
        "            # create the second axis for the volume bar-plot\n",
        "            # Add a seconds axis for the volume overlay\n",
        "\n",
        "        starting = c_[\"tradePrice\"].iloc[-2]\n",
        "        endvalue = c_[\"tradePrice\"].iloc[-1]\n",
        "        if endvalue > starting :\n",
        "            label = 1\n",
        "        else :\n",
        "            label = 0\n",
        "        labels.append(label)\n",
        "\n",
        "        fig.canvas.draw()\n",
        "        fig_np = np.array(fig.canvas.renderer._renderer)\n",
        "        figs[i] = fig_np[:,:,:3]\n",
        "\n",
        "        plt.close(fig)\n",
        "        # normal length - end\n",
        "\n",
        "    print(\"Converting olhc to candlestik finished.\")\n",
        "    return figs, labels"
      ],
      "execution_count": null,
      "outputs": []
    },
    {
      "cell_type": "code",
      "metadata": {
        "colab": {
          "base_uri": "https://localhost:8080/"
        },
        "id": "V-WDQKFCE2Q-",
        "outputId": "c90acf77-2678-468f-cd0b-60c9cb84ff2b"
      },
      "source": [
        "inputs = data\n",
        "seq_len = 30\n",
        "dimension = 48\n",
        "\n",
        "figures, labels = ohlc2cs2(inputs, seq_len, dimension)"
      ],
      "execution_count": null,
      "outputs": [
        {
          "output_type": "stream",
          "text": [
            "Converting olhc to candlestick\n",
            "Converting olhc to candlestik finished.\n"
          ],
          "name": "stdout"
        }
      ]
    },
    {
      "cell_type": "code",
      "metadata": {
        "colab": {
          "base_uri": "https://localhost:8080/"
        },
        "id": "YwryKR7IJE81",
        "outputId": "2378ac4e-27ca-430d-926f-b0cd0fe21ad8"
      },
      "source": [
        "#위 함수로 생성된 figures는 값의 범위가 0~255 이기 때문에 0~1로 맞춰주기 위해 255로 나눕니다.\n",
        "figures = figures/255.0\n",
        "print(np.shape(labels), np.shape(figures))"
      ],
      "execution_count": null,
      "outputs": [
        {
          "output_type": "stream",
          "text": [
            "(10079,) (10079, 48, 48, 3)\n"
          ],
          "name": "stdout"
        }
      ]
    },
    {
      "cell_type": "markdown",
      "metadata": {
        "id": "1-U75_0hp65I"
      },
      "source": [
        "데이터 제너레이팅"
      ]
    },
    {
      "cell_type": "code",
      "metadata": {
        "id": "dDE80zOAJKtw"
      },
      "source": [
        "def single_stock_generator(chart, labels, batch_size) :\n",
        "    #output [chart, labels]\n",
        "    while True :\n",
        "        stock_batch = np.zeros(shape=(batch_size, dimension, dimension, 3))\n",
        "        label_batch = np.zeros(shape=(batch_size, ))\n",
        "        for i in range(batch_size) :\n",
        "            idx = np.random.randint(len(labels))\n",
        "            stock_batch[i] = chart[idx]\n",
        "            label_batch[i] = labels[idx]\n",
        "\n",
        "        yield stock_batch, label_batch"
      ],
      "execution_count": null,
      "outputs": []
    },
    {
      "cell_type": "code",
      "metadata": {
        "id": "alQfZUPKJKrM"
      },
      "source": [
        "train_len = 6753\n",
        "batch_size = 16\n",
        "train_gen = single_stock_generator(figures[:train_len], labels[:train_len], batch_size)\n",
        "test_gen = single_stock_generator(figures[train_len:], labels[train_len:], batch_size)\n"
      ],
      "execution_count": null,
      "outputs": []
    },
    {
      "cell_type": "code",
      "metadata": {
        "colab": {
          "base_uri": "https://localhost:8080/"
        },
        "id": "Kc9n4_pAJKoz",
        "outputId": "59186297-ccfd-4e2e-d7e3-a0c50f330450"
      },
      "source": [
        "tmp_data = next(train_gen)\n",
        "print(\"Chart image shape : \",np.shape(tmp_data[0]))\n",
        "print(\"Label shape :\",np.shape(tmp_data[1]))"
      ],
      "execution_count": null,
      "outputs": [
        {
          "output_type": "stream",
          "text": [
            "Chart image shape :  (16, 48, 48, 3)\n",
            "Label shape : (16,)\n"
          ],
          "name": "stdout"
        }
      ]
    },
    {
      "cell_type": "code",
      "metadata": {
        "id": "DyziFTLVJKmi"
      },
      "source": [
        "# 만들어진 차트 이미지 중 하나를 예시로 그려보겠습니다.\n",
        "import matplotlib as mpl\n",
        "import matplotlib.pylab as plt\n",
        "%matplotlib inline"
      ],
      "execution_count": null,
      "outputs": []
    },
    {
      "cell_type": "code",
      "metadata": {
        "colab": {
          "base_uri": "https://localhost:8080/"
        },
        "id": "v0wb73ra3Act",
        "outputId": "019f0bc2-225a-4ef5-b5be-1e32d12b9904"
      },
      "source": [
        "len(tmp_data[0][0][:,:,:])"
      ],
      "execution_count": null,
      "outputs": [
        {
          "output_type": "execute_result",
          "data": {
            "text/plain": [
              "48"
            ]
          },
          "metadata": {
            "tags": []
          },
          "execution_count": 19
        }
      ]
    },
    {
      "cell_type": "code",
      "metadata": {
        "colab": {
          "base_uri": "https://localhost:8080/",
          "height": 267
        },
        "id": "WnHyOng6JKkS",
        "outputId": "b054b3a8-6d66-481d-d72a-ee5f2924ffe8"
      },
      "source": [
        "plt.figure()\n",
        "plt.imshow(tmp_data[0][15][:,:,:])\n",
        "plt.show()"
      ],
      "execution_count": null,
      "outputs": [
        {
          "output_type": "display_data",
          "data": {
            "image/png": "[encoded data removed]",
            "text/plain": [
              "<Figure size 432x288 with 1 Axes>"
            ]
          },
          "metadata": {
            "tags": [],
            "needs_background": "dark"
          }
        }
      ]
    },
    {
      "cell_type": "markdown",
      "metadata": {
        "id": "5C6p10cctvah"
      },
      "source": [
        "# 모듈, 라이브러리 설치"
      ]
    },
    {
      "cell_type": "code",
      "metadata": {
        "id": "UaF55R5XLAyf"
      },
      "source": [
        "# Keras의 Functional APi를 이용할 거라서 불러와줍니다.\n",
        "import tensorflow as tf\n",
        "\n",
        "from tensorflow import keras\n",
        "from tensorflow.keras import layers"
      ],
      "execution_count": null,
      "outputs": []
    },
    {
      "cell_type": "code",
      "metadata": {
        "id": "xyvxwSH9tyrS"
      },
      "source": [
        "from keras.models import Sequential\n",
        "from keras.layers import Bidirectional\n",
        "from keras.layers import LSTM\n",
        "from keras.layers import Dense\n",
        "from keras.layers import TimeDistributed\n",
        "\n",
        "import numpy as np\n",
        "import pandas as pd\n",
        "\n",
        "from sklearn import preprocessing\n",
        "from sklearn.model_selection import KFold, cross_val_score, cross_val_predict, GridSearchCV\n",
        "from sklearn.tree import DecisionTreeClassifier\n",
        "from sklearn.linear_model import LogisticRegression, Perceptron, SGDClassifier\n",
        "from sklearn.neighbors import KNeighborsClassifier\n",
        "from sklearn.naive_bayes import GaussianNB\n",
        "from sklearn.svm import SVC, LinearSVC\n",
        "from sklearn.ensemble import RandomForestClassifier , GradientBoostingClassifier\n",
        "from sklearn.model_selection import StratifiedKFold\n",
        "from sklearn.model_selection import train_test_split\n",
        "from sklearn.feature_selection import RFECV\n",
        "from sklearn.metrics import make_scorer, accuracy_score, classification_report, confusion_matrix, mean_squared_error\n",
        "\n",
        "import matplotlib as mpl\n",
        "import matplotlib.pyplot as plt\n",
        "import matplotlib.pylab as pylab\n",
        "import seaborn as sns\n",
        "from pandas import get_dummies\n",
        "import xgboost as xgb\n",
        "import scipy\n",
        "import math\n",
        "import json\n",
        "import sys\n",
        "import csv\n",
        "import os\n",
        "import tqdm\n",
        "import keras\n",
        "from keras.models import Sequential\n",
        "from keras.layers import Dense, LSTM, Dropout, GRU, Bidirectional\n",
        "from keras.optimizers import SGD\n",
        "from tqdm import tqdm_notebook\n",
        "\n"
      ],
      "execution_count": null,
      "outputs": []
    },
    {
      "cell_type": "code",
      "metadata": {
        "id": "CYfnpXbjK9ru"
      },
      "source": [
        "from tensorflow.keras.models import Sequential\n",
        "from tensorflow.keras.layers import Dense, LSTM, Conv1D, Lambda, ConvLSTM2D, Flatten\n",
        "from tensorflow.keras.losses import Huber\n",
        "from tensorflow.keras.optimizers import Adam\n",
        "from tensorflow.keras.callbacks import EarlyStopping, ModelCheckpoint"
      ],
      "execution_count": null,
      "outputs": []
    },
    {
      "cell_type": "markdown",
      "metadata": {
        "id": "Y8Ny4wZnNLQP"
      },
      "source": [
        "# ANN\n"
      ]
    },
    {
      "cell_type": "markdown",
      "metadata": {
        "id": "PWdW6vAD2ViV"
      },
      "source": [
        "참고 코드 : https://colab.research.google.com/drive/1rIylR9RWEckndbyFNx1Wl_yUQZUF-wyI#scrollTo=70zNPAmbZcGh"
      ]
    },
    {
      "cell_type": "code",
      "metadata": {
        "colab": {
          "base_uri": "https://localhost:8080/"
        },
        "id": "gcfK7Bqje2n-",
        "outputId": "69bcedb3-2f1c-4d8c-c1fe-bd164b5a507a"
      },
      "source": [
        "inputs = keras.Input(shape=(48, 48, 3))\n",
        "x = inputs\n",
        "x = layers.Flatten()(x)\n",
        "x = layers.Dense(32, activation='relu')(x)\n",
        "x = layers.Dense(1, activation='sigmoid')(x)\n",
        "outputs = x\n",
        "\n",
        "ANN = keras.Model(inputs, outputs)\n",
        "ANN.summary()"
      ],
      "execution_count": null,
      "outputs": [
        {
          "output_type": "stream",
          "text": [
            "Model: \"model_1\"\n",
            "_________________________________________________________________\n",
            "Layer (type)                 Output Shape              Param #   \n",
            "=================================================================\n",
            "input_2 (InputLayer)         [(None, 48, 48, 3)]       0         \n",
            "_________________________________________________________________\n",
            "flatten_5 (Flatten)          (None, 6912)              0         \n",
            "_________________________________________________________________\n",
            "dense_2 (Dense)              (None, 32)                221216    \n",
            "_________________________________________________________________\n",
            "dense_3 (Dense)              (None, 1)                 33        \n",
            "=================================================================\n",
            "Total params: 221,249\n",
            "Trainable params: 221,249\n",
            "Non-trainable params: 0\n",
            "_________________________________________________________________\n"
          ],
          "name": "stdout"
        }
      ]
    },
    {
      "cell_type": "code",
      "metadata": {
        "colab": {
          "base_uri": "https://localhost:8080/"
        },
        "id": "RwUI2JDURsTY",
        "outputId": "ea1e93e9-ba2f-4e95-87f3-7550cdf53618"
      },
      "source": [
        "#정확도\n",
        "num_iters = train_len // batch_size\n",
        "num_epochs = 11\n",
        "optimizer = tf.keras.optimizers.Adam(0.0001)\n",
        "loss_fn = tf.keras.losses.BinaryCrossentropy()\n",
        "acc_fn = tf.keras.metrics.BinaryAccuracy()\n",
        "num_test_iters = num_iters // 4\n",
        "\n",
        "for epoch in range(num_epochs) :\n",
        "    epoch_loss_avg = tf.keras.metrics.Mean()\n",
        "    val_loss_avg = tf.keras.metrics.Mean()\n",
        "    epoch_acc_avg = tf.keras.metrics.Mean()\n",
        "    val_acc_avg = tf.keras.metrics.Mean()\n",
        "\n",
        "    for iter in range(num_iters) :\n",
        "        x_batch, y_batch = next(train_gen)\n",
        "        y_batch = y_batch.reshape(-1,1)\n",
        "        y_ = ANN(x_batch)\n",
        "        loss_value = loss_fn(y_batch, y_)\n",
        "        acc_value = acc_fn(y_batch, y_)\n",
        "        epoch_loss_avg(loss_value)\n",
        "        epoch_acc_avg(acc_value)\n",
        "\n",
        "    for iter in range(num_test_iters) :\n",
        "        x_batch, y_batch = next(test_gen)\n",
        "        y_batch = y_batch.reshape(-1,1)\n",
        "        y_= ANN(x_batch)\n",
        "        loss_value2 = loss_fn(y_batch, y_)\n",
        "        acc_value2 = acc_fn(y_batch, y_)\n",
        "        val_loss_avg(loss_value2)\n",
        "        val_acc_avg(acc_value2)\n",
        "\n",
        "\n",
        "\n",
        "    print(\"Epoch {:03d}: , Train Loss: {:.5f} , Train acc: {:.5f}\".format(epoch, epoch_loss_avg.result(), epoch_acc_avg.result()))\n",
        "    print(\"Val_Loss: {:.3f}, Val_acc: {:.3f}\".format(val_loss_avg.result(), val_acc_avg.result()))\n",
        "\n",
        "ANN_loss = float(format(val_loss_avg.result()))\n",
        "ANN_ACC = float(format(val_acc_avg.result()))"
      ],
      "execution_count": null,
      "outputs": [
        {
          "output_type": "stream",
          "text": [
            "Epoch 000: , Train Loss: 0.67184 , Train acc: 0.60964\n",
            "Val_Loss: 0.665, Val_acc: 0.608\n",
            "Epoch 001: , Train Loss: 0.67218 , Train acc: 0.61103\n",
            "Val_Loss: 0.667, Val_acc: 0.611\n",
            "Epoch 002: , Train Loss: 0.67363 , Train acc: 0.60831\n",
            "Val_Loss: 0.660, Val_acc: 0.609\n",
            "Epoch 003: , Train Loss: 0.67360 , Train acc: 0.60933\n",
            "Val_Loss: 0.663, Val_acc: 0.609\n",
            "Epoch 004: , Train Loss: 0.66941 , Train acc: 0.60983\n",
            "Val_Loss: 0.659, Val_acc: 0.610\n",
            "Epoch 005: , Train Loss: 0.67358 , Train acc: 0.61110\n",
            "Val_Loss: 0.662, Val_acc: 0.611\n",
            "Epoch 006: , Train Loss: 0.67089 , Train acc: 0.61145\n",
            "Val_Loss: 0.658, Val_acc: 0.612\n",
            "Epoch 007: , Train Loss: 0.67448 , Train acc: 0.61256\n",
            "Val_Loss: 0.660, Val_acc: 0.612\n",
            "Epoch 008: , Train Loss: 0.67347 , Train acc: 0.61236\n",
            "Val_Loss: 0.660, Val_acc: 0.612\n",
            "Epoch 009: , Train Loss: 0.67502 , Train acc: 0.61189\n",
            "Val_Loss: 0.665, Val_acc: 0.612\n",
            "Epoch 010: , Train Loss: 0.67178 , Train acc: 0.61178\n",
            "Val_Loss: 0.660, Val_acc: 0.612\n"
          ],
          "name": "stdout"
        }
      ]
    },
    {
      "cell_type": "code",
      "metadata": {
        "colab": {
          "base_uri": "https://localhost:8080/"
        },
        "id": "BRj-rj3Dncc8",
        "outputId": "c3dab544-94c9-41e5-85f3-7305d80026c1"
      },
      "source": [
        "ANN_ACC"
      ],
      "execution_count": null,
      "outputs": [
        {
          "output_type": "execute_result",
          "data": {
            "text/plain": [
              "0.6120555400848389"
            ]
          },
          "metadata": {
            "tags": []
          },
          "execution_count": 35
        }
      ]
    },
    {
      "cell_type": "markdown",
      "metadata": {
        "id": "spiP-T0gx7qZ"
      },
      "source": [
        "# 1D CNN"
      ]
    },
    {
      "cell_type": "code",
      "metadata": {
        "colab": {
          "base_uri": "https://localhost:8080/"
        },
        "id": "sbg6L2dn9fJj",
        "outputId": "7628dee5-33ba-4b0a-cf52-9691957e02d2"
      },
      "source": [
        "inputs = keras.Input(shape=(48, 48, 3))\n",
        "x = inputs\n",
        "x = layers.Conv1D(filters=32, kernel_size=5, padding=\"causal\",activation=\"relu\")(x)\n",
        "x = layers.Flatten()(x)\n",
        "x = layers.Dense(16, activation=\"relu\")(x)\n",
        "x = layers.Dense(1, activation='sigmoid')(x)\n",
        "outputs = x\n",
        "\n",
        "CNN1D = keras.Model(inputs, outputs)\n",
        "CNN1D.summary()"
      ],
      "execution_count": null,
      "outputs": [
        {
          "output_type": "stream",
          "text": [
            "Model: \"model_2\"\n",
            "_________________________________________________________________\n",
            "Layer (type)                 Output Shape              Param #   \n",
            "=================================================================\n",
            "input_3 (InputLayer)         [(None, 48, 48, 3)]       0         \n",
            "_________________________________________________________________\n",
            "conv1d (Conv1D)              (None, 48, 48, 32)        512       \n",
            "_________________________________________________________________\n",
            "flatten_6 (Flatten)          (None, 73728)             0         \n",
            "_________________________________________________________________\n",
            "dense_4 (Dense)              (None, 16)                1179664   \n",
            "_________________________________________________________________\n",
            "dense_5 (Dense)              (None, 1)                 17        \n",
            "=================================================================\n",
            "Total params: 1,180,193\n",
            "Trainable params: 1,180,193\n",
            "Non-trainable params: 0\n",
            "_________________________________________________________________\n"
          ],
          "name": "stdout"
        }
      ]
    },
    {
      "cell_type": "code",
      "metadata": {
        "colab": {
          "base_uri": "https://localhost:8080/"
        },
        "id": "olS1wlkpyz3A",
        "outputId": "2036aa30-d614-4cd3-e72d-a0b4c0648b4a"
      },
      "source": [
        "#정확도\n",
        "num_iters = train_len // batch_size\n",
        "num_epochs = 11\n",
        "optimizer = tf.keras.optimizers.Adam(0.0001)\n",
        "loss_fn = tf.keras.losses.BinaryCrossentropy()\n",
        "acc_fn = tf.keras.metrics.BinaryAccuracy()\n",
        "num_test_iters = num_iters // 4\n",
        "for epoch in range(num_epochs) :\n",
        "    epoch_loss_avg = tf.keras.metrics.Mean()\n",
        "    val_loss_avg = tf.keras.metrics.Mean()\n",
        "    epoch_acc_avg = tf.keras.metrics.Mean()\n",
        "    val_acc_avg = tf.keras.metrics.Mean()\n",
        "\n",
        "    for iter in range(num_iters) :\n",
        "        x_batch, y_batch = next(train_gen)\n",
        "        y_batch = y_batch.reshape(-1,1)\n",
        "        y_ = CNN1D(x_batch)\n",
        "        loss_value = loss_fn(y_batch, y_)\n",
        "        acc_value = acc_fn(y_batch, y_)\n",
        "        epoch_loss_avg(loss_value)\n",
        "        epoch_acc_avg(acc_value)\n",
        "\n",
        "    for iter in range(num_test_iters) :\n",
        "        x_batch, y_batch = next(test_gen)\n",
        "        y_batch = y_batch.reshape(-1,1)\n",
        "        y_= CNN1D(x_batch)\n",
        "        loss_value2 = loss_fn(y_batch, y_)\n",
        "        acc_value2 = acc_fn(y_batch, y_)\n",
        "        val_loss_avg(loss_value2)\n",
        "        val_acc_avg(acc_value2)\n",
        "\n",
        "\n",
        "\n",
        "    print(\"Epoch {:03d}: , Train Loss: {:.5f} , Train acc: {:.5f}\".format(epoch, epoch_loss_avg.result(), epoch_acc_avg.result()))\n",
        "    print(\"Val_Loss: {:.3f}, Val_acc: {:.3f}\".format(val_loss_avg.result(), val_acc_avg.result()))\n",
        "\n",
        "CNN1D_loss = float(format(val_loss_avg.result()))\n",
        "CNN1D_ACC = float(format(val_acc_avg.result()))"
      ],
      "execution_count": null,
      "outputs": [
        {
          "output_type": "stream",
          "text": [
            "Epoch 000: , Train Loss: 0.70311 , Train acc: 0.36974\n",
            "Val_Loss: 0.708, Val_acc: 0.360\n",
            "Epoch 001: , Train Loss: 0.70281 , Train acc: 0.35737\n",
            "Val_Loss: 0.708, Val_acc: 0.358\n",
            "Epoch 002: , Train Loss: 0.70412 , Train acc: 0.35578\n",
            "Val_Loss: 0.708, Val_acc: 0.354\n",
            "Epoch 003: , Train Loss: 0.70411 , Train acc: 0.35271\n",
            "Val_Loss: 0.708, Val_acc: 0.352\n",
            "Epoch 004: , Train Loss: 0.70353 , Train acc: 0.35079\n",
            "Val_Loss: 0.707, Val_acc: 0.351\n",
            "Epoch 005: , Train Loss: 0.70331 , Train acc: 0.35100\n",
            "Val_Loss: 0.708, Val_acc: 0.351\n",
            "Epoch 006: , Train Loss: 0.70350 , Train acc: 0.35082\n",
            "Val_Loss: 0.706, Val_acc: 0.352\n",
            "Epoch 007: , Train Loss: 0.70355 , Train acc: 0.35237\n",
            "Val_Loss: 0.708, Val_acc: 0.353\n",
            "Epoch 008: , Train Loss: 0.70370 , Train acc: 0.35237\n",
            "Val_Loss: 0.709, Val_acc: 0.352\n",
            "Epoch 009: , Train Loss: 0.70306 , Train acc: 0.35257\n",
            "Val_Loss: 0.708, Val_acc: 0.352\n",
            "Epoch 010: , Train Loss: 0.70348 , Train acc: 0.35233\n",
            "Val_Loss: 0.707, Val_acc: 0.353\n"
          ],
          "name": "stdout"
        }
      ]
    },
    {
      "cell_type": "code",
      "metadata": {
        "colab": {
          "base_uri": "https://localhost:8080/"
        },
        "id": "TQ2fGoU9zlph",
        "outputId": "a301cd5a-88be-40a9-b022-67d320b6113f"
      },
      "source": [
        "CNN1D_ACC"
      ],
      "execution_count": null,
      "outputs": [
        {
          "output_type": "execute_result",
          "data": {
            "text/plain": [
              "0.35252845287323"
            ]
          },
          "metadata": {
            "tags": []
          },
          "execution_count": 38
        }
      ]
    },
    {
      "cell_type": "markdown",
      "metadata": {
        "id": "4zFU8OcvJnam"
      },
      "source": [
        "# CNN"
      ]
    },
    {
      "cell_type": "markdown",
      "metadata": {
        "id": "v0Ln0Vf4J5xm"
      },
      "source": [
        "참고 논문 : Using Deep Learning Neural Networks and Candlestick chart Representation to Predict Stock Market\n",
        "https://arxiv.org/pdf/1903.12258.pdf"
      ]
    },
    {
      "cell_type": "markdown",
      "metadata": {
        "id": "3fZ1KZKbMk6x"
      },
      "source": [
        "다음날 종가가 상승이냐 아니냐를 맞추는 binary classification 문제"
      ]
    },
    {
      "cell_type": "code",
      "metadata": {
        "id": "5r9oU4VTtc07",
        "colab": {
          "base_uri": "https://localhost:8080/"
        },
        "outputId": "23bd5c70-548b-46d2-cf9b-c7b8d49ceb28"
      },
      "source": [
        "inputs = keras.Input(shape=(48, 48, 3))\n",
        "x = inputs\n",
        "x = layers.Conv2D(48, 3, activation='relu', padding=\"same\")(x)\n",
        "x = layers.MaxPooling2D(2)(x)\n",
        "x = layers.Dropout(rate=0.5)(x)\n",
        "x = layers.Conv2D(96, 3, activation='relu', padding=\"same\")(x)\n",
        "x = layers.MaxPooling2D(2)(x)\n",
        "x = layers.Dropout(rate=0.5)(x)\n",
        "x = layers.Flatten()(x)\n",
        "x = layers.Dense(1, activation='sigmoid')(x)\n",
        "outputs = x\n",
        "\n",
        "CNN = keras.Model(inputs, outputs)\n",
        "CNN.summary()"
      ],
      "execution_count": null,
      "outputs": [
        {
          "output_type": "stream",
          "text": [
            "Model: \"model_3\"\n",
            "_________________________________________________________________\n",
            "Layer (type)                 Output Shape              Param #   \n",
            "=================================================================\n",
            "input_4 (InputLayer)         [(None, 48, 48, 3)]       0         \n",
            "_________________________________________________________________\n",
            "conv2d (Conv2D)              (None, 48, 48, 48)        1344      \n",
            "_________________________________________________________________\n",
            "max_pooling2d (MaxPooling2D) (None, 24, 24, 48)        0         \n",
            "_________________________________________________________________\n",
            "dropout (Dropout)            (None, 24, 24, 48)        0         \n",
            "_________________________________________________________________\n",
            "conv2d_1 (Conv2D)            (None, 24, 24, 96)        41568     \n",
            "_________________________________________________________________\n",
            "max_pooling2d_1 (MaxPooling2 (None, 12, 12, 96)        0         \n",
            "_________________________________________________________________\n",
            "dropout_1 (Dropout)          (None, 12, 12, 96)        0         \n",
            "_________________________________________________________________\n",
            "flatten_7 (Flatten)          (None, 13824)             0         \n",
            "_________________________________________________________________\n",
            "dense_6 (Dense)              (None, 1)                 13825     \n",
            "=================================================================\n",
            "Total params: 56,737\n",
            "Trainable params: 56,737\n",
            "Non-trainable params: 0\n",
            "_________________________________________________________________\n"
          ],
          "name": "stdout"
        }
      ]
    },
    {
      "cell_type": "code",
      "metadata": {
        "colab": {
          "base_uri": "https://localhost:8080/"
        },
        "id": "Ux-IH5iAXR-1",
        "outputId": "e5425aa3-f3a6-47ab-ea16-d3e638ccf989"
      },
      "source": [
        "#정확도\n",
        "num_iters = train_len // batch_size\n",
        "num_epochs = 11\n",
        "optimizer = tf.keras.optimizers.Adam(0.0001)\n",
        "loss_fn = tf.keras.losses.BinaryCrossentropy()\n",
        "acc_fn = tf.keras.metrics.BinaryAccuracy()\n",
        "num_test_iters = num_iters // 4\n",
        "for epoch in range(num_epochs) :\n",
        "    epoch_loss_avg = tf.keras.metrics.Mean()\n",
        "    val_loss_avg = tf.keras.metrics.Mean()\n",
        "    epoch_acc_avg = tf.keras.metrics.Mean()\n",
        "    val_acc_avg = tf.keras.metrics.Mean()\n",
        "\n",
        "    for iter in range(num_iters) :\n",
        "        x_batch, y_batch = next(train_gen)\n",
        "        y_batch = y_batch.reshape(-1,1)\n",
        "        y_ = CNN(x_batch)\n",
        "        loss_value = loss_fn(y_batch, y_)\n",
        "        acc_value = acc_fn(y_batch, y_)\n",
        "        epoch_loss_avg(loss_value)\n",
        "        epoch_acc_avg(acc_value)\n",
        "\n",
        "    for iter in range(num_test_iters) :\n",
        "        x_batch, y_batch = next(test_gen)\n",
        "        y_batch = y_batch.reshape(-1,1)\n",
        "        y_= CNN(x_batch)\n",
        "        loss_value2 = loss_fn(y_batch, y_)\n",
        "        acc_value2 = acc_fn(y_batch, y_)\n",
        "        val_loss_avg(loss_value2)\n",
        "        val_acc_avg(acc_value2)\n",
        "\n",
        "\n",
        "\n",
        "    print(\"Epoch {:03d}: , Train Loss: {:.5f} , Train acc: {:.5f}\".format(epoch, epoch_loss_avg.result(), epoch_acc_avg.result()))\n",
        "    print(\"Val_Loss: {:.3f}, Val_acc: {:.3f}\".format(val_loss_avg.result(), val_acc_avg.result()))\n",
        "\n",
        "CNN_loss = float(format(val_loss_avg.result()))\n",
        "CNN_ACC = float(format(val_acc_avg.result()))"
      ],
      "execution_count": null,
      "outputs": [
        {
          "output_type": "stream",
          "text": [
            "Epoch 000: , Train Loss: 0.69415 , Train acc: 0.48890\n",
            "Val_Loss: 0.696, Val_acc: 0.479\n",
            "Epoch 001: , Train Loss: 0.69433 , Train acc: 0.47284\n",
            "Val_Loss: 0.697, Val_acc: 0.473\n",
            "Epoch 002: , Train Loss: 0.69454 , Train acc: 0.47127\n",
            "Val_Loss: 0.696, Val_acc: 0.472\n",
            "Epoch 003: , Train Loss: 0.69498 , Train acc: 0.46930\n",
            "Val_Loss: 0.696, Val_acc: 0.469\n",
            "Epoch 004: , Train Loss: 0.69466 , Train acc: 0.46862\n",
            "Val_Loss: 0.696, Val_acc: 0.468\n",
            "Epoch 005: , Train Loss: 0.69419 , Train acc: 0.46864\n",
            "Val_Loss: 0.696, Val_acc: 0.469\n",
            "Epoch 006: , Train Loss: 0.69434 , Train acc: 0.46950\n",
            "Val_Loss: 0.696, Val_acc: 0.470\n",
            "Epoch 007: , Train Loss: 0.69426 , Train acc: 0.46962\n",
            "Val_Loss: 0.698, Val_acc: 0.469\n",
            "Epoch 008: , Train Loss: 0.69419 , Train acc: 0.46919\n",
            "Val_Loss: 0.697, Val_acc: 0.470\n",
            "Epoch 009: , Train Loss: 0.69423 , Train acc: 0.46964\n",
            "Val_Loss: 0.697, Val_acc: 0.470\n",
            "Epoch 010: , Train Loss: 0.69461 , Train acc: 0.46935\n",
            "Val_Loss: 0.697, Val_acc: 0.469\n"
          ],
          "name": "stdout"
        }
      ]
    },
    {
      "cell_type": "markdown",
      "metadata": {
        "id": "6pmt8oDZ2Lxa"
      },
      "source": [
        "# GRU\n"
      ]
    },
    {
      "cell_type": "markdown",
      "metadata": {
        "id": "V_IHXhdWI0WG"
      },
      "source": [
        "소스코드 : https://github.com/zutshianand/Stock-Price-Prediction/blob/master/main.ipynb"
      ]
    },
    {
      "cell_type": "code",
      "metadata": {
        "colab": {
          "base_uri": "https://localhost:8080/"
        },
        "id": "m8c-rP8sQYRl",
        "outputId": "353ba95a-8355-4bcd-8663-e41e5c61ba07"
      },
      "source": [
        "regressorGRU = Sequential()\n",
        "# First GRU layer with Dropout regularisation\n",
        "regressorGRU.add(GRU(units=50, return_sequences=True, input_shape=(2304, 3), activation='tanh'))\n",
        "# The output layer\n",
        "regressorGRU.add(Dense(units=1))\n",
        "regressorGRU.summary()"
      ],
      "execution_count": null,
      "outputs": [
        {
          "output_type": "stream",
          "text": [
            "Model: \"sequential\"\n",
            "_________________________________________________________________\n",
            "Layer (type)                 Output Shape              Param #   \n",
            "=================================================================\n",
            "gru (GRU)                    (None, 2304, 50)          8250      \n",
            "_________________________________________________________________\n",
            "dense (Dense)                (None, 2304, 1)           51        \n",
            "=================================================================\n",
            "Total params: 8,301\n",
            "Trainable params: 8,301\n",
            "Non-trainable params: 0\n",
            "_________________________________________________________________\n"
          ],
          "name": "stdout"
        }
      ]
    },
    {
      "cell_type": "code",
      "metadata": {
        "colab": {
          "base_uri": "https://localhost:8080/"
        },
        "id": "qR0wZZCjSCbd",
        "outputId": "a0fffb0c-884c-4544-be73-c213c427fb69"
      },
      "source": [
        "#정확도\n",
        "num_iters = train_len // batch_size\n",
        "num_epochs = 11\n",
        "optimizer = tf.keras.optimizers.Adam(0.0001)\n",
        "loss_fn = tf.keras.losses.BinaryCrossentropy()\n",
        "acc_fn = tf.keras.metrics.BinaryAccuracy()\n",
        "num_test_iters = num_iters // 4\n",
        "for epoch in range(num_epochs) :\n",
        "    epoch_loss_avg = tf.keras.metrics.Mean()\n",
        "    val_loss_avg = tf.keras.metrics.Mean()\n",
        "    epoch_acc_avg = tf.keras.metrics.Mean()\n",
        "    val_acc_avg = tf.keras.metrics.Mean()\n",
        "\n",
        "    for iter in range(num_iters) :\n",
        "        x_batch, y_batch = next(train_gen)\n",
        "        x_batch = x_batch.reshape(16, 2304, 3)\n",
        "        epoch_loss_avg(loss_value)\n",
        "        epoch_acc_avg(acc_value)\n",
        "\n",
        "    for iter in range(num_test_iters) :\n",
        "        x_batch, y_batch = next(test_gen)\n",
        "        x_batch = x_batch.reshape(16, 2304, 3)\n",
        "        y_= regressorGRU(x_batch)\n",
        "        loss_value = loss_fn(y_batch, y_)\n",
        "        acc_value = acc_fn(y_batch, y_)\n",
        "        val_loss_avg(loss_value)\n",
        "        val_acc_avg(acc_value)\n",
        "\n",
        "\n",
        "\n",
        "    print(\"Epoch {:03d}: , Train Loss: {:.5f} , Train acc: {:.5f}\".format(epoch, epoch_loss_avg.result(), epoch_acc_avg.result()))\n",
        "    print(\"Val_Loss: {:.3f}, Val_acc: {:.3f}\".format(val_loss_avg.result(), val_acc_avg.result()))\n",
        "\n",
        "GRU_loss = float(format(val_loss_avg.result()))\n",
        "GRU_ACC = float(format(val_acc_avg.result()))"
      ],
      "execution_count": null,
      "outputs": [
        {
          "output_type": "stream",
          "text": [
            "Epoch 000: , Train Loss: 0.69558 , Train acc: 0.46962\n",
            "Val_Loss: 0.815, Val_acc: 0.738\n",
            "Epoch 001: , Train Loss: 0.77902 , Train acc: 0.73691\n",
            "Val_Loss: 0.816, Val_acc: 0.740\n",
            "Epoch 002: , Train Loss: 0.60716 , Train acc: 0.73661\n",
            "Val_Loss: 0.858, Val_acc: 0.734\n",
            "Epoch 003: , Train Loss: 1.12562 , Train acc: 0.73155\n",
            "Val_Loss: 0.894, Val_acc: 0.729\n",
            "Epoch 004: , Train Loss: 1.30173 , Train acc: 0.72574\n",
            "Val_Loss: 0.845, Val_acc: 0.724\n",
            "Epoch 005: , Train Loss: 0.42922 , Train acc: 0.72583\n",
            "Val_Loss: 0.895, Val_acc: 0.724\n",
            "Epoch 006: , Train Loss: 0.77460 , Train acc: 0.72282\n",
            "Val_Loss: 0.842, Val_acc: 0.723\n",
            "Epoch 007: , Train Loss: 0.95467 , Train acc: 0.72339\n",
            "Val_Loss: 0.876, Val_acc: 0.723\n",
            "Epoch 008: , Train Loss: 0.25697 , Train acc: 0.72232\n",
            "Val_Loss: 0.851, Val_acc: 0.722\n",
            "Epoch 009: , Train Loss: 0.42891 , Train acc: 0.72249\n",
            "Val_Loss: 0.853, Val_acc: 0.722\n",
            "Epoch 010: , Train Loss: 0.60341 , Train acc: 0.72250\n",
            "Val_Loss: 0.849, Val_acc: 0.723\n"
          ],
          "name": "stdout"
        }
      ]
    },
    {
      "cell_type": "code",
      "metadata": {
        "colab": {
          "base_uri": "https://localhost:8080/"
        },
        "id": "eUWVpOXsSC4d",
        "outputId": "dca38d42-0623-48c5-b061-8e87693e603e"
      },
      "source": [
        "GRU_ACC"
      ],
      "execution_count": null,
      "outputs": [
        {
          "output_type": "execute_result",
          "data": {
            "text/plain": [
              "0.7225949764251709"
            ]
          },
          "metadata": {
            "tags": []
          },
          "execution_count": 43
        }
      ]
    },
    {
      "cell_type": "markdown",
      "metadata": {
        "id": "dPJIiThwVYSo"
      },
      "source": [
        "# LSTM"
      ]
    },
    {
      "cell_type": "markdown",
      "metadata": {
        "id": "nfiA6NWYdGxJ"
      },
      "source": [
        "shape 확인 기존 48,48,3 -> 48,3으로 변경"
      ]
    },
    {
      "cell_type": "code",
      "metadata": {
        "colab": {
          "base_uri": "https://localhost:8080/"
        },
        "id": "Qlz42Mn1b0xI",
        "outputId": "d8eef740-b103-4eb5-d7c2-64291c77b69f"
      },
      "source": [
        "inputs = keras.Input(shape=(2304, 3))\n",
        "x = inputs\n",
        "# First LSTM layer with Dropout regularisation\n",
        "x = layers.LSTM(units=32, return_sequences=True)(x)\n",
        "x = layers.Dropout(rate=0.5)(x)\n",
        "# Second LSTM layer\n",
        "x = layers.LSTM(units=32, return_sequences=True)(x)\n",
        "x = layers.Dropout(rate=0.5)(x)\n",
        "# Third LSTM layer\n",
        "x = layers.LSTM(units=32, return_sequences=True)(x)\n",
        "x = layers.Dropout(rate=0.5)(x)\n",
        "# Fourth LSTM layer\n",
        "x = layers.LSTM(units=32, return_sequences=True)(x)\n",
        "x = layers.Dropout(rate=0.5)(x)\n",
        "# The output layer\n",
        "x = layers.Dense(1)(x)\n",
        "outputs = x\n",
        "\n",
        "LSTM = keras.Model(inputs, outputs)\n",
        "LSTM.summary()"
      ],
      "execution_count": null,
      "outputs": [
        {
          "output_type": "stream",
          "text": [
            "Model: \"model_4\"\n",
            "_________________________________________________________________\n",
            "Layer (type)                 Output Shape              Param #   \n",
            "=================================================================\n",
            "input_5 (InputLayer)         [(None, 2304, 3)]         0         \n",
            "_________________________________________________________________\n",
            "lstm (LSTM)                  (None, 2304, 32)          4608      \n",
            "_________________________________________________________________\n",
            "dropout_2 (Dropout)          (None, 2304, 32)          0         \n",
            "_________________________________________________________________\n",
            "lstm_1 (LSTM)                (None, 2304, 32)          8320      \n",
            "_________________________________________________________________\n",
            "dropout_3 (Dropout)          (None, 2304, 32)          0         \n",
            "_________________________________________________________________\n",
            "lstm_2 (LSTM)                (None, 2304, 32)          8320      \n",
            "_________________________________________________________________\n",
            "dropout_4 (Dropout)          (None, 2304, 32)          0         \n",
            "_________________________________________________________________\n",
            "lstm_3 (LSTM)                (None, 2304, 32)          8320      \n",
            "_________________________________________________________________\n",
            "dropout_5 (Dropout)          (None, 2304, 32)          0         \n",
            "_________________________________________________________________\n",
            "dense_7 (Dense)              (None, 2304, 1)           33        \n",
            "=================================================================\n",
            "Total params: 29,601\n",
            "Trainable params: 29,601\n",
            "Non-trainable params: 0\n",
            "_________________________________________________________________\n"
          ],
          "name": "stdout"
        }
      ]
    },
    {
      "cell_type": "code",
      "metadata": {
        "id": "jIhamLBPfzeC",
        "colab": {
          "base_uri": "https://localhost:8080/"
        },
        "outputId": "f25e0359-2645-4182-8eed-5f6b9f94ae06"
      },
      "source": [
        "#정확도\n",
        "num_iters = train_len // batch_size\n",
        "num_epochs = 11\n",
        "optimizer = tf.keras.optimizers.Adam(0.0001)\n",
        "loss_fn = tf.keras.losses.BinaryCrossentropy()\n",
        "acc_fn = tf.keras.metrics.BinaryAccuracy()\n",
        "num_test_iters = num_iters // 4\n",
        "for epoch in range(num_epochs) :\n",
        "    epoch_loss_avg = tf.keras.metrics.Mean()\n",
        "    val_loss_avg = tf.keras.metrics.Mean()\n",
        "    epoch_acc_avg = tf.keras.metrics.Mean()\n",
        "    val_acc_avg = tf.keras.metrics.Mean()\n",
        "\n",
        "    for iter in range(num_iters) :\n",
        "        x_batch, y_batch = next(train_gen)\n",
        "        x_batch = x_batch.reshape(16, 2304, 3)\n",
        "        y_ = LSTM(x_batch)\n",
        "        loss_value = loss_fn(y_batch, y_)\n",
        "        acc_value = acc_fn(y_batch, y_)\n",
        "        epoch_loss_avg.update_state(loss_value)\n",
        "        epoch_acc_avg(acc_value)\n",
        "\n",
        "    for iter in range(num_test_iters) :\n",
        "        x_batch, y_batch = next(test_gen)\n",
        "        x_batch = x_batch.reshape(16, 2304, 3)\n",
        "        y_= LSTM(x_batch)\n",
        "        loss_value2 = loss_fn(y_batch, y_)\n",
        "        acc_value2 = acc_fn(y_batch, y_)\n",
        "        val_loss_avg.update_state(loss_value2)\n",
        "        val_acc_avg(acc_value2)\n",
        "\n",
        "\n",
        "\n",
        "    print(\"Epoch {:03d}: , Train Loss: {:.5f} , Train acc: {:.5f}\".format(epoch, epoch_loss_avg.result(), epoch_acc_avg.result()))\n",
        "    print(\"Val_Loss: {:.3f}, Val_acc: {:.3f}\".format(val_loss_avg.result(), val_acc_avg.result()))\n",
        "\n",
        "LSTM_loss = float(format(val_loss_avg.result()))\n",
        "LSTM_ACC = float(format(val_acc_avg.result()))"
      ],
      "execution_count": null,
      "outputs": [
        {
          "output_type": "stream",
          "text": [
            "Epoch 000: , Train Loss: 5.29175 , Train acc: 0.64997\n",
            "Val_Loss: 4.267, Val_acc: 0.663\n",
            "Epoch 001: , Train Loss: 5.35570 , Train acc: 0.66593\n",
            "Val_Loss: 4.432, Val_acc: 0.665\n",
            "Epoch 002: , Train Loss: 5.40365 , Train acc: 0.66373\n",
            "Val_Loss: 4.349, Val_acc: 0.664\n",
            "Epoch 003: , Train Loss: 5.47678 , Train acc: 0.66363\n",
            "Val_Loss: 4.092, Val_acc: 0.664\n",
            "Epoch 004: , Train Loss: 5.39686 , Train acc: 0.66377\n",
            "Val_Loss: 4.065, Val_acc: 0.664\n",
            "Epoch 005: , Train Loss: 5.46532 , Train acc: 0.66382\n",
            "Val_Loss: 4.542, Val_acc: 0.663\n",
            "Epoch 006: , Train Loss: 5.24390 , Train acc: 0.66382\n",
            "Val_Loss: 4.588, Val_acc: 0.664\n",
            "Epoch 007: , Train Loss: 5.24620 , Train acc: 0.66438\n",
            "Val_Loss: 4.413, Val_acc: 0.665\n",
            "Epoch 008: , Train Loss: 5.52004 , Train acc: 0.66437\n",
            "Val_Loss: 4.404, Val_acc: 0.664\n",
            "Epoch 009: , Train Loss: 5.33979 , Train acc: 0.66377\n",
            "Val_Loss: 4.505, Val_acc: 0.664\n",
            "Epoch 010: , Train Loss: 5.41288 , Train acc: 0.66370\n",
            "Val_Loss: 4.377, Val_acc: 0.664\n"
          ],
          "name": "stdout"
        }
      ]
    },
    {
      "cell_type": "code",
      "metadata": {
        "id": "yXMGmdwxfq95",
        "colab": {
          "base_uri": "https://localhost:8080/"
        },
        "outputId": "3c092fc4-1fbd-4f2a-e790-4d251de96daa"
      },
      "source": [
        "LSTM_ACC"
      ],
      "execution_count": null,
      "outputs": [
        {
          "output_type": "execute_result",
          "data": {
            "text/plain": [
              "0.6637458205223083"
            ]
          },
          "metadata": {
            "tags": []
          },
          "execution_count": 46
        }
      ]
    },
    {
      "cell_type": "markdown",
      "metadata": {
        "id": "GZ9ZdVpZVYsj"
      },
      "source": [
        "# BLSTM"
      ]
    },
    {
      "cell_type": "markdown",
      "metadata": {
        "id": "EFFsx3gMF8BD"
      },
      "source": [
        "소스코드 : https://machinelearningmastery.com/develop-bidirectional-lstm-sequence-classification-python-keras/"
      ]
    },
    {
      "cell_type": "code",
      "metadata": {
        "id": "GPudR5WFzDSp"
      },
      "source": [
        "from keras.models import Sequential\n",
        "from keras.layers import Bidirectional\n",
        "from keras.layers import LSTM\n",
        "from keras.layers import Dense\n",
        "from keras.layers import TimeDistributed"
      ],
      "execution_count": null,
      "outputs": []
    },
    {
      "cell_type": "code",
      "metadata": {
        "colab": {
          "base_uri": "https://localhost:8080/"
        },
        "id": "W6ox8QPNE0m-",
        "outputId": "338e642d-91bb-439e-ac14-e9a5c8ee474b"
      },
      "source": [
        "BL = Sequential()\n",
        "BL.add(Bidirectional(LSTM(20, return_sequences=True), input_shape=(2304, 3)))\n",
        "BL.add(TimeDistributed(Dense(1, activation='sigmoid')))\n",
        "BL.summary()"
      ],
      "execution_count": null,
      "outputs": [
        {
          "output_type": "stream",
          "text": [
            "Model: \"sequential_1\"\n",
            "_________________________________________________________________\n",
            "Layer (type)                 Output Shape              Param #   \n",
            "=================================================================\n",
            "bidirectional (Bidirectional (None, 2304, 40)          3840      \n",
            "_________________________________________________________________\n",
            "time_distributed (TimeDistri (None, 2304, 1)           41        \n",
            "=================================================================\n",
            "Total params: 3,881\n",
            "Trainable params: 3,881\n",
            "Non-trainable params: 0\n",
            "_________________________________________________________________\n"
          ],
          "name": "stdout"
        }
      ]
    },
    {
      "cell_type": "code",
      "metadata": {
        "colab": {
          "base_uri": "https://localhost:8080/"
        },
        "id": "gDCaoOlvG2SW",
        "outputId": "9c1ef592-a83c-4dee-d641-4b80fdab9a70"
      },
      "source": [
        "#정확도\n",
        "num_iters = train_len // batch_size\n",
        "num_epochs = 11\n",
        "optimizer = tf.keras.optimizers.Adam(0.0001)\n",
        "loss_fn = tf.keras.losses.BinaryCrossentropy()\n",
        "acc_fn = tf.keras.metrics.BinaryAccuracy()\n",
        "num_test_iters = num_iters // 4\n",
        "for epoch in range(num_epochs) :\n",
        "    epoch_loss_avg = tf.keras.metrics.Mean()\n",
        "    val_loss_avg = tf.keras.metrics.Mean()\n",
        "    epoch_acc_avg = tf.keras.metrics.Mean()\n",
        "    val_acc_avg = tf.keras.metrics.Mean()\n",
        "\n",
        "    for iter in range(num_iters) :\n",
        "        x_batch, y_batch = next(train_gen)\n",
        "        x_batch = x_batch.reshape(16, 2304, 3)\n",
        "        y_ = BL(x_batch)\n",
        "        loss_value = loss_fn(y_batch, y_)\n",
        "        acc_value = acc_fn(y_batch, y_)\n",
        "        epoch_loss_avg(loss_value)\n",
        "        epoch_acc_avg(acc_value)\n",
        "\n",
        "    for iter in range(num_test_iters) :\n",
        "        x_batch, y_batch = next(test_gen)\n",
        "        x_batch = x_batch.reshape(16, 2304, 3)\n",
        "        y_= BL(x_batch)\n",
        "        loss_value2 = loss_fn(y_batch, y_)\n",
        "        acc_value = acc_fn(y_batch, y_)\n",
        "        val_loss_avg(loss_value2)\n",
        "        val_acc_avg(acc_value)\n",
        "\n",
        "\n",
        "\n",
        "    print(\"Epoch {:03d}: , Train Loss: {:.5f} , Train acc: {:.5f}\".format(epoch, epoch_loss_avg.result(), epoch_acc_avg.result()))\n",
        "    print(\"Val_Loss: {:.3f}, Val_acc: {:.3f}\".format(val_loss_avg.result(), val_acc_avg.result()))\n",
        "\n",
        "BLSTM_loss = float(format(val_loss_avg.result()))\n",
        "BLSTM_ACC = float(format(val_acc_avg.result()))"
      ],
      "execution_count": null,
      "outputs": [
        {
          "output_type": "stream",
          "text": [
            "Epoch 000: , Train Loss: 0.65370 , Train acc: 0.65442\n",
            "Val_Loss: 0.627, Val_acc: 0.660\n",
            "Epoch 001: , Train Loss: 0.65061 , Train acc: 0.66257\n",
            "Val_Loss: 0.628, Val_acc: 0.666\n",
            "Epoch 002: , Train Loss: 0.65201 , Train acc: 0.66768\n",
            "Val_Loss: 0.629, Val_acc: 0.667\n",
            "Epoch 003: , Train Loss: 0.65358 , Train acc: 0.66674\n",
            "Val_Loss: 0.633, Val_acc: 0.666\n",
            "Epoch 004: , Train Loss: 0.65543 , Train acc: 0.66505\n",
            "Val_Loss: 0.633, Val_acc: 0.665\n",
            "Epoch 005: , Train Loss: 0.65471 , Train acc: 0.66459\n",
            "Val_Loss: 0.630, Val_acc: 0.664\n",
            "Epoch 006: , Train Loss: 0.65655 , Train acc: 0.66350\n",
            "Val_Loss: 0.631, Val_acc: 0.663\n",
            "Epoch 007: , Train Loss: 0.65330 , Train acc: 0.66351\n",
            "Val_Loss: 0.631, Val_acc: 0.663\n",
            "Epoch 008: , Train Loss: 0.65235 , Train acc: 0.66393\n",
            "Val_Loss: 0.627, Val_acc: 0.664\n",
            "Epoch 009: , Train Loss: 0.65443 , Train acc: 0.66384\n",
            "Val_Loss: 0.635, Val_acc: 0.664\n",
            "Epoch 010: , Train Loss: 0.65280 , Train acc: 0.66389\n",
            "Val_Loss: 0.631, Val_acc: 0.664\n"
          ],
          "name": "stdout"
        }
      ]
    },
    {
      "cell_type": "code",
      "metadata": {
        "id": "KhbWZBG0Hiqm",
        "colab": {
          "base_uri": "https://localhost:8080/"
        },
        "outputId": "5538cdfd-4084-414b-bee7-ae530f401750"
      },
      "source": [
        "BLSTM_ACC"
      ],
      "execution_count": null,
      "outputs": [
        {
          "output_type": "execute_result",
          "data": {
            "text/plain": [
              "0.663852870464325"
            ]
          },
          "metadata": {
            "tags": []
          },
          "execution_count": 50
        }
      ]
    },
    {
      "cell_type": "markdown",
      "metadata": {
        "id": "aSyqI4ihsc71"
      },
      "source": [
        "# Convlstm2D"
      ]
    },
    {
      "cell_type": "markdown",
      "metadata": {
        "id": "FlGrIGES4uxg"
      },
      "source": [
        "참고 : https://deep-deep-deep.tistory.com/32 [딥딥딥]"
      ]
    },
    {
      "cell_type": "markdown",
      "metadata": {
        "id": "pApNoPKsFJw_"
      },
      "source": [
        "소스 코드 : https://keras.io/examples/vision/conv_lstm/"
      ]
    },
    {
      "cell_type": "markdown",
      "metadata": {
        "id": "t4dYYXR05h9H"
      },
      "source": [
        "CNN 관련 : http://taewan.kim/post/cnn/"
      ]
    },
    {
      "cell_type": "code",
      "metadata": {
        "id": "NHP8ez-ggauf"
      },
      "source": [],
      "execution_count": null,
      "outputs": []
    },
    {
      "cell_type": "code",
      "metadata": {
        "colab": {
          "base_uri": "https://localhost:8080/"
        },
        "id": "r5OZVgG38_hA",
        "outputId": "7c184128-0849-4917-bef1-69a56e781914"
      },
      "source": [
        "seq = keras.Sequential(\n",
        "    [\n",
        "        keras.Input(\n",
        "            shape=(48, 48, 3, 1)\n",
        "        ),  # Variable-length sequence of 40x40x1 frames\n",
        "        layers.ConvLSTM2D(\n",
        "            filters=40, kernel_size=(3, 3), padding=\"same\", return_sequences=True\n",
        "\n",
        "        ),\n",
        "        layers.BatchNormalization(),\n",
        "        layers.Conv3D(\n",
        "            filters=1, kernel_size=(3, 3, 3), activation=\"sigmoid\", padding=\"same\"\n",
        "        ),\n",
        "    ]\n",
        ")\n",
        "seq.compile(loss=\"binary_crossentropy\", optimizer=\"adadelta\")"
      ],
      "execution_count": null,
      "outputs": [
        {
          "output_type": "stream",
          "text": [
            "WARNING:tensorflow:Please add `keras.layers.InputLayer` instead of `keras.Input` to Sequential model. `keras.Input` is intended to be used by Functional model.\n"
          ],
          "name": "stdout"
        }
      ]
    },
    {
      "cell_type": "code",
      "metadata": {
        "colab": {
          "base_uri": "https://localhost:8080/"
        },
        "id": "22gQTfBA9o4m",
        "outputId": "11c4a67c-605b-4009-9ab6-b23b93190a85"
      },
      "source": [
        "seq.summary()"
      ],
      "execution_count": null,
      "outputs": [
        {
          "output_type": "stream",
          "text": [
            "Model: \"sequential\"\n",
            "_________________________________________________________________\n",
            "Layer (type)                 Output Shape              Param #   \n",
            "=================================================================\n",
            "conv_lst_m2d (ConvLSTM2D)    (None, 48, 48, 3, 40)     59200     \n",
            "_________________________________________________________________\n",
            "batch_normalization (BatchNo (None, 48, 48, 3, 40)     160       \n",
            "_________________________________________________________________\n",
            "conv3d (Conv3D)              (None, 48, 48, 3, 1)      1081      \n",
            "=================================================================\n",
            "Total params: 60,441\n",
            "Trainable params: 60,361\n",
            "Non-trainable params: 80\n",
            "_________________________________________________________________\n"
          ],
          "name": "stdout"
        }
      ]
    },
    {
      "cell_type": "code",
      "metadata": {
        "colab": {
          "base_uri": "https://localhost:8080/"
        },
        "id": "bziRFm7-9n_P",
        "outputId": "cb0d9237-7942-4abe-c9f2-427c912213f4"
      },
      "source": [
        "#정확도\n",
        "num_iters = train_len // batch_size\n",
        "num_epochs = 11\n",
        "optimizer = tf.keras.optimizers.Adam(0.0001)\n",
        "loss_fn = tf.keras.losses.BinaryCrossentropy()\n",
        "acc_fn = tf.keras.metrics.BinaryAccuracy()\n",
        "num_test_iters = num_iters // 4\n",
        "for epoch in range(num_epochs) :\n",
        "    epoch_loss_avg = tf.keras.metrics.Mean()\n",
        "    val_loss_avg = tf.keras.metrics.Mean()\n",
        "    epoch_acc_avg = tf.keras.metrics.Mean()\n",
        "    val_acc_avg = tf.keras.metrics.Mean()\n",
        "\n",
        "    for iter in range(num_iters) :\n",
        "        x_batch, y_batch = next(train_gen)\n",
        "        x_batch = x_batch.reshape(16, 48, 48, 3, 1)\n",
        "        y_ = seq(x_batch)[0]\n",
        "        loss_value = loss_fn(y_batch, y_)\n",
        "        acc_value = acc_fn(y_batch, y_)\n",
        "        epoch_loss_avg(loss_value)\n",
        "        epoch_acc_avg(acc_value)\n",
        "\n",
        "    for iter in range(num_test_iters) :\n",
        "        x_batch, y_batch = next(test_gen)\n",
        "        x_batch = x_batch.reshape(16, 48, 48, 3, 1)\n",
        "        y_= seq(x_batch)[0]\n",
        "        loss_value = loss_fn(y_batch, y_)\n",
        "        acc_value = acc_fn(y_batch, y_)\n",
        "        val_loss_avg(loss_value)\n",
        "        val_acc_avg(acc_value)\n",
        "\n",
        "\n",
        "\n",
        "    print(\"Epoch {:03d}: , Train Loss: {:.5f} , Train acc: {:.5f}\".format(epoch, epoch_loss_avg.result(), epoch_acc_avg.result()))\n",
        "    print(\"Val_Loss: {:.3f}, Val_acc: {:.3f}\".format(val_loss_avg.result(), val_acc_avg.result()))\n",
        "\n",
        "Convlstm2D_loss = float(format(val_loss_avg.result()))\n",
        "Convlstm2D_acc = float(format(val_acc_avg.result()))"
      ],
      "execution_count": null,
      "outputs": [
        {
          "output_type": "stream",
          "text": [
            "Epoch 000: , Train Loss: 0.69231 , Train acc: 0.58355\n",
            "Val_Loss: 0.692, Val_acc: 0.586\n",
            "Epoch 001: , Train Loss: 0.69222 , Train acc: 0.58798\n",
            "Val_Loss: 0.692, Val_acc: 0.589\n",
            "Epoch 002: , Train Loss: 0.69228 , Train acc: 0.58862\n",
            "Val_Loss: 0.692, Val_acc: 0.590\n",
            "Epoch 003: , Train Loss: 0.69226 , Train acc: 0.58921\n",
            "Val_Loss: 0.692, Val_acc: 0.590\n",
            "Epoch 004: , Train Loss: 0.69236 , Train acc: 0.58846\n",
            "Val_Loss: 0.691, Val_acc: 0.588\n",
            "Epoch 005: , Train Loss: 0.69233 , Train acc: 0.58836\n",
            "Val_Loss: 0.692, Val_acc: 0.588\n",
            "Epoch 006: , Train Loss: 0.69228 , Train acc: 0.58839\n",
            "Val_Loss: 0.692, Val_acc: 0.588\n",
            "Epoch 007: , Train Loss: 0.69223 , Train acc: 0.58875\n",
            "Val_Loss: 0.692, Val_acc: 0.589\n",
            "Epoch 008: , Train Loss: 0.69232 , Train acc: 0.58891\n",
            "Val_Loss: 0.692, Val_acc: 0.589\n",
            "Epoch 009: , Train Loss: 0.69224 , Train acc: 0.58887\n",
            "Val_Loss: 0.692, Val_acc: 0.589\n",
            "Epoch 010: , Train Loss: 0.69231 , Train acc: 0.58870\n",
            "Val_Loss: 0.692, Val_acc: 0.589\n"
          ],
          "name": "stdout"
        }
      ]
    },
    {
      "cell_type": "code",
      "metadata": {
        "colab": {
          "base_uri": "https://localhost:8080/"
        },
        "id": "cgHQgLUZEZqx",
        "outputId": "0bacb0a9-e44d-4a9b-a638-c46cc9180150"
      },
      "source": [
        "Convlstm2D_acc"
      ],
      "execution_count": null,
      "outputs": [
        {
          "output_type": "execute_result",
          "data": {
            "text/plain": [
              "0.5886179208755493"
            ]
          },
          "metadata": {
            "tags": []
          },
          "execution_count": 54
        }
      ]
    },
    {
      "cell_type": "markdown",
      "metadata": {
        "id": "LChqUC9grBYo"
      },
      "source": [
        " # CNN-LSTM"
      ]
    },
    {
      "cell_type": "markdown",
      "metadata": {
        "id": "0gKNnS1fTm4d"
      },
      "source": [
        "소스 코드 : https://colab.research.google.com/drive/1rIylR9RWEckndbyFNx1Wl_yUQZUF-wyI#scrollTo=M1QKFdJOYTjx"
      ]
    },
    {
      "cell_type": "code",
      "metadata": {
        "id": "mPjwlBM3JVI_"
      },
      "source": [
        "from tensorflow.keras.models import Sequential\n",
        "from tensorflow.keras.layers import Dense, LSTM, Conv1D, Lambda, ConvLSTM2D, Flatten\n",
        "from tensorflow.keras.losses import Huber\n",
        "from tensorflow.keras.optimizers import Adam\n",
        "from tensorflow.keras.callbacks import EarlyStopping, ModelCheckpoint"
      ],
      "execution_count": null,
      "outputs": []
    },
    {
      "cell_type": "code",
      "metadata": {
        "colab": {
          "base_uri": "https://localhost:8080/"
        },
        "id": "3ThbR1vuUdMF",
        "outputId": "ab1d6217-6a1a-4fde-bb85-bbf39566e920"
      },
      "source": [
        "inputs = keras.Input(shape=(2304, 3))\n",
        "x = inputs\n",
        "# 1차원 feature map 생성\n",
        "x = layers.Conv1D(filters=32, kernel_size=5, padding=\"causal\", activation=\"relu\")(x)\n",
        "# LSTM\n",
        "x = layers.LSTM(16, activation='tanh')(x)\n",
        "x = layers.Dense(16, activation=\"relu\")(x)\n",
        "x = layers.Dense(1, activation='sigmoid')(x)\n",
        "outputs = x\n",
        "\n",
        "M10 = keras.Model(inputs, outputs)\n",
        "M10.summary()"
      ],
      "execution_count": null,
      "outputs": [
        {
          "output_type": "stream",
          "text": [
            "Model: \"model_5\"\n",
            "_________________________________________________________________\n",
            "Layer (type)                 Output Shape              Param #   \n",
            "=================================================================\n",
            "input_7 (InputLayer)         [(None, 2304, 3)]         0         \n",
            "_________________________________________________________________\n",
            "conv1d_1 (Conv1D)            (None, 2304, 32)          512       \n",
            "_________________________________________________________________\n",
            "lstm_4 (LSTM)                (None, 16)                3136      \n",
            "_________________________________________________________________\n",
            "dense_8 (Dense)              (None, 16)                272       \n",
            "_________________________________________________________________\n",
            "dense_9 (Dense)              (None, 1)                 17        \n",
            "=================================================================\n",
            "Total params: 3,937\n",
            "Trainable params: 3,937\n",
            "Non-trainable params: 0\n",
            "_________________________________________________________________\n"
          ],
          "name": "stdout"
        }
      ]
    },
    {
      "cell_type": "code",
      "metadata": {
        "colab": {
          "base_uri": "https://localhost:8080/"
        },
        "id": "RTgPc3LtT3B1",
        "outputId": "b2ed6846-20c9-44bb-93f9-2e3c53a7f8d9"
      },
      "source": [
        "#정확도\n",
        "num_iters = train_len // batch_size\n",
        "num_epochs = 11\n",
        "optimizer = tf.keras.optimizers.Adam(0.0001)\n",
        "loss_fn = tf.keras.losses.BinaryCrossentropy()\n",
        "acc_fn = tf.keras.metrics.BinaryAccuracy()\n",
        "num_test_iters = num_iters // 4\n",
        "for epoch in range(num_epochs) :\n",
        "    epoch_loss_avg = tf.keras.metrics.Mean()\n",
        "    val_loss_avg = tf.keras.metrics.Mean()\n",
        "    epoch_acc_avg = tf.keras.metrics.Mean()\n",
        "    val_acc_avg = tf.keras.metrics.Mean()\n",
        "\n",
        "    for iter in range(num_iters) :\n",
        "        x_batch, y_batch = next(train_gen)\n",
        "        x_batch = x_batch.reshape(16, 2304, 3)\n",
        "        y_ = M10(x_batch)\n",
        "        y_batch = y_batch.reshape(-1,1)\n",
        "        loss_value = loss_fn(y_batch, y_)\n",
        "        acc_value = acc_fn(y_batch, y_)\n",
        "        epoch_loss_avg(loss_value)\n",
        "        epoch_acc_avg(acc_value)\n",
        "\n",
        "    for iter in range(num_test_iters) :\n",
        "        x_batch, y_batch = next(test_gen)\n",
        "        x_batch = x_batch.reshape(16, 2304, 3)\n",
        "        y_= M10(x_batch)\n",
        "        y_batch = y_batch.reshape(-1,1)\n",
        "        loss_value = loss_fn(y_batch, y_)\n",
        "        acc_value = acc_fn(y_batch, y_)\n",
        "        val_loss_avg(loss_value)\n",
        "        val_acc_avg(acc_value)\n",
        "\n",
        "\n",
        "\n",
        "    print(\"Epoch {:03d}: , Train Loss: {:.5f} , Train acc: {:.5f}\".format(epoch, epoch_loss_avg.result(), epoch_acc_avg.result()))\n",
        "    print(\"Val_Loss: {:.3f}, Val_acc: {:.3f}\".format(val_loss_avg.result(), val_acc_avg.result()))\n",
        "\n",
        "CNN_LSTM_loss = float(format(val_loss_avg.result()))\n",
        "CNN_LSTM_ACC = float(format(val_acc_avg.result()))"
      ],
      "execution_count": null,
      "outputs": [
        {
          "output_type": "stream",
          "text": [
            "Epoch 000: , Train Loss: 0.70154 , Train acc: 0.35843\n",
            "Val_Loss: 0.705, Val_acc: 0.352\n",
            "Epoch 001: , Train Loss: 0.70225 , Train acc: 0.34817\n",
            "Val_Loss: 0.705, Val_acc: 0.345\n",
            "Epoch 002: , Train Loss: 0.70160 , Train acc: 0.34590\n",
            "Val_Loss: 0.705, Val_acc: 0.346\n",
            "Epoch 003: , Train Loss: 0.70181 , Train acc: 0.34554\n",
            "Val_Loss: 0.706, Val_acc: 0.345\n",
            "Epoch 004: , Train Loss: 0.70225 , Train acc: 0.34263\n",
            "Val_Loss: 0.705, Val_acc: 0.343\n",
            "Epoch 005: , Train Loss: 0.70120 , Train acc: 0.34261\n",
            "Val_Loss: 0.705, Val_acc: 0.343\n",
            "Epoch 006: , Train Loss: 0.70198 , Train acc: 0.34320\n",
            "Val_Loss: 0.706, Val_acc: 0.343\n",
            "Epoch 007: , Train Loss: 0.70141 , Train acc: 0.34269\n",
            "Val_Loss: 0.706, Val_acc: 0.343\n",
            "Epoch 008: , Train Loss: 0.70196 , Train acc: 0.34292\n",
            "Val_Loss: 0.706, Val_acc: 0.343\n",
            "Epoch 009: , Train Loss: 0.70195 , Train acc: 0.34244\n",
            "Val_Loss: 0.706, Val_acc: 0.342\n",
            "Epoch 010: , Train Loss: 0.70239 , Train acc: 0.34141\n",
            "Val_Loss: 0.705, Val_acc: 0.341\n"
          ],
          "name": "stdout"
        }
      ]
    },
    {
      "cell_type": "code",
      "metadata": {
        "colab": {
          "base_uri": "https://localhost:8080/"
        },
        "id": "FQoBcM6XW2A1",
        "outputId": "01508354-bb48-4d2e-fe20-61fa9c6ffa32"
      },
      "source": [
        "CNN_LSTM_ACC"
      ],
      "execution_count": null,
      "outputs": [
        {
          "output_type": "execute_result",
          "data": {
            "text/plain": [
              "0.3412701189517975"
            ]
          },
          "metadata": {
            "tags": []
          },
          "execution_count": 58
        }
      ]
    },
    {
      "cell_type": "markdown",
      "metadata": {
        "id": "PROpLXbDVQ8L"
      },
      "source": [
        "# CNN-BLSTM"
      ]
    },
    {
      "cell_type": "code",
      "metadata": {
        "id": "4lZGZh7-Ldf_"
      },
      "source": [
        "from random import random\n",
        "from numpy import array\n",
        "from numpy import cumsum\n",
        "from keras.models import Sequential\n",
        "from keras.layers import LSTM\n",
        "from keras.layers import Dense\n",
        "from keras.layers import TimeDistributed\n",
        "from keras.layers import Bidirectional\n",
        "from random import random\n",
        "from numpy import array\n",
        "from numpy import cumsum\n",
        "from keras.models import Sequential\n",
        "from keras.layers import LSTM\n",
        "from keras.layers import Dense\n",
        "from keras.layers import TimeDistributed\n",
        "from keras.layers import Bidirectional"
      ],
      "execution_count": null,
      "outputs": []
    },
    {
      "cell_type": "code",
      "metadata": {
        "colab": {
          "base_uri": "https://localhost:8080/"
        },
        "id": "rg5UMArSX0Rd",
        "outputId": "8010b468-d543-4b41-b16b-7f3381f8e310"
      },
      "source": [
        "inputs = keras.Input(shape=(2304, 3))\n",
        "x = inputs\n",
        "# 1차원 feature map 생성\n",
        "x = layers.Conv1D(filters=32, kernel_size=5, padding=\"causal\", activation=\"relu\")(x)\n",
        "# LSTM\n",
        "x = layers.Bidirectional(LSTM(20, return_sequences=True))(x)\n",
        "x = layers.TimeDistributed(Dense(1, activation='sigmoid'))(x)\n",
        "outputs = x\n",
        "\n",
        "M11 = keras.Model(inputs, outputs)\n",
        "M11.summary()"
      ],
      "execution_count": null,
      "outputs": [
        {
          "output_type": "stream",
          "text": [
            "Model: \"model_7\"\n",
            "_________________________________________________________________\n",
            "Layer (type)                 Output Shape              Param #   \n",
            "=================================================================\n",
            "input_12 (InputLayer)        [(None, 2304, 3)]         0         \n",
            "_________________________________________________________________\n",
            "conv1d_7 (Conv1D)            (None, 2304, 32)          512       \n",
            "_________________________________________________________________\n",
            "bidirectional_1 (Bidirection (None, 2304, 40)          8480      \n",
            "_________________________________________________________________\n",
            "time_distributed_1 (TimeDist (None, 2304, 1)           41        \n",
            "=================================================================\n",
            "Total params: 9,033\n",
            "Trainable params: 9,033\n",
            "Non-trainable params: 0\n",
            "_________________________________________________________________\n"
          ],
          "name": "stdout"
        }
      ]
    },
    {
      "cell_type": "code",
      "metadata": {
        "colab": {
          "base_uri": "https://localhost:8080/"
        },
        "id": "smqQhU_Le_WK",
        "outputId": "edbb0f41-561e-4481-aac7-29f1d75722db"
      },
      "source": [
        "#정확도\n",
        "num_iters = train_len // batch_size\n",
        "num_epochs = 11\n",
        "optimizer = tf.keras.optimizers.Adam(0.0001)\n",
        "loss_fn = tf.keras.losses.BinaryCrossentropy()\n",
        "acc_fn = tf.keras.metrics.BinaryAccuracy()\n",
        "num_test_iters = num_iters // 4\n",
        "for epoch in range(num_epochs) :\n",
        "    epoch_loss_avg = tf.keras.metrics.Mean()\n",
        "    val_loss_avg = tf.keras.metrics.Mean()\n",
        "    epoch_acc_avg = tf.keras.metrics.Mean()\n",
        "    val_acc_avg = tf.keras.metrics.Mean()\n",
        "\n",
        "    for iter in range(num_iters) :\n",
        "        x_batch, y_batch = next(train_gen)\n",
        "        x_batch = x_batch.reshape(16, 2304, 3)\n",
        "        y_ = M11(x_batch)\n",
        "        loss_value = loss_fn(y_batch, y_)\n",
        "        acc_value = acc_fn(y_batch, y_)\n",
        "        epoch_loss_avg(loss_value)\n",
        "        epoch_acc_avg(acc_value)\n",
        "\n",
        "    for iter in range(num_test_iters) :\n",
        "        x_batch, y_batch = next(test_gen)\n",
        "        x_batch = x_batch.reshape(16, 2304, 3)\n",
        "        y_= M11(x_batch)\n",
        "        loss_value = loss_fn(y_batch, y_)\n",
        "        acc_value = acc_fn(y_batch, y_)\n",
        "        val_loss_avg(loss_value)\n",
        "        val_acc_avg(acc_value)\n",
        "\n",
        "\n",
        "\n",
        "    print(\"Epoch {:03d}: , Train Loss: {:.5f} , Train acc: {:.5f}\".format(epoch, epoch_loss_avg.result(), epoch_acc_avg.result()))\n",
        "    print(\"Val_Loss: {:.3f}, Val_acc: {:.3f}\".format(val_loss_avg.result(), val_acc_avg.result()))\n",
        "\n",
        "CNN_BLSTM_loss = float(format(val_loss_avg.result()))\n",
        "CNN_BLSTM_ACC = float(format(val_acc_avg.result()))"
      ],
      "execution_count": null,
      "outputs": [
        {
          "output_type": "stream",
          "text": [
            "Epoch 000: , Train Loss: 0.67760 , Train acc: 0.64400\n",
            "Val_Loss: 0.671, Val_acc: 0.661\n",
            "Epoch 001: , Train Loss: 0.67742 , Train acc: 0.66345\n",
            "Val_Loss: 0.670, Val_acc: 0.665\n",
            "Epoch 002: , Train Loss: 0.67743 , Train acc: 0.66646\n",
            "Val_Loss: 0.671, Val_acc: 0.666\n",
            "Epoch 003: , Train Loss: 0.67811 , Train acc: 0.66625\n",
            "Val_Loss: 0.671, Val_acc: 0.665\n",
            "Epoch 004: , Train Loss: 0.67749 , Train acc: 0.66563\n",
            "Val_Loss: 0.672, Val_acc: 0.666\n",
            "Epoch 005: , Train Loss: 0.67813 , Train acc: 0.66504\n",
            "Val_Loss: 0.670, Val_acc: 0.665\n",
            "Epoch 006: , Train Loss: 0.67816 , Train acc: 0.66482\n",
            "Val_Loss: 0.669, Val_acc: 0.665\n",
            "Epoch 007: , Train Loss: 0.67608 , Train acc: 0.66591\n",
            "Val_Loss: 0.669, Val_acc: 0.667\n",
            "Epoch 008: , Train Loss: 0.67762 , Train acc: 0.66678\n",
            "Val_Loss: 0.669, Val_acc: 0.667\n",
            "Epoch 009: , Train Loss: 0.67806 , Train acc: 0.66714\n",
            "Val_Loss: 0.670, Val_acc: 0.667\n",
            "Epoch 010: , Train Loss: 0.67829 , Train acc: 0.66691\n",
            "Val_Loss: 0.669, Val_acc: 0.667\n"
          ],
          "name": "stdout"
        }
      ]
    },
    {
      "cell_type": "code",
      "metadata": {
        "colab": {
          "base_uri": "https://localhost:8080/"
        },
        "id": "bsvusoeNZxWM",
        "outputId": "51b143e2-6be3-4d04-e4f2-f1776382a8a2"
      },
      "source": [
        "CNN_BLSTM_ACC"
      ],
      "execution_count": null,
      "outputs": [
        {
          "output_type": "execute_result",
          "data": {
            "text/plain": [
              "0.6668331623077393"
            ]
          },
          "metadata": {
            "tags": []
          },
          "execution_count": 70
        }
      ]
    },
    {
      "cell_type": "markdown",
      "metadata": {
        "id": "0EiZgO6zUTiU"
      },
      "source": [
        "# Model Comparison"
      ]
    },
    {
      "cell_type": "code",
      "metadata": {
        "colab": {
          "base_uri": "https://localhost:8080/",
          "height": 318
        },
        "id": "oF4uHYJ1s7P8",
        "outputId": "8decb311-385e-48f7-913c-d49b34a1d351"
      },
      "source": [
        "models = pd.DataFrame({\n",
        "    'Model': ['CNN','ANN', 'GRU', '1D CNN', 'LSTM', 'BLSTM', 'Convlstm2D', 'CNN-LSTM ','CNN-BLSTM'],\n",
        "    'Score': [CNN_ACC, ANN_ACC, GRU_ACC, CNN1D_ACC, LSTM_ACC, BLSTM_ACC, Convlstm2D_acc, CNN_LSTM_ACC, CNN_BLSTM_ACC]})\n",
        "models.sort_values (by='Score', ascending=False)"
      ],
      "execution_count": null,
      "outputs": [
        {
          "output_type": "execute_result",
          "data": {
            "text/html": [
              "<div>\n",
              "<style scoped>\n",
              "    .dataframe tbody tr th:only-of-type {\n",
              "        vertical-align: middle;\n",
              "    }\n",
              "\n",
              "    .dataframe tbody tr th {\n",
              "        vertical-align: top;\n",
              "    }\n",
              "\n",
              "    .dataframe thead th {\n",
              "        text-align: right;\n",
              "    }\n",
              "</style>\n",
              "<table border=\"1\" class=\"dataframe\">\n",
              "  <thead>\n",
              "    <tr style=\"text-align: right;\">\n",
              "      <th></th>\n",
              "      <th>Model</th>\n",
              "      <th>Score</th>\n",
              "    </tr>\n",
              "  </thead>\n",
              "  <tbody>\n",
              "    <tr>\n",
              "      <th>2</th>\n",
              "      <td>GRU</td>\n",
              "      <td>0.722595</td>\n",
              "    </tr>\n",
              "    <tr>\n",
              "      <th>8</th>\n",
              "      <td>CNN-BLSTM</td>\n",
              "      <td>0.666833</td>\n",
              "    </tr>\n",
              "    <tr>\n",
              "      <th>5</th>\n",
              "      <td>BLSTM</td>\n",
              "      <td>0.663853</td>\n",
              "    </tr>\n",
              "    <tr>\n",
              "      <th>4</th>\n",
              "      <td>LSTM</td>\n",
              "      <td>0.663746</td>\n",
              "    </tr>\n",
              "    <tr>\n",
              "      <th>1</th>\n",
              "      <td>ANN</td>\n",
              "      <td>0.612056</td>\n",
              "    </tr>\n",
              "    <tr>\n",
              "      <th>6</th>\n",
              "      <td>Convlstm2D</td>\n",
              "      <td>0.588618</td>\n",
              "    </tr>\n",
              "    <tr>\n",
              "      <th>0</th>\n",
              "      <td>CNN</td>\n",
              "      <td>0.469211</td>\n",
              "    </tr>\n",
              "    <tr>\n",
              "      <th>3</th>\n",
              "      <td>1D CNN</td>\n",
              "      <td>0.352528</td>\n",
              "    </tr>\n",
              "    <tr>\n",
              "      <th>7</th>\n",
              "      <td>CNN-LSTM</td>\n",
              "      <td>0.341270</td>\n",
              "    </tr>\n",
              "  </tbody>\n",
              "</table>\n",
              "</div>"
            ],
            "text/plain": [
              "        Model     Score\n",
              "2         GRU  0.722595\n",
              "8   CNN-BLSTM  0.666833\n",
              "5       BLSTM  0.663853\n",
              "4        LSTM  0.663746\n",
              "1         ANN  0.612056\n",
              "6  Convlstm2D  0.588618\n",
              "0         CNN  0.469211\n",
              "3      1D CNN  0.352528\n",
              "7   CNN-LSTM   0.341270"
            ]
          },
          "metadata": {
            "tags": []
          },
          "execution_count": 71
        }
      ]
    },
    {
      "cell_type": "code",
      "metadata": {
        "id": "csuenHpw3l66"
      },
      "source": [],
      "execution_count": null,
      "outputs": []
    }
  ]
}