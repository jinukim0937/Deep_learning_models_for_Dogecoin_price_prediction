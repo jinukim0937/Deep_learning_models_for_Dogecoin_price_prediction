{
  "nbformat": 4,
  "nbformat_minor": 0,
  "metadata": {
    "accelerator": "GPU",
    "colab": {
      "provenance": [],
      "toc_visible": true,
      "machine_shape": "hm"
    },
    "kernelspec": {
      "display_name": "Python 3",
      "name": "python3"
    },
    "language_info": {
      "name": "python"
    }
  },
  "cells": [
    {
      "cell_type": "markdown",
      "metadata": {
        "id": "B4pA1GqRUoDs"
      },
      "source": [
        "# 캔들차트 데이터 생성\n"
      ]
    },
    {
      "cell_type": "markdown",
      "metadata": {
        "id": "53vk9JlnVHse"
      },
      "source": [
        "참고 : https://dataplay.tistory.com/37?category=845492"
      ]
    },
    {
      "cell_type": "markdown",
      "metadata": {
        "id": "YwWkUvpy8GO_"
      },
      "source": [
        "참고코드 : https://colab.research.google.com/drive/1WXG3cohwO6_0mbmB9CdT37cc1jfE2Zon"
      ]
    },
    {
      "cell_type": "code",
      "metadata": {
        "colab": {
          "base_uri": "https://localhost:8080/"
        },
        "id": "ecKTs5RpGkmA",
        "outputId": "32c460f6-7133-4f9d-c939-66ee6e57cdc7"
      },
      "source": [
        "!pip install mpl_finance\n",
        "!pip install -U finance_datareader"
      ],
      "execution_count": null,
      "outputs": [
        {
          "output_type": "stream",
          "text": [
            "Collecting mpl_finance\n",
            "  Downloading https://files.pythonhosted.org/packages/9d/de/8169ea4403d6cb8322e74cc48b6834d1dfbed81931d17f1f26b2140160d8/mpl_finance-0.10.1-py3-none-any.whl\n",
            "Requirement already satisfied: matplotlib in /usr/local/lib/python3.7/dist-packages (from mpl_finance) (3.2.2)\n",
            "Requirement already satisfied: numpy>=1.11 in /usr/local/lib/python3.7/dist-packages (from matplotlib->mpl_finance) (1.19.5)\n",
            "Requirement already satisfied: kiwisolver>=1.0.1 in /usr/local/lib/python3.7/dist-packages (from matplotlib->mpl_finance) (1.3.1)\n",
            "Requirement already satisfied: cycler>=0.10 in /usr/local/lib/python3.7/dist-packages (from matplotlib->mpl_finance) (0.10.0)\n",
            "Requirement already satisfied: python-dateutil>=2.1 in /usr/local/lib/python3.7/dist-packages (from matplotlib->mpl_finance) (2.8.1)\n",
            "Requirement already satisfied: pyparsing!=2.0.4,!=2.1.2,!=2.1.6,>=2.0.1 in /usr/local/lib/python3.7/dist-packages (from matplotlib->mpl_finance) (2.4.7)\n",
            "Requirement already satisfied: six in /usr/local/lib/python3.7/dist-packages (from cycler>=0.10->matplotlib->mpl_finance) (1.15.0)\n",
            "Installing collected packages: mpl-finance\n",
            "Successfully installed mpl-finance-0.10.1\n",
            "Collecting finance_datareader\n",
            "  Downloading https://files.pythonhosted.org/packages/83/5e/54306e72b5ff5d5ec6cc9f32cdf19602237f9bb70d64efcd527338388be3/finance_datareader-0.9.31-py3-none-any.whl\n",
            "Requirement already satisfied, skipping upgrade: pandas>=0.19.2 in /usr/local/lib/python3.7/dist-packages (from finance_datareader) (1.1.5)\n",
            "Requirement already satisfied, skipping upgrade: requests>=2.3.0 in /usr/local/lib/python3.7/dist-packages (from finance_datareader) (2.23.0)\n",
            "Collecting requests-file\n",
            "  Downloading https://files.pythonhosted.org/packages/77/86/cdb5e8eaed90796aa83a6d9f75cfbd37af553c47a291cd47bc410ef9bdb2/requests_file-1.5.1-py2.py3-none-any.whl\n",
            "Requirement already satisfied, skipping upgrade: lxml in /usr/local/lib/python3.7/dist-packages (from finance_datareader) (4.2.6)\n",
            "Requirement already satisfied, skipping upgrade: tqdm in /usr/local/lib/python3.7/dist-packages (from finance_datareader) (4.41.1)\n",
            "Requirement already satisfied, skipping upgrade: numpy>=1.15.4 in /usr/local/lib/python3.7/dist-packages (from pandas>=0.19.2->finance_datareader) (1.19.5)\n",
            "Requirement already satisfied, skipping upgrade: python-dateutil>=2.7.3 in /usr/local/lib/python3.7/dist-packages (from pandas>=0.19.2->finance_datareader) (2.8.1)\n",
            "Requirement already satisfied, skipping upgrade: pytz>=2017.2 in /usr/local/lib/python3.7/dist-packages (from pandas>=0.19.2->finance_datareader) (2018.9)\n",
            "Requirement already satisfied, skipping upgrade: chardet<4,>=3.0.2 in /usr/local/lib/python3.7/dist-packages (from requests>=2.3.0->finance_datareader) (3.0.4)\n",
            "Requirement already satisfied, skipping upgrade: idna<3,>=2.5 in /usr/local/lib/python3.7/dist-packages (from requests>=2.3.0->finance_datareader) (2.10)\n",
            "Requirement already satisfied, skipping upgrade: certifi>=2017.4.17 in /usr/local/lib/python3.7/dist-packages (from requests>=2.3.0->finance_datareader) (2021.5.30)\n",
            "Requirement already satisfied, skipping upgrade: urllib3!=1.25.0,!=1.25.1,<1.26,>=1.21.1 in /usr/local/lib/python3.7/dist-packages (from requests>=2.3.0->finance_datareader) (1.24.3)\n",
            "Requirement already satisfied, skipping upgrade: six in /usr/local/lib/python3.7/dist-packages (from requests-file->finance_datareader) (1.15.0)\n",
            "Installing collected packages: requests-file, finance-datareader\n",
            "Successfully installed finance-datareader-0.9.31 requests-file-1.5.1\n"
          ],
          "name": "stdout"
        }
      ]
    },
    {
      "cell_type": "code",
      "metadata": {
        "id": "5tk5GAWQU5gV"
      },
      "source": [
        "import os\n",
        "import pandas as pd\n",
        "import numpy as np\n",
        "import matplotlib.pyplot as plt\n",
        "from pathlib import Path\n",
        "import FinanceDataReader as fdr\n",
        "\n",
        "from shutil import copyfile, move\n",
        "from mpl_finance import candlestick2_ochl"
      ],
      "execution_count": null,
      "outputs": []
    },
    {
      "cell_type": "markdown",
      "metadata": {
        "id": "uHRMT0S7YyQo"
      },
      "source": [
        "도지 코인 파일 불러오기\n"
      ]
    },
    {
      "cell_type": "code",
      "metadata": {
        "id": "nXv0Bbmd76x9"
      },
      "source": [
        "data =  fdr.DataReader(\"KS11\", '1979-01-01', '2021-06-18')"
      ],
      "execution_count": null,
      "outputs": []
    },
    {
      "cell_type": "code",
      "metadata": {
        "id": "6cWobfBz8FCc"
      },
      "source": [
        "data = data.reset_index(drop=True)"
      ],
      "execution_count": null,
      "outputs": []
    },
    {
      "cell_type": "code",
      "metadata": {
        "colab": {
          "base_uri": "https://localhost:8080/",
          "height": 454
        },
        "id": "wFYjoox_n0ok",
        "outputId": "2894dbf6-4b6e-4d36-9d29-52301d8fd47f"
      },
      "source": [
        "data"
      ],
      "execution_count": null,
      "outputs": [
        {
          "output_type": "execute_result",
          "data": {
            "text/html": [
              "<div>\n",
              "<style scoped>\n",
              "    .dataframe tbody tr th:only-of-type {\n",
              "        vertical-align: middle;\n",
              "    }\n",
              "\n",
              "    .dataframe tbody tr th {\n",
              "        vertical-align: top;\n",
              "    }\n",
              "\n",
              "    .dataframe thead th {\n",
              "        text-align: right;\n",
              "    }\n",
              "</style>\n",
              "<table border=\"1\" class=\"dataframe\">\n",
              "  <thead>\n",
              "    <tr style=\"text-align: right;\">\n",
              "      <th></th>\n",
              "      <th>Open</th>\n",
              "      <th>High</th>\n",
              "      <th>Low</th>\n",
              "      <th>Close</th>\n",
              "      <th>Volume</th>\n",
              "      <th>Change</th>\n",
              "    </tr>\n",
              "    <tr>\n",
              "      <th>Date</th>\n",
              "      <th></th>\n",
              "      <th></th>\n",
              "      <th></th>\n",
              "      <th></th>\n",
              "      <th></th>\n",
              "      <th></th>\n",
              "    </tr>\n",
              "  </thead>\n",
              "  <tbody>\n",
              "    <tr>\n",
              "      <th>1997-06-16</th>\n",
              "      <td>1249</td>\n",
              "      <td>1259</td>\n",
              "      <td>1227</td>\n",
              "      <td>1233</td>\n",
              "      <td>70480</td>\n",
              "      <td>NaN</td>\n",
              "    </tr>\n",
              "    <tr>\n",
              "      <th>1997-06-17</th>\n",
              "      <td>1233</td>\n",
              "      <td>1329</td>\n",
              "      <td>1215</td>\n",
              "      <td>1305</td>\n",
              "      <td>357930</td>\n",
              "      <td>0.058394</td>\n",
              "    </tr>\n",
              "    <tr>\n",
              "      <th>1997-06-18</th>\n",
              "      <td>1322</td>\n",
              "      <td>1340</td>\n",
              "      <td>1279</td>\n",
              "      <td>1296</td>\n",
              "      <td>238420</td>\n",
              "      <td>-0.006897</td>\n",
              "    </tr>\n",
              "    <tr>\n",
              "      <th>1997-06-19</th>\n",
              "      <td>1304</td>\n",
              "      <td>1304</td>\n",
              "      <td>1263</td>\n",
              "      <td>1269</td>\n",
              "      <td>145140</td>\n",
              "      <td>-0.020833</td>\n",
              "    </tr>\n",
              "    <tr>\n",
              "      <th>1997-06-20</th>\n",
              "      <td>1286</td>\n",
              "      <td>1286</td>\n",
              "      <td>1242</td>\n",
              "      <td>1251</td>\n",
              "      <td>150060</td>\n",
              "      <td>-0.014184</td>\n",
              "    </tr>\n",
              "    <tr>\n",
              "      <th>...</th>\n",
              "      <td>...</td>\n",
              "      <td>...</td>\n",
              "      <td>...</td>\n",
              "      <td>...</td>\n",
              "      <td>...</td>\n",
              "      <td>...</td>\n",
              "    </tr>\n",
              "    <tr>\n",
              "      <th>2021-06-14</th>\n",
              "      <td>80800</td>\n",
              "      <td>80900</td>\n",
              "      <td>80500</td>\n",
              "      <td>80500</td>\n",
              "      <td>10550078</td>\n",
              "      <td>-0.006173</td>\n",
              "    </tr>\n",
              "    <tr>\n",
              "      <th>2021-06-15</th>\n",
              "      <td>80900</td>\n",
              "      <td>81200</td>\n",
              "      <td>80600</td>\n",
              "      <td>80900</td>\n",
              "      <td>10075685</td>\n",
              "      <td>0.004969</td>\n",
              "    </tr>\n",
              "    <tr>\n",
              "      <th>2021-06-16</th>\n",
              "      <td>81500</td>\n",
              "      <td>81900</td>\n",
              "      <td>81100</td>\n",
              "      <td>81800</td>\n",
              "      <td>14999855</td>\n",
              "      <td>0.011125</td>\n",
              "    </tr>\n",
              "    <tr>\n",
              "      <th>2021-06-17</th>\n",
              "      <td>81100</td>\n",
              "      <td>81300</td>\n",
              "      <td>80700</td>\n",
              "      <td>80900</td>\n",
              "      <td>14007385</td>\n",
              "      <td>-0.011002</td>\n",
              "    </tr>\n",
              "    <tr>\n",
              "      <th>2021-06-18</th>\n",
              "      <td>81100</td>\n",
              "      <td>81100</td>\n",
              "      <td>80500</td>\n",
              "      <td>80500</td>\n",
              "      <td>14618173</td>\n",
              "      <td>-0.004944</td>\n",
              "    </tr>\n",
              "  </tbody>\n",
              "</table>\n",
              "<p>6000 rows × 6 columns</p>\n",
              "</div>"
            ],
            "text/plain": [
              "             Open   High    Low  Close    Volume    Change\n",
              "Date                                                      \n",
              "1997-06-16   1249   1259   1227   1233     70480       NaN\n",
              "1997-06-17   1233   1329   1215   1305    357930  0.058394\n",
              "1997-06-18   1322   1340   1279   1296    238420 -0.006897\n",
              "1997-06-19   1304   1304   1263   1269    145140 -0.020833\n",
              "1997-06-20   1286   1286   1242   1251    150060 -0.014184\n",
              "...           ...    ...    ...    ...       ...       ...\n",
              "2021-06-14  80800  80900  80500  80500  10550078 -0.006173\n",
              "2021-06-15  80900  81200  80600  80900  10075685  0.004969\n",
              "2021-06-16  81500  81900  81100  81800  14999855  0.011125\n",
              "2021-06-17  81100  81300  80700  80900  14007385 -0.011002\n",
              "2021-06-18  81100  81100  80500  80500  14618173 -0.004944\n",
              "\n",
              "[6000 rows x 6 columns]"
            ]
          },
          "metadata": {
            "tags": []
          },
          "execution_count": 18
        }
      ]
    },
    {
      "cell_type": "code",
      "metadata": {
        "colab": {
          "base_uri": "https://localhost:8080/",
          "height": 283
        },
        "id": "OX4MDmlcLRzV",
        "outputId": "f970ea19-45ad-4336-84f3-6a56dd39e228"
      },
      "source": [
        "plt.plot(data['Close'])"
      ],
      "execution_count": null,
      "outputs": [
        {
          "output_type": "execute_result",
          "data": {
            "text/plain": [
              "[<matplotlib.lines.Line2D at 0x7f79d8fb8050>]"
            ]
          },
          "metadata": {
            "tags": []
          },
          "execution_count": 23
        },
        {
          "output_type": "display_data",
          "data": {
            "image/png": "[encoded data removed]",
            "text/plain": [
              "<Figure size 432x288 with 1 Axes>"
            ]
          },
          "metadata": {
            "tags": [],
            "needs_background": "light"
          }
        }
      ]
    },
    {
      "cell_type": "code",
      "metadata": {
        "id": "zQ9bQXV7EziD"
      },
      "source": [
        "def ohlc2cs2(data, seq_len, dimension):\n",
        "    # python preprocess.py -m ohlc2cs -l 20 -i stockdatas/EWT_testing.csv -t testing\n",
        "    print(\"Converting olhc to candlestick\")\n",
        "    df = data\n",
        "    plt.style.use('dark_background')\n",
        "    figs = np.zeros((len(df)-1, dimension, dimension, 3))\n",
        "    labels = []\n",
        "    for i in range(0, len(df)-1):\n",
        "        # ohlc+volume\n",
        "        c = df.loc[i:i + int(seq_len) - 1, :]\n",
        "        c_ = df.loc[i:i + int(seq_len), :]\n",
        "        if len(c) == int(seq_len):\n",
        "            my_dpi = 96\n",
        "            fig = plt.figure(figsize=(dimension / my_dpi,\n",
        "                                      dimension / my_dpi), dpi=my_dpi)\n",
        "            ax1 = fig.add_subplot(1, 1, 1)\n",
        "            candlestick2_ochl(ax1, c['Open'], c['Close'], c['High'],\n",
        "                              c['Low'], width=1,\n",
        "                              colorup='#77d879', colordown='#db3f3f')\n",
        "            ax1.grid(False)\n",
        "            ax1.set_xticklabels([])\n",
        "            ax1.set_yticklabels([])\n",
        "            ax1.xaxis.set_visible(False)\n",
        "            ax1.yaxis.set_visible(False)\n",
        "            ax1.axis('off')\n",
        "\n",
        "            # create the second axis for the volume bar-plot\n",
        "            # Add a seconds axis for the volume overlay\n",
        "\n",
        "        starting = c_[\"Close\"].iloc[-2]\n",
        "        endvalue = c_[\"Close\"].iloc[-1]\n",
        "        if endvalue > starting :\n",
        "            label = 1\n",
        "        else :\n",
        "            label = 0\n",
        "        labels.append(label)\n",
        "\n",
        "        fig.canvas.draw()\n",
        "        fig_np = np.array(fig.canvas.renderer._renderer)\n",
        "        figs[i] = fig_np[:,:,:3]\n",
        "\n",
        "        plt.close(fig)\n",
        "        # normal length - end\n",
        "\n",
        "    print(\"Converting olhc to candlestik finished.\")\n",
        "    return figs, labels"
      ],
      "execution_count": null,
      "outputs": []
    },
    {
      "cell_type": "code",
      "metadata": {
        "colab": {
          "base_uri": "https://localhost:8080/"
        },
        "id": "V-WDQKFCE2Q-",
        "outputId": "3f955480-3606-40b9-b1a8-4d662d4f815b"
      },
      "source": [
        "inputs = data\n",
        "seq_len = 30\n",
        "dimension = 48\n",
        "\n",
        "figures, labels = ohlc2cs2(inputs, seq_len, dimension)"
      ],
      "execution_count": null,
      "outputs": [
        {
          "output_type": "stream",
          "text": [
            "Converting olhc to candlestick\n",
            "Converting olhc to candlestik finished.\n"
          ],
          "name": "stdout"
        }
      ]
    },
    {
      "cell_type": "code",
      "metadata": {
        "colab": {
          "base_uri": "https://localhost:8080/"
        },
        "id": "YwryKR7IJE81",
        "outputId": "fd071379-fff6-438a-e423-375db5e019e7"
      },
      "source": [
        "#위 함수로 생성된 figures는 값의 범위가 0~255 이기 때문에 0~1로 맞춰주기 위해 255로 나눕니다.\n",
        "figures = figures/255.0\n",
        "print(np.shape(labels), np.shape(figures))"
      ],
      "execution_count": null,
      "outputs": [
        {
          "output_type": "stream",
          "text": [
            "(10363,) (10363, 48, 48, 3)\n"
          ],
          "name": "stdout"
        }
      ]
    },
    {
      "cell_type": "markdown",
      "metadata": {
        "id": "1-U75_0hp65I"
      },
      "source": [
        "데이터 제너레이팅"
      ]
    },
    {
      "cell_type": "code",
      "metadata": {
        "id": "dDE80zOAJKtw"
      },
      "source": [
        "def single_stock_generator(chart, labels, batch_size) :\n",
        "    #output [chart, labels]\n",
        "    while True :\n",
        "        stock_batch = np.zeros(shape=(batch_size, dimension, dimension, 3))\n",
        "        label_batch = np.zeros(shape=(batch_size, ))\n",
        "        for i in range(batch_size) :\n",
        "            idx = np.random.randint(len(labels))\n",
        "            stock_batch[i] = chart[idx]\n",
        "            label_batch[i] = labels[idx]\n",
        "\n",
        "        yield stock_batch, label_batch"
      ],
      "execution_count": null,
      "outputs": []
    },
    {
      "cell_type": "code",
      "metadata": {
        "id": "alQfZUPKJKrM"
      },
      "source": [
        "train_len = 6943\n",
        "batch_size = 16\n",
        "train_gen = single_stock_generator(figures[:train_len], labels[:train_len], batch_size)\n",
        "test_gen = single_stock_generator(figures[train_len:], labels[train_len:], batch_size)\n"
      ],
      "execution_count": null,
      "outputs": []
    },
    {
      "cell_type": "code",
      "metadata": {
        "colab": {
          "base_uri": "https://localhost:8080/"
        },
        "id": "Kc9n4_pAJKoz",
        "outputId": "3ebf4e47-89e2-4aa0-8ec8-dad8c47561de"
      },
      "source": [
        "tmp_data = next(train_gen)\n",
        "print(\"Chart image shape : \",np.shape(tmp_data[0]))\n",
        "print(\"Label shape :\",np.shape(tmp_data[1]))"
      ],
      "execution_count": null,
      "outputs": [
        {
          "output_type": "stream",
          "text": [
            "Chart image shape :  (16, 48, 48, 3)\n",
            "Label shape : (16,)\n"
          ],
          "name": "stdout"
        }
      ]
    },
    {
      "cell_type": "code",
      "metadata": {
        "id": "DyziFTLVJKmi"
      },
      "source": [
        "# 만들어진 차트 이미지 중 하나를 예시로 그려보겠습니다.\n",
        "import matplotlib as mpl\n",
        "import matplotlib.pylab as plt\n",
        "%matplotlib inline"
      ],
      "execution_count": null,
      "outputs": []
    },
    {
      "cell_type": "code",
      "metadata": {
        "colab": {
          "base_uri": "https://localhost:8080/"
        },
        "id": "v0wb73ra3Act",
        "outputId": "483abdf9-bb23-4ec7-9f56-64078af074db"
      },
      "source": [
        "len(tmp_data[0][0][:,:,:])"
      ],
      "execution_count": null,
      "outputs": [
        {
          "output_type": "execute_result",
          "data": {
            "text/plain": [
              "48"
            ]
          },
          "metadata": {
            "tags": []
          },
          "execution_count": 63
        }
      ]
    },
    {
      "cell_type": "code",
      "metadata": {
        "colab": {
          "base_uri": "https://localhost:8080/",
          "height": 267
        },
        "id": "WnHyOng6JKkS",
        "outputId": "0251d7a0-ffdd-42fa-a169-3bd0c67585ad"
      },
      "source": [
        "plt.figure()\n",
        "plt.imshow(tmp_data[0][15][:,:,:])\n",
        "plt.show()"
      ],
      "execution_count": null,
      "outputs": [
        {
          "output_type": "display_data",
          "data": {
            "image/png": "[encoded data removed]",
            "text/plain": [
              "<Figure size 432x288 with 1 Axes>"
            ]
          },
          "metadata": {
            "tags": [],
            "needs_background": "dark"
          }
        }
      ]
    },
    {
      "cell_type": "markdown",
      "metadata": {
        "id": "5C6p10cctvah"
      },
      "source": [
        "# 모듈, 라이브러리 설치"
      ]
    },
    {
      "cell_type": "code",
      "metadata": {
        "id": "UaF55R5XLAyf"
      },
      "source": [
        "# Keras의 Functional APi를 이용할 거라서 불러와줍니다.\n",
        "import tensorflow as tf\n",
        "\n",
        "from tensorflow import keras\n",
        "from tensorflow.keras import layers"
      ],
      "execution_count": null,
      "outputs": []
    },
    {
      "cell_type": "code",
      "metadata": {
        "id": "RhMOxzKWxFf-"
      },
      "source": [
        "from tensorflow import keras\n",
        "from keras.models import Sequential\n",
        "from keras import layers\n",
        "from keras.optimizers import RMSprop"
      ],
      "execution_count": null,
      "outputs": []
    },
    {
      "cell_type": "code",
      "metadata": {
        "id": "xyvxwSH9tyrS"
      },
      "source": [
        "from keras.models import Sequential\n",
        "from keras.layers import Bidirectional\n",
        "from keras.layers import LSTM\n",
        "from keras.layers import Dense\n",
        "from keras.layers import TimeDistributed\n",
        "\n",
        "import numpy as np\n",
        "import pandas as pd\n",
        "\n",
        "from sklearn import preprocessing\n",
        "from sklearn.model_selection import KFold, cross_val_score, cross_val_predict, GridSearchCV\n",
        "from sklearn.tree import DecisionTreeClassifier\n",
        "from sklearn.linear_model import LogisticRegression, Perceptron, SGDClassifier\n",
        "from sklearn.neighbors import KNeighborsClassifier\n",
        "from sklearn.naive_bayes import GaussianNB\n",
        "from sklearn.svm import SVC, LinearSVC\n",
        "from sklearn.ensemble import RandomForestClassifier , GradientBoostingClassifier\n",
        "from sklearn.model_selection import StratifiedKFold\n",
        "from sklearn.model_selection import train_test_split\n",
        "from sklearn.feature_selection import RFECV\n",
        "from sklearn.metrics import make_scorer, accuracy_score, classification_report, confusion_matrix, mean_squared_error\n",
        "\n",
        "import matplotlib as mpl\n",
        "import matplotlib.pyplot as plt\n",
        "import matplotlib.pylab as pylab\n",
        "import seaborn as sns\n",
        "from pandas import get_dummies\n",
        "import xgboost as xgb\n",
        "import scipy\n",
        "import math\n",
        "import json\n",
        "import sys\n",
        "import csv\n",
        "import os\n",
        "import tqdm\n",
        "import keras\n",
        "from keras.models import Sequential\n",
        "from keras.layers import Dense, LSTM, Dropout, GRU, Bidirectional\n",
        "from keras.optimizers import SGD\n",
        "from tqdm import tqdm_notebook\n",
        "\n"
      ],
      "execution_count": null,
      "outputs": []
    },
    {
      "cell_type": "markdown",
      "metadata": {
        "id": "Y8Ny4wZnNLQP"
      },
      "source": [
        "# ANN\n"
      ]
    },
    {
      "cell_type": "markdown",
      "metadata": {
        "id": "PWdW6vAD2ViV"
      },
      "source": [
        "참고 코드 : https://colab.research.google.com/drive/1rIylR9RWEckndbyFNx1Wl_yUQZUF-wyI#scrollTo=70zNPAmbZcGh"
      ]
    },
    {
      "cell_type": "code",
      "metadata": {
        "colab": {
          "base_uri": "https://localhost:8080/"
        },
        "id": "gcfK7Bqje2n-",
        "outputId": "0cf6fd72-df27-43fd-98bc-a3a5e67215b0"
      },
      "source": [
        "inputs = keras.Input(shape=(48, 48, 3))\n",
        "x = inputs\n",
        "x = layers.Flatten()(x)\n",
        "x = layers.Dense(32, activation='relu')(x)\n",
        "x = layers.Dense(1, activation='sigmoid')(x)\n",
        "outputs = x\n",
        "\n",
        "ANN = keras.Model(inputs, outputs)\n",
        "ANN.summary()"
      ],
      "execution_count": null,
      "outputs": [
        {
          "output_type": "stream",
          "text": [
            "Model: \"model_6\"\n",
            "_________________________________________________________________\n",
            "Layer (type)                 Output Shape              Param #   \n",
            "=================================================================\n",
            "input_8 (InputLayer)         [(None, 48, 48, 3)]       0         \n",
            "_________________________________________________________________\n",
            "flatten_3 (Flatten)          (None, 6912)              0         \n",
            "_________________________________________________________________\n",
            "dense_11 (Dense)             (None, 32)                221216    \n",
            "_________________________________________________________________\n",
            "dense_12 (Dense)             (None, 1)                 33        \n",
            "=================================================================\n",
            "Total params: 221,249\n",
            "Trainable params: 221,249\n",
            "Non-trainable params: 0\n",
            "_________________________________________________________________\n"
          ],
          "name": "stdout"
        }
      ]
    },
    {
      "cell_type": "code",
      "metadata": {
        "colab": {
          "base_uri": "https://localhost:8080/"
        },
        "id": "RwUI2JDURsTY",
        "outputId": "0c9ca6de-6abd-4d1b-d269-c114c0b1b8d8"
      },
      "source": [
        "#정확도\n",
        "num_iters = train_len // batch_size\n",
        "num_epochs = 11\n",
        "optimizer = tf.keras.optimizers.Adam(0.0001)\n",
        "loss_fn = tf.keras.losses.BinaryCrossentropy()\n",
        "acc_fn = tf.keras.metrics.BinaryAccuracy()\n",
        "num_test_iters = num_iters // 4\n",
        "\n",
        "for epoch in range(num_epochs) :\n",
        "    epoch_loss_avg = tf.keras.metrics.Mean()\n",
        "    val_loss_avg = tf.keras.metrics.Mean()\n",
        "    epoch_acc_avg = tf.keras.metrics.Mean()\n",
        "    val_acc_avg = tf.keras.metrics.Mean()\n",
        "\n",
        "    for iter in range(num_iters) :\n",
        "        x_batch, y_batch = next(train_gen)\n",
        "        y_batch = y_batch.reshape(-1,1)\n",
        "        y_ = ANN(x_batch)\n",
        "        loss_value = loss_fn(y_batch, y_)\n",
        "        acc_value = acc_fn(y_batch, y_)\n",
        "        epoch_loss_avg(loss_value)\n",
        "        epoch_acc_avg(acc_value)\n",
        "\n",
        "    for iter in range(num_test_iters) :\n",
        "        x_batch, y_batch = next(test_gen)\n",
        "        y_batch = y_batch.reshape(-1,1)\n",
        "        y_= ANN(x_batch)\n",
        "        loss_value2 = loss_fn(y_batch, y_)\n",
        "        acc_value2 = acc_fn(y_batch, y_)\n",
        "        val_loss_avg(loss_value2)\n",
        "        val_acc_avg(acc_value2)\n",
        "\n",
        "\n",
        "\n",
        "    print(\"Epoch {:03d}: , Train Loss: {:.5f} , Train acc: {:.5f}\".format(epoch, epoch_loss_avg.result(), epoch_acc_avg.result()))\n",
        "    print(\"Val_Loss: {:.3f}, Val_acc: {:.3f}\".format(val_loss_avg.result(), val_acc_avg.result()))\n",
        "\n",
        "ANN_loss = float(format(val_loss_avg.result()))\n",
        "ANN_ACC = float(format(val_acc_avg.result()))"
      ],
      "execution_count": null,
      "outputs": [
        {
          "output_type": "stream",
          "text": [
            "Epoch 000: , Train Loss: 0.69714 , Train acc: 0.51196\n",
            "Val_Loss: 0.696, Val_acc: 0.505\n",
            "Epoch 001: , Train Loss: 0.69696 , Train acc: 0.50842\n",
            "Val_Loss: 0.695, Val_acc: 0.509\n",
            "Epoch 002: , Train Loss: 0.69332 , Train acc: 0.51046\n",
            "Val_Loss: 0.702, Val_acc: 0.511\n",
            "Epoch 003: , Train Loss: 0.69659 , Train acc: 0.51142\n",
            "Val_Loss: 0.702, Val_acc: 0.511\n",
            "Epoch 004: , Train Loss: 0.69579 , Train acc: 0.51073\n",
            "Val_Loss: 0.697, Val_acc: 0.512\n",
            "Epoch 005: , Train Loss: 0.69746 , Train acc: 0.51116\n",
            "Val_Loss: 0.701, Val_acc: 0.511\n",
            "Epoch 006: , Train Loss: 0.69528 , Train acc: 0.51076\n",
            "Val_Loss: 0.701, Val_acc: 0.510\n",
            "Epoch 007: , Train Loss: 0.69356 , Train acc: 0.51082\n",
            "Val_Loss: 0.692, Val_acc: 0.511\n",
            "Epoch 008: , Train Loss: 0.69668 , Train acc: 0.51125\n",
            "Val_Loss: 0.693, Val_acc: 0.511\n",
            "Epoch 009: , Train Loss: 0.69552 , Train acc: 0.51182\n",
            "Val_Loss: 0.699, Val_acc: 0.512\n",
            "Epoch 010: , Train Loss: 0.69498 , Train acc: 0.51203\n",
            "Val_Loss: 0.696, Val_acc: 0.512\n"
          ],
          "name": "stdout"
        }
      ]
    },
    {
      "cell_type": "code",
      "metadata": {
        "colab": {
          "base_uri": "https://localhost:8080/"
        },
        "id": "BRj-rj3Dncc8",
        "outputId": "ec0c9472-b42e-4beb-e824-f8dff2dba5d1"
      },
      "source": [
        "ANN_ACC"
      ],
      "execution_count": null,
      "outputs": [
        {
          "output_type": "execute_result",
          "data": {
            "text/plain": [
              "0.5120896100997925"
            ]
          },
          "metadata": {
            "tags": []
          },
          "execution_count": 70
        }
      ]
    },
    {
      "cell_type": "markdown",
      "metadata": {
        "id": "spiP-T0gx7qZ"
      },
      "source": [
        "# 1D CNN"
      ]
    },
    {
      "cell_type": "code",
      "metadata": {
        "colab": {
          "base_uri": "https://localhost:8080/"
        },
        "id": "sbg6L2dn9fJj",
        "outputId": "8ea63e5b-cf21-4e0a-e424-0a8e3af83364"
      },
      "source": [
        "inputs = keras.Input(shape=(48, 48, 3))\n",
        "x = inputs\n",
        "x = layers.Conv1D(filters=32, kernel_size=5, padding=\"causal\",activation=\"relu\")(x)\n",
        "x = layers.Flatten()(x)\n",
        "x = layers.Dense(16, activation=\"relu\")(x)\n",
        "x = layers.Dense(1, activation='sigmoid')(x)\n",
        "outputs = x\n",
        "\n",
        "CNN1D = keras.Model(inputs, outputs)\n",
        "CNN1D.summary()"
      ],
      "execution_count": null,
      "outputs": [
        {
          "output_type": "stream",
          "text": [
            "Model: \"model_7\"\n",
            "_________________________________________________________________\n",
            "Layer (type)                 Output Shape              Param #   \n",
            "=================================================================\n",
            "input_9 (InputLayer)         [(None, 48, 48, 3)]       0         \n",
            "_________________________________________________________________\n",
            "conv1d_3 (Conv1D)            (None, 48, 48, 32)        512       \n",
            "_________________________________________________________________\n",
            "flatten_4 (Flatten)          (None, 73728)             0         \n",
            "_________________________________________________________________\n",
            "dense_13 (Dense)             (None, 16)                1179664   \n",
            "_________________________________________________________________\n",
            "dense_14 (Dense)             (None, 1)                 17        \n",
            "=================================================================\n",
            "Total params: 1,180,193\n",
            "Trainable params: 1,180,193\n",
            "Non-trainable params: 0\n",
            "_________________________________________________________________\n"
          ],
          "name": "stdout"
        }
      ]
    },
    {
      "cell_type": "code",
      "metadata": {
        "colab": {
          "base_uri": "https://localhost:8080/"
        },
        "id": "olS1wlkpyz3A",
        "outputId": "a27d7bfc-4f17-4c6f-c46f-e4cbf6e09e22"
      },
      "source": [
        "#정확도\n",
        "num_iters = train_len // batch_size\n",
        "num_epochs = 11\n",
        "optimizer = tf.keras.optimizers.Adam(0.0001)\n",
        "loss_fn = tf.keras.losses.BinaryCrossentropy()\n",
        "acc_fn = tf.keras.metrics.BinaryAccuracy()\n",
        "num_test_iters = num_iters // 4\n",
        "for epoch in range(num_epochs) :\n",
        "    epoch_loss_avg = tf.keras.metrics.Mean()\n",
        "    val_loss_avg = tf.keras.metrics.Mean()\n",
        "    epoch_acc_avg = tf.keras.metrics.Mean()\n",
        "    val_acc_avg = tf.keras.metrics.Mean()\n",
        "\n",
        "    for iter in range(num_iters) :\n",
        "        x_batch, y_batch = next(train_gen)\n",
        "        y_batch = y_batch.reshape(-1,1)\n",
        "        y_ = CNN1D(x_batch)\n",
        "        loss_value = loss_fn(y_batch, y_)\n",
        "        acc_value = acc_fn(y_batch, y_)\n",
        "        epoch_loss_avg(loss_value)\n",
        "        epoch_acc_avg(acc_value)\n",
        "\n",
        "    for iter in range(num_test_iters) :\n",
        "        x_batch, y_batch = next(test_gen)\n",
        "        y_batch = y_batch.reshape(-1,1)\n",
        "        y_= CNN1D(x_batch)\n",
        "        loss_value2 = loss_fn(y_batch, y_)\n",
        "        acc_value2 = acc_fn(y_batch, y_)\n",
        "        val_loss_avg(loss_value2)\n",
        "        val_acc_avg(acc_value2)\n",
        "\n",
        "\n",
        "\n",
        "    print(\"Epoch {:03d}: , Train Loss: {:.5f} , Train acc: {:.5f}\".format(epoch, epoch_loss_avg.result(), epoch_acc_avg.result()))\n",
        "    print(\"Val_Loss: {:.3f}, Val_acc: {:.3f}\".format(val_loss_avg.result(), val_acc_avg.result()))\n",
        "\n",
        "CNN1D_loss = float(format(val_loss_avg.result()))\n",
        "CNN1D_ACC = float(format(val_acc_avg.result()))"
      ],
      "execution_count": null,
      "outputs": [
        {
          "output_type": "stream",
          "text": [
            "Epoch 000: , Train Loss: 0.69347 , Train acc: 0.48677\n",
            "Val_Loss: 0.693, Val_acc: 0.496\n",
            "Epoch 001: , Train Loss: 0.69368 , Train acc: 0.49155\n",
            "Val_Loss: 0.694, Val_acc: 0.490\n",
            "Epoch 002: , Train Loss: 0.69332 , Train acc: 0.49082\n",
            "Val_Loss: 0.694, Val_acc: 0.492\n",
            "Epoch 003: , Train Loss: 0.69330 , Train acc: 0.49245\n",
            "Val_Loss: 0.694, Val_acc: 0.492\n",
            "Epoch 004: , Train Loss: 0.69325 , Train acc: 0.49369\n",
            "Val_Loss: 0.694, Val_acc: 0.493\n",
            "Epoch 005: , Train Loss: 0.69328 , Train acc: 0.49348\n",
            "Val_Loss: 0.694, Val_acc: 0.493\n",
            "Epoch 006: , Train Loss: 0.69298 , Train acc: 0.49375\n",
            "Val_Loss: 0.694, Val_acc: 0.495\n",
            "Epoch 007: , Train Loss: 0.69319 , Train acc: 0.49551\n",
            "Val_Loss: 0.695, Val_acc: 0.495\n",
            "Epoch 008: , Train Loss: 0.69311 , Train acc: 0.49535\n",
            "Val_Loss: 0.693, Val_acc: 0.496\n",
            "Epoch 009: , Train Loss: 0.69323 , Train acc: 0.49614\n",
            "Val_Loss: 0.694, Val_acc: 0.496\n",
            "Epoch 010: , Train Loss: 0.69336 , Train acc: 0.49594\n",
            "Val_Loss: 0.694, Val_acc: 0.496\n"
          ],
          "name": "stdout"
        }
      ]
    },
    {
      "cell_type": "code",
      "metadata": {
        "colab": {
          "base_uri": "https://localhost:8080/"
        },
        "id": "TQ2fGoU9zlph",
        "outputId": "80ad3b99-2a15-42d4-bc64-5f348139cfab"
      },
      "source": [
        "CNN1D_ACC"
      ],
      "execution_count": null,
      "outputs": [
        {
          "output_type": "execute_result",
          "data": {
            "text/plain": [
              "0.49559661746025085"
            ]
          },
          "metadata": {
            "tags": []
          },
          "execution_count": 73
        }
      ]
    },
    {
      "cell_type": "markdown",
      "metadata": {
        "id": "4zFU8OcvJnam"
      },
      "source": [
        "# CNN"
      ]
    },
    {
      "cell_type": "markdown",
      "metadata": {
        "id": "v0Ln0Vf4J5xm"
      },
      "source": [
        "참고 논문 : Using Deep Learning Neural Networks and Candlestick chart Representation to Predict Stock Market\n",
        "https://arxiv.org/pdf/1903.12258.pdf"
      ]
    },
    {
      "cell_type": "markdown",
      "metadata": {
        "id": "3fZ1KZKbMk6x"
      },
      "source": [
        "다음날 종가가 상승이냐 아니냐를 맞추는 binary classification 문제"
      ]
    },
    {
      "cell_type": "code",
      "metadata": {
        "id": "5r9oU4VTtc07",
        "colab": {
          "base_uri": "https://localhost:8080/"
        },
        "outputId": "96df11a8-42da-49d1-ead4-73aa3755d75f"
      },
      "source": [
        "inputs = keras.Input(shape=(48, 48, 3))\n",
        "x = inputs\n",
        "x = layers.Conv2D(48, 3, activation='relu', padding=\"same\")(x)\n",
        "x = layers.MaxPooling2D(2)(x)\n",
        "x = layers.Dropout(rate=0.5)(x)\n",
        "x = layers.Conv2D(96, 3, activation='relu', padding=\"same\")(x)\n",
        "x = layers.MaxPooling2D(2)(x)\n",
        "x = layers.Dropout(rate=0.5)(x)\n",
        "x = layers.Flatten()(x)\n",
        "x = layers.Dense(1, activation='sigmoid')(x)\n",
        "outputs = x\n",
        "\n",
        "CNN = keras.Model(inputs, outputs)\n",
        "CNN.summary()"
      ],
      "execution_count": null,
      "outputs": [
        {
          "output_type": "stream",
          "text": [
            "Model: \"model_8\"\n",
            "_________________________________________________________________\n",
            "Layer (type)                 Output Shape              Param #   \n",
            "=================================================================\n",
            "input_10 (InputLayer)        [(None, 48, 48, 3)]       0         \n",
            "_________________________________________________________________\n",
            "conv2d_2 (Conv2D)            (None, 48, 48, 48)        1344      \n",
            "_________________________________________________________________\n",
            "max_pooling2d_2 (MaxPooling2 (None, 24, 24, 48)        0         \n",
            "_________________________________________________________________\n",
            "dropout_6 (Dropout)          (None, 24, 24, 48)        0         \n",
            "_________________________________________________________________\n",
            "conv2d_3 (Conv2D)            (None, 24, 24, 96)        41568     \n",
            "_________________________________________________________________\n",
            "max_pooling2d_3 (MaxPooling2 (None, 12, 12, 96)        0         \n",
            "_________________________________________________________________\n",
            "dropout_7 (Dropout)          (None, 12, 12, 96)        0         \n",
            "_________________________________________________________________\n",
            "flatten_5 (Flatten)          (None, 13824)             0         \n",
            "_________________________________________________________________\n",
            "dense_15 (Dense)             (None, 1)                 13825     \n",
            "=================================================================\n",
            "Total params: 56,737\n",
            "Trainable params: 56,737\n",
            "Non-trainable params: 0\n",
            "_________________________________________________________________\n"
          ],
          "name": "stdout"
        }
      ]
    },
    {
      "cell_type": "code",
      "metadata": {
        "colab": {
          "base_uri": "https://localhost:8080/"
        },
        "id": "Ux-IH5iAXR-1",
        "outputId": "14a6aa88-eb9b-435e-8e99-4df27bb05b36"
      },
      "source": [
        "#정확도\n",
        "num_iters = train_len // batch_size\n",
        "num_epochs = 11\n",
        "optimizer = tf.keras.optimizers.Adam(0.0001)\n",
        "loss_fn = tf.keras.losses.BinaryCrossentropy()\n",
        "acc_fn = tf.keras.metrics.BinaryAccuracy()\n",
        "num_test_iters = num_iters // 4\n",
        "for epoch in range(num_epochs) :\n",
        "    epoch_loss_avg = tf.keras.metrics.Mean()\n",
        "    val_loss_avg = tf.keras.metrics.Mean()\n",
        "    epoch_acc_avg = tf.keras.metrics.Mean()\n",
        "    val_acc_avg = tf.keras.metrics.Mean()\n",
        "\n",
        "    for iter in range(num_iters) :\n",
        "        x_batch, y_batch = next(train_gen)\n",
        "        y_batch = y_batch.reshape(-1,1)\n",
        "        y_ = CNN(x_batch)\n",
        "        loss_value = loss_fn(y_batch, y_)\n",
        "        acc_value = acc_fn(y_batch, y_)\n",
        "        epoch_loss_avg(loss_value)\n",
        "        epoch_acc_avg(acc_value)\n",
        "\n",
        "    for iter in range(num_test_iters) :\n",
        "        x_batch, y_batch = next(test_gen)\n",
        "        y_batch = y_batch.reshape(-1,1)\n",
        "        y_= CNN(x_batch)\n",
        "        loss_value2 = loss_fn(y_batch, y_)\n",
        "        acc_value2 = acc_fn(y_batch, y_)\n",
        "        val_loss_avg(loss_value2)\n",
        "        val_acc_avg(acc_value2)\n",
        "\n",
        "\n",
        "\n",
        "    print(\"Epoch {:03d}: , Train Loss: {:.5f} , Train acc: {:.5f}\".format(epoch, epoch_loss_avg.result(), epoch_acc_avg.result()))\n",
        "    print(\"Val_Loss: {:.3f}, Val_acc: {:.3f}\".format(val_loss_avg.result(), val_acc_avg.result()))\n",
        "\n",
        "CNN_loss = float(format(val_loss_avg.result()))\n",
        "CNN_ACC = float(format(val_acc_avg.result()))"
      ],
      "execution_count": null,
      "outputs": [
        {
          "output_type": "stream",
          "text": [
            "Epoch 000: , Train Loss: 0.69399 , Train acc: 0.48474\n",
            "Val_Loss: 0.696, Val_acc: 0.484\n",
            "Epoch 001: , Train Loss: 0.69400 , Train acc: 0.48308\n",
            "Val_Loss: 0.694, Val_acc: 0.486\n",
            "Epoch 002: , Train Loss: 0.69403 , Train acc: 0.48516\n",
            "Val_Loss: 0.695, Val_acc: 0.485\n",
            "Epoch 003: , Train Loss: 0.69469 , Train acc: 0.48453\n",
            "Val_Loss: 0.694, Val_acc: 0.484\n",
            "Epoch 004: , Train Loss: 0.69421 , Train acc: 0.48476\n",
            "Val_Loss: 0.697, Val_acc: 0.484\n",
            "Epoch 005: , Train Loss: 0.69422 , Train acc: 0.48365\n",
            "Val_Loss: 0.694, Val_acc: 0.484\n",
            "Epoch 006: , Train Loss: 0.69431 , Train acc: 0.48448\n",
            "Val_Loss: 0.696, Val_acc: 0.484\n",
            "Epoch 007: , Train Loss: 0.69366 , Train acc: 0.48441\n",
            "Val_Loss: 0.695, Val_acc: 0.485\n",
            "Epoch 008: , Train Loss: 0.69390 , Train acc: 0.48508\n",
            "Val_Loss: 0.695, Val_acc: 0.485\n",
            "Epoch 009: , Train Loss: 0.69387 , Train acc: 0.48562\n",
            "Val_Loss: 0.694, Val_acc: 0.486\n",
            "Epoch 010: , Train Loss: 0.69393 , Train acc: 0.48569\n",
            "Val_Loss: 0.695, Val_acc: 0.486\n"
          ],
          "name": "stdout"
        }
      ]
    },
    {
      "cell_type": "markdown",
      "metadata": {
        "id": "6pmt8oDZ2Lxa"
      },
      "source": [
        "# GRU\n"
      ]
    },
    {
      "cell_type": "markdown",
      "metadata": {
        "id": "V_IHXhdWI0WG"
      },
      "source": [
        "소스코드 : https://github.com/zutshianand/Stock-Price-Prediction/blob/master/main.ipynb"
      ]
    },
    {
      "cell_type": "code",
      "metadata": {
        "colab": {
          "base_uri": "https://localhost:8080/"
        },
        "id": "m8c-rP8sQYRl",
        "outputId": "6cfd2532-6a78-4568-ed95-40795365a402"
      },
      "source": [
        "regressorGRU = Sequential()\n",
        "# First GRU layer with Dropout regularisation\n",
        "regressorGRU.add(GRU(units=50, return_sequences=True, input_shape=(2304, 3), activation='tanh'))\n",
        "# The output layer\n",
        "regressorGRU.add(Dense(units=1))\n",
        "regressorGRU.summary()"
      ],
      "execution_count": null,
      "outputs": [
        {
          "output_type": "stream",
          "text": [
            "Model: \"sequential_3\"\n",
            "_________________________________________________________________\n",
            "Layer (type)                 Output Shape              Param #   \n",
            "=================================================================\n",
            "gru_1 (GRU)                  (None, 2304, 50)          8250      \n",
            "_________________________________________________________________\n",
            "dense_16 (Dense)             (None, 2304, 1)           51        \n",
            "=================================================================\n",
            "Total params: 8,301\n",
            "Trainable params: 8,301\n",
            "Non-trainable params: 0\n",
            "_________________________________________________________________\n"
          ],
          "name": "stdout"
        }
      ]
    },
    {
      "cell_type": "code",
      "metadata": {
        "colab": {
          "base_uri": "https://localhost:8080/"
        },
        "id": "qR0wZZCjSCbd",
        "outputId": "a163a9e6-78c9-40f7-f4e2-da4feea5c9ee"
      },
      "source": [
        "#정확도\n",
        "num_iters = train_len // batch_size\n",
        "num_epochs = 11\n",
        "optimizer = tf.keras.optimizers.Adam(0.0001)\n",
        "loss_fn = tf.keras.losses.BinaryCrossentropy()\n",
        "acc_fn = tf.keras.metrics.BinaryAccuracy()\n",
        "num_test_iters = num_iters // 4\n",
        "for epoch in range(num_epochs) :\n",
        "    epoch_loss_avg = tf.keras.metrics.Mean()\n",
        "    val_loss_avg = tf.keras.metrics.Mean()\n",
        "    epoch_acc_avg = tf.keras.metrics.Mean()\n",
        "    val_acc_avg = tf.keras.metrics.Mean()\n",
        "\n",
        "    for iter in range(num_iters) :\n",
        "        x_batch, y_batch = next(train_gen)\n",
        "        x_batch = x_batch.reshape(16, 2304, 3)\n",
        "        epoch_loss_avg(loss_value)\n",
        "        epoch_acc_avg(acc_value)\n",
        "\n",
        "    for iter in range(num_test_iters) :\n",
        "        x_batch, y_batch = next(test_gen)\n",
        "        x_batch = x_batch.reshape(16, 2304, 3)\n",
        "        y_= regressorGRU(x_batch)\n",
        "        loss_value = loss_fn(y_batch, y_)\n",
        "        acc_value = acc_fn(y_batch, y_)\n",
        "        val_loss_avg(loss_value)\n",
        "        val_acc_avg(acc_value)\n",
        "\n",
        "\n",
        "\n",
        "    print(\"Epoch {:03d}: , Train Loss: {:.5f} , Train acc: {:.5f}\".format(epoch, epoch_loss_avg.result(), epoch_acc_avg.result()))\n",
        "    print(\"Val_Loss: {:.3f}, Val_acc: {:.3f}\".format(val_loss_avg.result(), val_acc_avg.result()))\n",
        "\n",
        "GRU_loss = float(format(val_loss_avg.result()))\n",
        "GRU_ACC = float(format(val_acc_avg.result()))"
      ],
      "execution_count": null,
      "outputs": [
        {
          "output_type": "stream",
          "text": [
            "Epoch 000: , Train Loss: 0.69058 , Train acc: 0.48567\n",
            "Val_Loss: 8.266, Val_acc: 0.459\n",
            "Epoch 001: , Train Loss: 8.67652 , Train acc: 0.46412\n",
            "Val_Loss: 8.087, Val_acc: 0.470\n",
            "Epoch 002: , Train Loss: 11.56870 , Train acc: 0.46991\n",
            "Val_Loss: 8.052, Val_acc: 0.471\n",
            "Epoch 003: , Train Loss: 7.71246 , Train acc: 0.47261\n",
            "Val_Loss: 8.239, Val_acc: 0.473\n",
            "Epoch 004: , Train Loss: 9.64061 , Train acc: 0.47092\n",
            "Val_Loss: 8.052, Val_acc: 0.472\n",
            "Epoch 005: , Train Loss: 11.56870 , Train acc: 0.47234\n",
            "Val_Loss: 7.998, Val_acc: 0.473\n",
            "Epoch 006: , Train Loss: 9.64061 , Train acc: 0.47386\n",
            "Val_Loss: 7.927, Val_acc: 0.475\n",
            "Epoch 007: , Train Loss: 10.60467 , Train acc: 0.47561\n",
            "Val_Loss: 8.364, Val_acc: 0.475\n",
            "Epoch 008: , Train Loss: 6.74845 , Train acc: 0.47338\n",
            "Val_Loss: 7.748, Val_acc: 0.475\n",
            "Epoch 009: , Train Loss: 5.78435 , Train acc: 0.47608\n",
            "Val_Loss: 8.034, Val_acc: 0.476\n",
            "Epoch 010: , Train Loss: 7.71246 , Train acc: 0.47639\n",
            "Val_Loss: 7.909, Val_acc: 0.477\n"
          ],
          "name": "stdout"
        }
      ]
    },
    {
      "cell_type": "code",
      "metadata": {
        "colab": {
          "base_uri": "https://localhost:8080/"
        },
        "id": "eUWVpOXsSC4d",
        "outputId": "53aa133e-ea4a-45eb-cd38-b1269d00f262"
      },
      "source": [
        "GRU_ACC"
      ],
      "execution_count": null,
      "outputs": [
        {
          "output_type": "execute_result",
          "data": {
            "text/plain": [
              "0.47687822580337524"
            ]
          },
          "metadata": {
            "tags": []
          },
          "execution_count": 78
        }
      ]
    },
    {
      "cell_type": "markdown",
      "metadata": {
        "id": "dPJIiThwVYSo"
      },
      "source": [
        "# LSTM"
      ]
    },
    {
      "cell_type": "markdown",
      "metadata": {
        "id": "nfiA6NWYdGxJ"
      },
      "source": [
        "shape 확인 기존 48,48,3 -> 48,3으로 변경"
      ]
    },
    {
      "cell_type": "code",
      "metadata": {
        "colab": {
          "base_uri": "https://localhost:8080/"
        },
        "id": "Qlz42Mn1b0xI",
        "outputId": "541407ea-f41a-4833-8cf1-7320e0c1493c"
      },
      "source": [
        "inputs = keras.Input(shape=(2304, 3))\n",
        "x = inputs\n",
        "# First LSTM layer with Dropout regularisation\n",
        "x = layers.LSTM(units=32, return_sequences=True)(x)\n",
        "x = layers.Dropout(rate=0.5)(x)\n",
        "# Second LSTM layer\n",
        "x = layers.LSTM(units=32, return_sequences=True)(x)\n",
        "x = layers.Dropout(rate=0.5)(x)\n",
        "# Third LSTM layer\n",
        "x = layers.LSTM(units=32, return_sequences=True)(x)\n",
        "x = layers.Dropout(rate=0.5)(x)\n",
        "# Fourth LSTM layer\n",
        "x = layers.LSTM(units=32, return_sequences=True)(x)\n",
        "x = layers.Dropout(rate=0.5)(x)\n",
        "# The output layer\n",
        "x = layers.Dense(1)(x)\n",
        "outputs = x\n",
        "\n",
        "LSTM = keras.Model(inputs, outputs)\n",
        "LSTM.summary()"
      ],
      "execution_count": null,
      "outputs": [
        {
          "output_type": "stream",
          "text": [
            "Model: \"model_9\"\n",
            "_________________________________________________________________\n",
            "Layer (type)                 Output Shape              Param #   \n",
            "=================================================================\n",
            "input_11 (InputLayer)        [(None, 2304, 3)]         0         \n",
            "_________________________________________________________________\n",
            "lstm_7 (LSTM)                (None, 2304, 32)          4608      \n",
            "_________________________________________________________________\n",
            "dropout_8 (Dropout)          (None, 2304, 32)          0         \n",
            "_________________________________________________________________\n",
            "lstm_8 (LSTM)                (None, 2304, 32)          8320      \n",
            "_________________________________________________________________\n",
            "dropout_9 (Dropout)          (None, 2304, 32)          0         \n",
            "_________________________________________________________________\n",
            "lstm_9 (LSTM)                (None, 2304, 32)          8320      \n",
            "_________________________________________________________________\n",
            "dropout_10 (Dropout)         (None, 2304, 32)          0         \n",
            "_________________________________________________________________\n",
            "lstm_10 (LSTM)               (None, 2304, 32)          8320      \n",
            "_________________________________________________________________\n",
            "dropout_11 (Dropout)         (None, 2304, 32)          0         \n",
            "_________________________________________________________________\n",
            "dense_17 (Dense)             (None, 2304, 1)           33        \n",
            "=================================================================\n",
            "Total params: 29,601\n",
            "Trainable params: 29,601\n",
            "Non-trainable params: 0\n",
            "_________________________________________________________________\n"
          ],
          "name": "stdout"
        }
      ]
    },
    {
      "cell_type": "code",
      "metadata": {
        "id": "jIhamLBPfzeC",
        "colab": {
          "base_uri": "https://localhost:8080/"
        },
        "outputId": "0a73b1ec-a03f-4639-c7a7-58f2e58142a8"
      },
      "source": [
        "#정확도\n",
        "num_iters = train_len // batch_size\n",
        "num_epochs = 11\n",
        "optimizer = tf.keras.optimizers.Adam(0.0001)\n",
        "loss_fn = tf.keras.losses.BinaryCrossentropy()\n",
        "acc_fn = tf.keras.metrics.BinaryAccuracy()\n",
        "num_test_iters = num_iters // 4\n",
        "for epoch in range(num_epochs) :\n",
        "    epoch_loss_avg = tf.keras.metrics.Mean()\n",
        "    val_loss_avg = tf.keras.metrics.Mean()\n",
        "    epoch_acc_avg = tf.keras.metrics.Mean()\n",
        "    val_acc_avg = tf.keras.metrics.Mean()\n",
        "\n",
        "    for iter in range(num_iters) :\n",
        "        x_batch, y_batch = next(train_gen)\n",
        "        x_batch = x_batch.reshape(16, 2304, 3)\n",
        "        y_ = LSTM(x_batch)\n",
        "        loss_value = loss_fn(y_batch, y_)\n",
        "        acc_value = acc_fn(y_batch, y_)\n",
        "        epoch_loss_avg.update_state(loss_value)\n",
        "        epoch_acc_avg(acc_value)\n",
        "\n",
        "    for iter in range(num_test_iters) :\n",
        "        x_batch, y_batch = next(test_gen)\n",
        "        x_batch = x_batch.reshape(16, 2304, 3)\n",
        "        y_= LSTM(x_batch)\n",
        "        loss_value2 = loss_fn(y_batch, y_)\n",
        "        acc_value2 = acc_fn(y_batch, y_)\n",
        "        val_loss_avg.update_state(loss_value2)\n",
        "        val_acc_avg(acc_value2)\n",
        "\n",
        "\n",
        "\n",
        "    print(\"Epoch {:03d}: , Train Loss: {:.5f} , Train acc: {:.5f}\".format(epoch, epoch_loss_avg.result(), epoch_acc_avg.result()))\n",
        "    print(\"Val_Loss: {:.3f}, Val_acc: {:.3f}\".format(val_loss_avg.result(), val_acc_avg.result()))\n",
        "\n",
        "LSTM_loss = float(format(val_loss_avg.result()))\n",
        "LSTM_ACC = float(format(val_acc_avg.result()))"
      ],
      "execution_count": null,
      "outputs": [
        {
          "output_type": "stream",
          "text": [
            "Epoch 000: , Train Loss: 7.76814 , Train acc: 0.48606\n",
            "Val_Loss: 8.070, Val_acc: 0.494\n",
            "Epoch 001: , Train Loss: 7.64123 , Train acc: 0.49421\n",
            "Val_Loss: 8.364, Val_acc: 0.495\n",
            "Epoch 002: , Train Loss: 7.78373 , Train acc: 0.49485\n",
            "Val_Loss: 7.962, Val_acc: 0.494\n",
            "Epoch 003: , Train Loss: 7.89728 , Train acc: 0.49304\n",
            "Val_Loss: 8.105, Val_acc: 0.492\n",
            "Epoch 004: , Train Loss: 7.70135 , Train acc: 0.49226\n",
            "Val_Loss: 8.132, Val_acc: 0.493\n",
            "Epoch 005: , Train Loss: 7.81267 , Train acc: 0.49259\n",
            "Val_Loss: 8.239, Val_acc: 0.492\n",
            "Epoch 006: , Train Loss: 7.67463 , Train acc: 0.49240\n",
            "Val_Loss: 8.025, Val_acc: 0.493\n",
            "Epoch 007: , Train Loss: 7.68799 , Train acc: 0.49295\n",
            "Val_Loss: 8.266, Val_acc: 0.493\n",
            "Epoch 008: , Train Loss: 7.85275 , Train acc: 0.49252\n",
            "Val_Loss: 8.293, Val_acc: 0.492\n",
            "Epoch 009: , Train Loss: 7.89727 , Train acc: 0.49192\n",
            "Val_Loss: 8.302, Val_acc: 0.491\n",
            "Epoch 010: , Train Loss: 7.82380 , Train acc: 0.49085\n",
            "Val_Loss: 7.864, Val_acc: 0.491\n"
          ],
          "name": "stdout"
        }
      ]
    },
    {
      "cell_type": "code",
      "metadata": {
        "id": "yXMGmdwxfq95",
        "colab": {
          "base_uri": "https://localhost:8080/"
        },
        "outputId": "297ae1a1-ffd1-427e-d06e-769acee793d1"
      },
      "source": [
        "LSTM_ACC"
      ],
      "execution_count": null,
      "outputs": [
        {
          "output_type": "execute_result",
          "data": {
            "text/plain": [
              "0.4910687804222107"
            ]
          },
          "metadata": {
            "tags": []
          },
          "execution_count": 81
        }
      ]
    },
    {
      "cell_type": "markdown",
      "metadata": {
        "id": "GZ9ZdVpZVYsj"
      },
      "source": [
        "# BLSTM"
      ]
    },
    {
      "cell_type": "markdown",
      "metadata": {
        "id": "EFFsx3gMF8BD"
      },
      "source": [
        "소스코드 : https://machinelearningmastery.com/develop-bidirectional-lstm-sequence-classification-python-keras/"
      ]
    },
    {
      "cell_type": "code",
      "metadata": {
        "id": "hSLEtsxLzZKV"
      },
      "source": [
        "from keras.models import Sequential\n",
        "from keras.layers import Bidirectional\n",
        "from keras.layers import LSTM\n",
        "from keras.layers import Dense\n",
        "from keras.layers import TimeDistributed"
      ],
      "execution_count": null,
      "outputs": []
    },
    {
      "cell_type": "code",
      "metadata": {
        "colab": {
          "base_uri": "https://localhost:8080/"
        },
        "id": "W6ox8QPNE0m-",
        "outputId": "18f3e83f-a0ca-4212-fe6d-33e1455974cc"
      },
      "source": [
        "BL = Sequential()\n",
        "BL.add(Bidirectional(LSTM(20, return_sequences=True), input_shape=(2304, 3)))\n",
        "BL.add(TimeDistributed(Dense(1, activation='sigmoid')))\n",
        "BL.summary()"
      ],
      "execution_count": null,
      "outputs": [
        {
          "output_type": "stream",
          "text": [
            "Model: \"sequential_4\"\n",
            "_________________________________________________________________\n",
            "Layer (type)                 Output Shape              Param #   \n",
            "=================================================================\n",
            "bidirectional_2 (Bidirection (None, 2304, 40)          3840      \n",
            "_________________________________________________________________\n",
            "time_distributed_2 (TimeDist (None, 2304, 1)           41        \n",
            "=================================================================\n",
            "Total params: 3,881\n",
            "Trainable params: 3,881\n",
            "Non-trainable params: 0\n",
            "_________________________________________________________________\n"
          ],
          "name": "stdout"
        }
      ]
    },
    {
      "cell_type": "code",
      "metadata": {
        "colab": {
          "base_uri": "https://localhost:8080/"
        },
        "id": "gDCaoOlvG2SW",
        "outputId": "f3dcfae2-dd20-4951-c1d2-36f1046e68f1"
      },
      "source": [
        "#정확도\n",
        "num_iters = train_len // batch_size\n",
        "num_epochs = 11\n",
        "optimizer = tf.keras.optimizers.Adam(0.0001)\n",
        "loss_fn = tf.keras.losses.BinaryCrossentropy()\n",
        "acc_fn = tf.keras.metrics.BinaryAccuracy()\n",
        "num_test_iters = num_iters // 4\n",
        "for epoch in range(num_epochs) :\n",
        "    epoch_loss_avg = tf.keras.metrics.Mean()\n",
        "    val_loss_avg = tf.keras.metrics.Mean()\n",
        "    epoch_acc_avg = tf.keras.metrics.Mean()\n",
        "    val_acc_avg = tf.keras.metrics.Mean()\n",
        "\n",
        "    for iter in range(num_iters) :\n",
        "        x_batch, y_batch = next(train_gen)\n",
        "        x_batch = x_batch.reshape(16, 2304, 3)\n",
        "        y_ = BL(x_batch)\n",
        "        loss_value = loss_fn(y_batch, y_)\n",
        "        acc_value = acc_fn(y_batch, y_)\n",
        "        epoch_loss_avg(loss_value)\n",
        "        epoch_acc_avg(acc_value)\n",
        "\n",
        "    for iter in range(num_test_iters) :\n",
        "        x_batch, y_batch = next(test_gen)\n",
        "        x_batch = x_batch.reshape(16, 2304, 3)\n",
        "        y_= BL(x_batch)\n",
        "        loss_value2 = loss_fn(y_batch, y_)\n",
        "        acc_value = acc_fn(y_batch, y_)\n",
        "        val_loss_avg(loss_value2)\n",
        "        val_acc_avg(acc_value)\n",
        "\n",
        "\n",
        "\n",
        "    print(\"Epoch {:03d}: , Train Loss: {:.5f} , Train acc: {:.5f}\".format(epoch, epoch_loss_avg.result(), epoch_acc_avg.result()))\n",
        "    print(\"Val_Loss: {:.3f}, Val_acc: {:.3f}\".format(val_loss_avg.result(), val_acc_avg.result()))\n",
        "\n",
        "BLSTM_loss = float(format(val_loss_avg.result()))\n",
        "BLSTM_ACC = float(format(val_acc_avg.result()))"
      ],
      "execution_count": null,
      "outputs": [
        {
          "output_type": "stream",
          "text": [
            "Epoch 000: , Train Loss: 0.70747 , Train acc: 0.51776\n",
            "Val_Loss: 0.699, Val_acc: 0.513\n",
            "Epoch 001: , Train Loss: 0.71378 , Train acc: 0.50891\n",
            "Val_Loss: 0.697, Val_acc: 0.507\n",
            "Epoch 002: , Train Loss: 0.70835 , Train acc: 0.50824\n",
            "Val_Loss: 0.700, Val_acc: 0.509\n",
            "Epoch 003: , Train Loss: 0.70752 , Train acc: 0.51000\n",
            "Val_Loss: 0.698, Val_acc: 0.511\n",
            "Epoch 004: , Train Loss: 0.71164 , Train acc: 0.50994\n",
            "Val_Loss: 0.697, Val_acc: 0.510\n",
            "Epoch 005: , Train Loss: 0.70796 , Train acc: 0.51039\n",
            "Val_Loss: 0.703, Val_acc: 0.510\n",
            "Epoch 006: , Train Loss: 0.71098 , Train acc: 0.51012\n",
            "Val_Loss: 0.696, Val_acc: 0.510\n",
            "Epoch 007: , Train Loss: 0.71153 , Train acc: 0.50948\n",
            "Val_Loss: 0.698, Val_acc: 0.510\n",
            "Epoch 008: , Train Loss: 0.71076 , Train acc: 0.50965\n",
            "Val_Loss: 0.705, Val_acc: 0.509\n",
            "Epoch 009: , Train Loss: 0.70988 , Train acc: 0.50899\n",
            "Val_Loss: 0.704, Val_acc: 0.509\n",
            "Epoch 010: , Train Loss: 0.71021 , Train acc: 0.50890\n",
            "Val_Loss: 0.705, Val_acc: 0.509\n"
          ],
          "name": "stdout"
        }
      ]
    },
    {
      "cell_type": "code",
      "metadata": {
        "id": "KhbWZBG0Hiqm",
        "colab": {
          "base_uri": "https://localhost:8080/"
        },
        "outputId": "06a444e1-4da7-4c87-fcfd-9fa736a46134"
      },
      "source": [
        "BLSTM_ACC"
      ],
      "execution_count": null,
      "outputs": [
        {
          "output_type": "execute_result",
          "data": {
            "text/plain": [
              "0.5086075663566589"
            ]
          },
          "metadata": {
            "tags": []
          },
          "execution_count": 85
        }
      ]
    },
    {
      "cell_type": "markdown",
      "metadata": {
        "id": "aSyqI4ihsc71"
      },
      "source": [
        "# Convlstm2D"
      ]
    },
    {
      "cell_type": "markdown",
      "metadata": {
        "id": "FlGrIGES4uxg"
      },
      "source": [
        "참고 : https://deep-deep-deep.tistory.com/32 [딥딥딥]"
      ]
    },
    {
      "cell_type": "markdown",
      "metadata": {
        "id": "pApNoPKsFJw_"
      },
      "source": [
        "소스 코드 : https://keras.io/examples/vision/conv_lstm/"
      ]
    },
    {
      "cell_type": "markdown",
      "metadata": {
        "id": "t4dYYXR05h9H"
      },
      "source": [
        "CNN 관련 : http://taewan.kim/post/cnn/"
      ]
    },
    {
      "cell_type": "code",
      "metadata": {
        "id": "NHP8ez-ggauf"
      },
      "source": [],
      "execution_count": null,
      "outputs": []
    },
    {
      "cell_type": "code",
      "metadata": {
        "colab": {
          "base_uri": "https://localhost:8080/"
        },
        "id": "r5OZVgG38_hA",
        "outputId": "b22d3aee-baec-48be-e0ee-afda981c6c7f"
      },
      "source": [
        "seq = keras.Sequential(\n",
        "    [\n",
        "        keras.Input(\n",
        "            shape=(48, 48, 3, 1)\n",
        "        ),  # Variable-length sequence of 40x40x1 frames\n",
        "        layers.ConvLSTM2D(\n",
        "            filters=40, kernel_size=(3, 3), padding=\"same\", return_sequences=True\n",
        "\n",
        "        ),\n",
        "        layers.BatchNormalization(),\n",
        "        layers.Conv3D(\n",
        "            filters=1, kernel_size=(3, 3, 3), activation=\"sigmoid\", padding=\"same\"\n",
        "        ),\n",
        "    ]\n",
        ")\n",
        "seq.compile(loss=\"binary_crossentropy\", optimizer=\"adadelta\")"
      ],
      "execution_count": null,
      "outputs": [
        {
          "output_type": "stream",
          "text": [
            "WARNING:tensorflow:Please add `keras.layers.InputLayer` instead of `keras.Input` to Sequential model. `keras.Input` is intended to be used by Functional model.\n"
          ],
          "name": "stdout"
        }
      ]
    },
    {
      "cell_type": "code",
      "metadata": {
        "colab": {
          "base_uri": "https://localhost:8080/"
        },
        "id": "22gQTfBA9o4m",
        "outputId": "d13049a0-0174-46d4-e677-b136e9067e4b"
      },
      "source": [
        "seq.summary()"
      ],
      "execution_count": null,
      "outputs": [
        {
          "output_type": "stream",
          "text": [
            "Model: \"sequential_5\"\n",
            "_________________________________________________________________\n",
            "Layer (type)                 Output Shape              Param #   \n",
            "=================================================================\n",
            "conv_lst_m2d_1 (ConvLSTM2D)  (None, 48, 48, 3, 40)     59200     \n",
            "_________________________________________________________________\n",
            "batch_normalization_1 (Batch (None, 48, 48, 3, 40)     160       \n",
            "_________________________________________________________________\n",
            "conv3d_1 (Conv3D)            (None, 48, 48, 3, 1)      1081      \n",
            "=================================================================\n",
            "Total params: 60,441\n",
            "Trainable params: 60,361\n",
            "Non-trainable params: 80\n",
            "_________________________________________________________________\n"
          ],
          "name": "stdout"
        }
      ]
    },
    {
      "cell_type": "code",
      "metadata": {
        "colab": {
          "base_uri": "https://localhost:8080/"
        },
        "id": "bziRFm7-9n_P",
        "outputId": "1e1a433e-73f9-485e-8c4c-d5bd1734b7a7"
      },
      "source": [
        "#정확도\n",
        "num_iters = train_len // batch_size\n",
        "num_epochs = 11\n",
        "optimizer = tf.keras.optimizers.Adam(0.0001)\n",
        "loss_fn = tf.keras.losses.BinaryCrossentropy()\n",
        "acc_fn = tf.keras.metrics.BinaryAccuracy()\n",
        "num_test_iters = num_iters // 4\n",
        "for epoch in range(num_epochs) :\n",
        "    epoch_loss_avg = tf.keras.metrics.Mean()\n",
        "    val_loss_avg = tf.keras.metrics.Mean()\n",
        "    epoch_acc_avg = tf.keras.metrics.Mean()\n",
        "    val_acc_avg = tf.keras.metrics.Mean()\n",
        "\n",
        "    for iter in range(num_iters) :\n",
        "        x_batch, y_batch = next(train_gen)\n",
        "        x_batch = x_batch.reshape(16, 48, 48, 3, 1)\n",
        "        y_ = seq(x_batch)[0]\n",
        "        loss_value = loss_fn(y_batch, y_)\n",
        "        acc_value = acc_fn(y_batch, y_)\n",
        "        epoch_loss_avg(loss_value)\n",
        "        epoch_acc_avg(acc_value)\n",
        "\n",
        "    for iter in range(num_test_iters) :\n",
        "        x_batch, y_batch = next(test_gen)\n",
        "        x_batch = x_batch.reshape(16, 48, 48, 3, 1)\n",
        "        y_= seq(x_batch)[0]\n",
        "        loss_value = loss_fn(y_batch, y_)\n",
        "        acc_value = acc_fn(y_batch, y_)\n",
        "        val_loss_avg(loss_value)\n",
        "        val_acc_avg(acc_value)\n",
        "\n",
        "\n",
        "\n",
        "    print(\"Epoch {:03d}: , Train Loss: {:.5f} , Train acc: {:.5f}\".format(epoch, epoch_loss_avg.result(), epoch_acc_avg.result()))\n",
        "    print(\"Val_Loss: {:.3f}, Val_acc: {:.3f}\".format(val_loss_avg.result(), val_acc_avg.result()))\n",
        "\n",
        "Convlstm2D_loss = float(format(val_loss_avg.result()))\n",
        "Convlstm2D_acc = float(format(val_acc_avg.result()))"
      ],
      "execution_count": null,
      "outputs": [
        {
          "output_type": "stream",
          "text": [
            "Epoch 000: , Train Loss: 0.69316 , Train acc: 0.49874\n",
            "Val_Loss: 0.693, Val_acc: 0.501\n",
            "Epoch 001: , Train Loss: 0.69316 , Train acc: 0.49974\n",
            "Val_Loss: 0.693, Val_acc: 0.498\n",
            "Epoch 002: , Train Loss: 0.69316 , Train acc: 0.49844\n",
            "Val_Loss: 0.693, Val_acc: 0.498\n",
            "Epoch 003: , Train Loss: 0.69316 , Train acc: 0.49784\n",
            "Val_Loss: 0.693, Val_acc: 0.498\n",
            "Epoch 004: , Train Loss: 0.69316 , Train acc: 0.49786\n",
            "Val_Loss: 0.693, Val_acc: 0.498\n",
            "Epoch 005: , Train Loss: 0.69316 , Train acc: 0.49780\n",
            "Val_Loss: 0.693, Val_acc: 0.498\n",
            "Epoch 006: , Train Loss: 0.69316 , Train acc: 0.49793\n",
            "Val_Loss: 0.693, Val_acc: 0.498\n",
            "Epoch 007: , Train Loss: 0.69316 , Train acc: 0.49777\n",
            "Val_Loss: 0.693, Val_acc: 0.498\n",
            "Epoch 008: , Train Loss: 0.69316 , Train acc: 0.49776\n",
            "Val_Loss: 0.693, Val_acc: 0.498\n",
            "Epoch 009: , Train Loss: 0.69316 , Train acc: 0.49795\n",
            "Val_Loss: 0.693, Val_acc: 0.498\n",
            "Epoch 010: , Train Loss: 0.69316 , Train acc: 0.49807\n",
            "Val_Loss: 0.693, Val_acc: 0.498\n"
          ],
          "name": "stdout"
        }
      ]
    },
    {
      "cell_type": "code",
      "metadata": {
        "colab": {
          "base_uri": "https://localhost:8080/"
        },
        "id": "cgHQgLUZEZqx",
        "outputId": "8c7e7604-e96c-4614-e23f-b6ded0e9f8db"
      },
      "source": [
        "Convlstm2D_acc"
      ],
      "execution_count": null,
      "outputs": [
        {
          "output_type": "execute_result",
          "data": {
            "text/plain": [
              "0.49788638949394226"
            ]
          },
          "metadata": {
            "tags": []
          },
          "execution_count": 89
        }
      ]
    },
    {
      "cell_type": "markdown",
      "metadata": {
        "id": "LChqUC9grBYo"
      },
      "source": [
        " # CNN-LSTM"
      ]
    },
    {
      "cell_type": "markdown",
      "metadata": {
        "id": "0gKNnS1fTm4d"
      },
      "source": [
        "소스 코드 : https://colab.research.google.com/drive/1rIylR9RWEckndbyFNx1Wl_yUQZUF-wyI#scrollTo=M1QKFdJOYTjx"
      ]
    },
    {
      "cell_type": "code",
      "metadata": {
        "id": "mPjwlBM3JVI_"
      },
      "source": [
        "from tensorflow.keras.models import Sequential\n",
        "from tensorflow.keras.layers import Dense, LSTM, Conv1D, Lambda, ConvLSTM2D, Flatten\n",
        "from tensorflow.keras.losses import Huber\n",
        "from tensorflow.keras.optimizers import Adam\n",
        "from tensorflow.keras.callbacks import EarlyStopping, ModelCheckpoint"
      ],
      "execution_count": null,
      "outputs": []
    },
    {
      "cell_type": "code",
      "metadata": {
        "colab": {
          "base_uri": "https://localhost:8080/"
        },
        "id": "3ThbR1vuUdMF",
        "outputId": "1e300936-26e2-450e-fdd1-5bb6d4cf919d"
      },
      "source": [
        "inputs = keras.Input(shape=(2304, 3))\n",
        "x = inputs\n",
        "# 1차원 feature map 생성\n",
        "x = layers.Conv1D(filters=32, kernel_size=5, padding=\"causal\", activation=\"relu\")(x)\n",
        "# LSTM\n",
        "x = layers.LSTM(16, activation='tanh')(x)\n",
        "x = layers.Dense(16, activation=\"relu\")(x)\n",
        "x = layers.Dense(1, activation='sigmoid')(x)\n",
        "outputs = x\n",
        "\n",
        "M10 = keras.Model(inputs, outputs)\n",
        "M10.summary()"
      ],
      "execution_count": null,
      "outputs": [
        {
          "output_type": "stream",
          "text": [
            "Model: \"model_10\"\n",
            "_________________________________________________________________\n",
            "Layer (type)                 Output Shape              Param #   \n",
            "=================================================================\n",
            "input_13 (InputLayer)        [(None, 2304, 3)]         0         \n",
            "_________________________________________________________________\n",
            "conv1d_4 (Conv1D)            (None, 2304, 32)          512       \n",
            "_________________________________________________________________\n",
            "lstm_12 (LSTM)               (None, 16)                3136      \n",
            "_________________________________________________________________\n",
            "dense_19 (Dense)             (None, 16)                272       \n",
            "_________________________________________________________________\n",
            "dense_20 (Dense)             (None, 1)                 17        \n",
            "=================================================================\n",
            "Total params: 3,937\n",
            "Trainable params: 3,937\n",
            "Non-trainable params: 0\n",
            "_________________________________________________________________\n"
          ],
          "name": "stdout"
        }
      ]
    },
    {
      "cell_type": "code",
      "metadata": {
        "colab": {
          "base_uri": "https://localhost:8080/"
        },
        "id": "RTgPc3LtT3B1",
        "outputId": "1881904a-8c70-4724-d7ff-afec668379f9"
      },
      "source": [
        "#정확도\n",
        "num_iters = train_len // batch_size\n",
        "num_epochs = 11\n",
        "optimizer = tf.keras.optimizers.Adam(0.0001)\n",
        "loss_fn = tf.keras.losses.BinaryCrossentropy()\n",
        "acc_fn = tf.keras.metrics.BinaryAccuracy()\n",
        "num_test_iters = num_iters // 4\n",
        "for epoch in range(num_epochs) :\n",
        "    epoch_loss_avg = tf.keras.metrics.Mean()\n",
        "    val_loss_avg = tf.keras.metrics.Mean()\n",
        "    epoch_acc_avg = tf.keras.metrics.Mean()\n",
        "    val_acc_avg = tf.keras.metrics.Mean()\n",
        "\n",
        "    for iter in range(num_iters) :\n",
        "        x_batch, y_batch = next(train_gen)\n",
        "        x_batch = x_batch.reshape(16, 2304, 3)\n",
        "        y_ = M10(x_batch)\n",
        "        y_batch = y_batch.reshape(-1,1)\n",
        "        loss_value = loss_fn(y_batch, y_)\n",
        "        acc_value = acc_fn(y_batch, y_)\n",
        "        epoch_loss_avg(loss_value)\n",
        "        epoch_acc_avg(acc_value)\n",
        "\n",
        "    for iter in range(num_test_iters) :\n",
        "        x_batch, y_batch = next(test_gen)\n",
        "        x_batch = x_batch.reshape(16, 2304, 3)\n",
        "        y_= M10(x_batch)\n",
        "        y_batch = y_batch.reshape(-1,1)\n",
        "        loss_value = loss_fn(y_batch, y_)\n",
        "        acc_value = acc_fn(y_batch, y_)\n",
        "        val_loss_avg(loss_value)\n",
        "        val_acc_avg(acc_value)\n",
        "\n",
        "\n",
        "\n",
        "    print(\"Epoch {:03d}: , Train Loss: {:.5f} , Train acc: {:.5f}\".format(epoch, epoch_loss_avg.result(), epoch_acc_avg.result()))\n",
        "    print(\"Val_Loss: {:.3f}, Val_acc: {:.3f}\".format(val_loss_avg.result(), val_acc_avg.result()))\n",
        "\n",
        "CNN_LSTM_loss = float(format(val_loss_avg.result()))\n",
        "CNN_LSTM_ACC = float(format(val_acc_avg.result()))"
      ],
      "execution_count": null,
      "outputs": [
        {
          "output_type": "stream",
          "text": [
            "Epoch 000: , Train Loss: 0.69307 , Train acc: 0.50476\n",
            "Val_Loss: 0.694, Val_acc: 0.506\n",
            "Epoch 001: , Train Loss: 0.69366 , Train acc: 0.50379\n",
            "Val_Loss: 0.694, Val_acc: 0.501\n",
            "Epoch 002: , Train Loss: 0.69327 , Train acc: 0.50175\n",
            "Val_Loss: 0.693, Val_acc: 0.502\n",
            "Epoch 003: , Train Loss: 0.69328 , Train acc: 0.50215\n",
            "Val_Loss: 0.694, Val_acc: 0.502\n",
            "Epoch 004: , Train Loss: 0.69324 , Train acc: 0.50203\n",
            "Val_Loss: 0.694, Val_acc: 0.502\n",
            "Epoch 005: , Train Loss: 0.69364 , Train acc: 0.50222\n",
            "Val_Loss: 0.692, Val_acc: 0.503\n",
            "Epoch 006: , Train Loss: 0.69357 , Train acc: 0.50211\n",
            "Val_Loss: 0.693, Val_acc: 0.502\n",
            "Epoch 007: , Train Loss: 0.69320 , Train acc: 0.50244\n",
            "Val_Loss: 0.693, Val_acc: 0.502\n",
            "Epoch 008: , Train Loss: 0.69391 , Train acc: 0.50216\n",
            "Val_Loss: 0.692, Val_acc: 0.502\n",
            "Epoch 009: , Train Loss: 0.69405 , Train acc: 0.50119\n",
            "Val_Loss: 0.693, Val_acc: 0.501\n",
            "Epoch 010: , Train Loss: 0.69304 , Train acc: 0.50123\n",
            "Val_Loss: 0.693, Val_acc: 0.502\n"
          ],
          "name": "stdout"
        }
      ]
    },
    {
      "cell_type": "code",
      "metadata": {
        "colab": {
          "base_uri": "https://localhost:8080/"
        },
        "id": "FQoBcM6XW2A1",
        "outputId": "370463e4-b098-4569-d2b2-5606219b6eb2"
      },
      "source": [
        "CNN_LSTM_ACC"
      ],
      "execution_count": null,
      "outputs": [
        {
          "output_type": "execute_result",
          "data": {
            "text/plain": [
              "0.5015603303909302"
            ]
          },
          "metadata": {
            "tags": []
          },
          "execution_count": 93
        }
      ]
    },
    {
      "cell_type": "markdown",
      "metadata": {
        "id": "PROpLXbDVQ8L"
      },
      "source": [
        "# CNN-BLSTM"
      ]
    },
    {
      "cell_type": "code",
      "metadata": {
        "id": "4lZGZh7-Ldf_"
      },
      "source": [
        "from random import random\n",
        "from numpy import array\n",
        "from numpy import cumsum\n",
        "from keras.models import Sequential\n",
        "from keras.layers import LSTM\n",
        "from keras.layers import Dense\n",
        "from keras.layers import TimeDistributed\n",
        "from keras.layers import Bidirectional\n",
        "from random import random\n",
        "from numpy import array\n",
        "from numpy import cumsum\n",
        "from keras.models import Sequential\n",
        "from keras.layers import LSTM\n",
        "from keras.layers import Dense\n",
        "from keras.layers import TimeDistributed\n",
        "from keras.layers import Bidirectional"
      ],
      "execution_count": null,
      "outputs": []
    },
    {
      "cell_type": "code",
      "metadata": {
        "colab": {
          "base_uri": "https://localhost:8080/"
        },
        "id": "rg5UMArSX0Rd",
        "outputId": "df39040e-17e2-40c6-9d15-63677d9fce5c"
      },
      "source": [
        "inputs = keras.Input(shape=(2304, 3))\n",
        "x = inputs\n",
        "# 1차원 feature map 생성\n",
        "x = layers.Conv1D(filters=32, kernel_size=5, padding=\"causal\", activation=\"relu\")(x)\n",
        "# LSTM\n",
        "x = layers.Bidirectional(LSTM(20, return_sequences=True))(x)\n",
        "x = layers.TimeDistributed(Dense(1, activation='sigmoid'))(x)\n",
        "outputs = x\n",
        "\n",
        "M11 = keras.Model(inputs, outputs)\n",
        "M11.summary()"
      ],
      "execution_count": null,
      "outputs": [
        {
          "output_type": "stream",
          "text": [
            "Model: \"model_11\"\n",
            "_________________________________________________________________\n",
            "Layer (type)                 Output Shape              Param #   \n",
            "=================================================================\n",
            "input_14 (InputLayer)        [(None, 2304, 3)]         0         \n",
            "_________________________________________________________________\n",
            "conv1d_5 (Conv1D)            (None, 2304, 32)          512       \n",
            "_________________________________________________________________\n",
            "bidirectional_3 (Bidirection (None, 2304, 40)          8480      \n",
            "_________________________________________________________________\n",
            "time_distributed_3 (TimeDist (None, 2304, 1)           41        \n",
            "=================================================================\n",
            "Total params: 9,033\n",
            "Trainable params: 9,033\n",
            "Non-trainable params: 0\n",
            "_________________________________________________________________\n"
          ],
          "name": "stdout"
        }
      ]
    },
    {
      "cell_type": "code",
      "metadata": {
        "colab": {
          "base_uri": "https://localhost:8080/"
        },
        "id": "smqQhU_Le_WK",
        "outputId": "0ba82673-0b8c-475d-faf0-96399b9a5204"
      },
      "source": [
        "#정확도\n",
        "num_iters = train_len // batch_size\n",
        "num_epochs = 11\n",
        "optimizer = tf.keras.optimizers.Adam(0.0001)\n",
        "loss_fn = tf.keras.losses.BinaryCrossentropy()\n",
        "acc_fn = tf.keras.metrics.BinaryAccuracy()\n",
        "num_test_iters = num_iters // 4\n",
        "for epoch in range(num_epochs) :\n",
        "    epoch_loss_avg = tf.keras.metrics.Mean()\n",
        "    val_loss_avg = tf.keras.metrics.Mean()\n",
        "    epoch_acc_avg = tf.keras.metrics.Mean()\n",
        "    val_acc_avg = tf.keras.metrics.Mean()\n",
        "\n",
        "    for iter in range(num_iters) :\n",
        "        x_batch, y_batch = next(train_gen)\n",
        "        x_batch = x_batch.reshape(16, 2304, 3)\n",
        "        y_ = M11(x_batch)\n",
        "        loss_value = loss_fn(y_batch, y_)\n",
        "        acc_value = acc_fn(y_batch, y_)\n",
        "        epoch_loss_avg(loss_value)\n",
        "        epoch_acc_avg(acc_value)\n",
        "\n",
        "    for iter in range(num_test_iters) :\n",
        "        x_batch, y_batch = next(test_gen)\n",
        "        x_batch = x_batch.reshape(16, 2304, 3)\n",
        "        y_= M11(x_batch)\n",
        "        loss_value = loss_fn(y_batch, y_)\n",
        "        acc_value = acc_fn(y_batch, y_)\n",
        "        val_loss_avg(loss_value)\n",
        "        val_acc_avg(acc_value)\n",
        "\n",
        "\n",
        "\n",
        "    print(\"Epoch {:03d}: , Train Loss: {:.5f} , Train acc: {:.5f}\".format(epoch, epoch_loss_avg.result(), epoch_acc_avg.result()))\n",
        "    print(\"Val_Loss: {:.3f}, Val_acc: {:.3f}\".format(val_loss_avg.result(), val_acc_avg.result()))\n",
        "\n",
        "CNN_BLSTM_loss = float(format(val_loss_avg.result()))\n",
        "CNN_BLSTM_ACC = float(format(val_acc_avg.result()))"
      ],
      "execution_count": null,
      "outputs": [
        {
          "output_type": "stream",
          "text": [
            "Epoch 000: , Train Loss: 0.69547 , Train acc: 0.49239\n",
            "Val_Loss: 0.698, Val_acc: 0.487\n",
            "Epoch 001: , Train Loss: 0.69431 , Train acc: 0.48830\n",
            "Val_Loss: 0.700, Val_acc: 0.490\n",
            "Epoch 002: , Train Loss: 0.69463 , Train acc: 0.48988\n",
            "Val_Loss: 0.696, Val_acc: 0.491\n",
            "Epoch 003: , Train Loss: 0.69557 , Train acc: 0.49004\n",
            "Val_Loss: 0.699, Val_acc: 0.489\n",
            "Epoch 004: , Train Loss: 0.69468 , Train acc: 0.48898\n",
            "Val_Loss: 0.695, Val_acc: 0.490\n",
            "Epoch 005: , Train Loss: 0.69452 , Train acc: 0.49087\n",
            "Val_Loss: 0.694, Val_acc: 0.492\n",
            "Epoch 006: , Train Loss: 0.69533 , Train acc: 0.49192\n",
            "Val_Loss: 0.695, Val_acc: 0.492\n",
            "Epoch 007: , Train Loss: 0.69501 , Train acc: 0.49194\n",
            "Val_Loss: 0.697, Val_acc: 0.492\n",
            "Epoch 008: , Train Loss: 0.69437 , Train acc: 0.49232\n",
            "Val_Loss: 0.697, Val_acc: 0.492\n",
            "Epoch 009: , Train Loss: 0.69479 , Train acc: 0.49212\n",
            "Val_Loss: 0.698, Val_acc: 0.492\n",
            "Epoch 010: , Train Loss: 0.69464 , Train acc: 0.49222\n",
            "Val_Loss: 0.698, Val_acc: 0.492\n"
          ],
          "name": "stdout"
        }
      ]
    },
    {
      "cell_type": "code",
      "metadata": {
        "colab": {
          "base_uri": "https://localhost:8080/"
        },
        "id": "bsvusoeNZxWM",
        "outputId": "742e594f-22b2-47af-ddfb-919e70842c38"
      },
      "source": [
        "CNN_BLSTM_ACC"
      ],
      "execution_count": null,
      "outputs": [
        {
          "output_type": "execute_result",
          "data": {
            "text/plain": [
              "0.49216732382774353"
            ]
          },
          "metadata": {
            "tags": []
          },
          "execution_count": 97
        }
      ]
    },
    {
      "cell_type": "markdown",
      "metadata": {
        "id": "0EiZgO6zUTiU"
      },
      "source": [
        "# Model Comparison"
      ]
    },
    {
      "cell_type": "code",
      "metadata": {
        "colab": {
          "base_uri": "https://localhost:8080/",
          "height": 331
        },
        "id": "oF4uHYJ1s7P8",
        "outputId": "59d79ce5-d205-4bcb-c9cd-f010e0d7ee02"
      },
      "source": [
        "models = pd.DataFrame({\n",
        "    'Model': ['CNN','ANN', 'GRU', '1D CNN', 'LSTM', 'BLSTM', 'Convlstm2D', 'CNN-LSTM ','CNN-BLSTM'],\n",
        "    'Score': [CNN_ACC, ANN_ACC, GRU_ACC, CNN1D_ACC, LSTM_ACC, BLSTM_ACC, Convlstm2D_acc, CNN_LSTM_ACC, CNN_BLSTM_ACC]})\n",
        "models.sort_values (by='Score', ascending=False)"
      ],
      "execution_count": null,
      "outputs": [
        {
          "output_type": "execute_result",
          "data": {
            "text/html": [
              "<div>\n",
              "<style scoped>\n",
              "    .dataframe tbody tr th:only-of-type {\n",
              "        vertical-align: middle;\n",
              "    }\n",
              "\n",
              "    .dataframe tbody tr th {\n",
              "        vertical-align: top;\n",
              "    }\n",
              "\n",
              "    .dataframe thead th {\n",
              "        text-align: right;\n",
              "    }\n",
              "</style>\n",
              "<table border=\"1\" class=\"dataframe\">\n",
              "  <thead>\n",
              "    <tr style=\"text-align: right;\">\n",
              "      <th></th>\n",
              "      <th>Model</th>\n",
              "      <th>Score</th>\n",
              "    </tr>\n",
              "  </thead>\n",
              "  <tbody>\n",
              "    <tr>\n",
              "      <th>1</th>\n",
              "      <td>ANN</td>\n",
              "      <td>0.512090</td>\n",
              "    </tr>\n",
              "    <tr>\n",
              "      <th>5</th>\n",
              "      <td>BLSTM</td>\n",
              "      <td>0.508608</td>\n",
              "    </tr>\n",
              "    <tr>\n",
              "      <th>7</th>\n",
              "      <td>CNN-LSTM</td>\n",
              "      <td>0.501560</td>\n",
              "    </tr>\n",
              "    <tr>\n",
              "      <th>6</th>\n",
              "      <td>Convlstm2D</td>\n",
              "      <td>0.497886</td>\n",
              "    </tr>\n",
              "    <tr>\n",
              "      <th>3</th>\n",
              "      <td>1D CNN</td>\n",
              "      <td>0.495597</td>\n",
              "    </tr>\n",
              "    <tr>\n",
              "      <th>8</th>\n",
              "      <td>CNN-BLSTM</td>\n",
              "      <td>0.492167</td>\n",
              "    </tr>\n",
              "    <tr>\n",
              "      <th>4</th>\n",
              "      <td>LSTM</td>\n",
              "      <td>0.491069</td>\n",
              "    </tr>\n",
              "    <tr>\n",
              "      <th>0</th>\n",
              "      <td>CNN</td>\n",
              "      <td>0.485658</td>\n",
              "    </tr>\n",
              "    <tr>\n",
              "      <th>2</th>\n",
              "      <td>GRU</td>\n",
              "      <td>0.476878</td>\n",
              "    </tr>\n",
              "  </tbody>\n",
              "</table>\n",
              "</div>"
            ],
            "text/plain": [
              "        Model     Score\n",
              "1         ANN  0.512090\n",
              "5       BLSTM  0.508608\n",
              "7   CNN-LSTM   0.501560\n",
              "6  Convlstm2D  0.497886\n",
              "3      1D CNN  0.495597\n",
              "8   CNN-BLSTM  0.492167\n",
              "4        LSTM  0.491069\n",
              "0         CNN  0.485658\n",
              "2         GRU  0.476878"
            ]
          },
          "metadata": {
            "tags": []
          },
          "execution_count": 98
        }
      ]
    },
    {
      "cell_type": "code",
      "metadata": {
        "id": "csuenHpw3l66"
      },
      "source": [],
      "execution_count": null,
      "outputs": []
    }
  ]
}